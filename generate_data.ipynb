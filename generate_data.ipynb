{
 "cells": [
  {
   "cell_type": "code",
   "execution_count": 46,
   "metadata": {},
   "outputs": [
    {
     "name": "stdout",
     "output_type": "stream",
     "text": [
      "404 Not Found\n",
      "{\"error\":{\"code\":2010,\"message\":\"Could not find routable point within a radius of 350.0 meters of specified coordinate 1: 46.6031420 6.5367834.\"},\"info\":{\"engine\":{\"build_date\":\"2025-04-10T21:25:30Z\",\"graph_version\":\"1\",\"version\":\"9.1.2\"},\"timestamp\":1746457343959}}\n"
     ]
    }
   ],
   "source": [
    "import requests\n",
    "API_key = '5b3ce3597851110001cf62487fdbd58fccf548529a19d99f12b4692d'\n",
    "headers = {\n",
    "    'Accept': 'application/json, application/geo+json, application/gpx+xml, img/png; charset=utf-8',\n",
    "}\n",
    "call = requests.get(f'https://api.openrouteservice.org/v2/directions/driving-car?api_key={API_key}&start=6.968953,46.313884&end=46.60314203414339,6.5367833784414175', headers=headers)\n",
    "print(call.status_code, call.reason)\n",
    "print(call.text)"
   ]
  },
  {
   "cell_type": "code",
   "execution_count": 15,
   "metadata": {},
   "outputs": [
    {
     "data": {
      "text/html": [
       "<div>\n",
       "<style scoped>\n",
       "    .dataframe tbody tr th:only-of-type {\n",
       "        vertical-align: middle;\n",
       "    }\n",
       "\n",
       "    .dataframe tbody tr th {\n",
       "        vertical-align: top;\n",
       "    }\n",
       "\n",
       "    .dataframe thead th {\n",
       "        text-align: right;\n",
       "    }\n",
       "</style>\n",
       "<table border=\"1\" class=\"dataframe\">\n",
       "  <thead>\n",
       "    <tr style=\"text-align: right;\">\n",
       "      <th></th>\n",
       "      <th>commune</th>\n",
       "      <th>NPA</th>\n",
       "      <th></th>\n",
       "      <th>Commune d'annonce</th>\n",
       "      <th>Commune d'annonce référence</th>\n",
       "      <th>canton</th>\n",
       "      <th>E</th>\n",
       "      <th>N</th>\n",
       "      <th>langue</th>\n",
       "      <th>date_validite</th>\n",
       "    </tr>\n",
       "  </thead>\n",
       "  <tbody>\n",
       "    <tr>\n",
       "      <th>0</th>\n",
       "      <td>Aigle</td>\n",
       "      <td>1860</td>\n",
       "      <td>0</td>\n",
       "      <td>Aigle</td>\n",
       "      <td>5401</td>\n",
       "      <td>VD</td>\n",
       "      <td>2563821.020</td>\n",
       "      <td>1129273.277</td>\n",
       "      <td>fr</td>\n",
       "      <td>2008-07-01</td>\n",
       "    </tr>\n",
       "    <tr>\n",
       "      <th>1</th>\n",
       "      <td>Le Sépey</td>\n",
       "      <td>1863</td>\n",
       "      <td>0</td>\n",
       "      <td>Aigle</td>\n",
       "      <td>5401</td>\n",
       "      <td>VD</td>\n",
       "      <td>2568544.893</td>\n",
       "      <td>1131955.818</td>\n",
       "      <td>fr</td>\n",
       "      <td>2008-07-01</td>\n",
       "    </tr>\n",
       "    <tr>\n",
       "      <th>2</th>\n",
       "      <td>Bex</td>\n",
       "      <td>1880</td>\n",
       "      <td>0</td>\n",
       "      <td>Bex</td>\n",
       "      <td>5402</td>\n",
       "      <td>VD</td>\n",
       "      <td>2567230.358</td>\n",
       "      <td>1121779.532</td>\n",
       "      <td>fr</td>\n",
       "      <td>2008-07-01</td>\n",
       "    </tr>\n",
       "    <tr>\n",
       "      <th>3</th>\n",
       "      <td>Frenières-sur-Bex</td>\n",
       "      <td>1880</td>\n",
       "      <td>2</td>\n",
       "      <td>Bex</td>\n",
       "      <td>5402</td>\n",
       "      <td>VD</td>\n",
       "      <td>2571040.657</td>\n",
       "      <td>1121183.948</td>\n",
       "      <td>fr</td>\n",
       "      <td>2008-07-01</td>\n",
       "    </tr>\n",
       "    <tr>\n",
       "      <th>4</th>\n",
       "      <td>Fenalet-sur-Bex</td>\n",
       "      <td>1880</td>\n",
       "      <td>3</td>\n",
       "      <td>Bex</td>\n",
       "      <td>5402</td>\n",
       "      <td>VD</td>\n",
       "      <td>2568662.358</td>\n",
       "      <td>1125041.373</td>\n",
       "      <td>fr</td>\n",
       "      <td>2008-07-01</td>\n",
       "    </tr>\n",
       "    <tr>\n",
       "      <th>...</th>\n",
       "      <td>...</td>\n",
       "      <td>...</td>\n",
       "      <td>...</td>\n",
       "      <td>...</td>\n",
       "      <td>...</td>\n",
       "      <td>...</td>\n",
       "      <td>...</td>\n",
       "      <td>...</td>\n",
       "      <td>...</td>\n",
       "      <td>...</td>\n",
       "    </tr>\n",
       "    <tr>\n",
       "      <th>540</th>\n",
       "      <td>Villars-Epeney</td>\n",
       "      <td>1404</td>\n",
       "      <td>2</td>\n",
       "      <td>Villars-Epeney</td>\n",
       "      <td>5935</td>\n",
       "      <td>VD</td>\n",
       "      <td>2543412.650</td>\n",
       "      <td>1181535.124</td>\n",
       "      <td>fr</td>\n",
       "      <td>2008-07-01</td>\n",
       "    </tr>\n",
       "    <tr>\n",
       "      <th>541</th>\n",
       "      <td>Vugelles-La Mothe</td>\n",
       "      <td>1431</td>\n",
       "      <td>0</td>\n",
       "      <td>Vugelles-La Mothe</td>\n",
       "      <td>5937</td>\n",
       "      <td>VD</td>\n",
       "      <td>2534182.487</td>\n",
       "      <td>1186399.984</td>\n",
       "      <td>fr</td>\n",
       "      <td>2008-07-01</td>\n",
       "    </tr>\n",
       "    <tr>\n",
       "      <th>542</th>\n",
       "      <td>Yverdon-les-Bains</td>\n",
       "      <td>1400</td>\n",
       "      <td>0</td>\n",
       "      <td>Yverdon-les-Bains</td>\n",
       "      <td>5938</td>\n",
       "      <td>VD</td>\n",
       "      <td>2539180.581</td>\n",
       "      <td>1180801.624</td>\n",
       "      <td>fr</td>\n",
       "      <td>2008-07-01</td>\n",
       "    </tr>\n",
       "    <tr>\n",
       "      <th>543</th>\n",
       "      <td>Gressy</td>\n",
       "      <td>1432</td>\n",
       "      <td>2</td>\n",
       "      <td>Yverdon-les-Bains</td>\n",
       "      <td>5938</td>\n",
       "      <td>VD</td>\n",
       "      <td>2538768.002</td>\n",
       "      <td>1178103.684</td>\n",
       "      <td>fr</td>\n",
       "      <td>2008-07-01</td>\n",
       "    </tr>\n",
       "    <tr>\n",
       "      <th>544</th>\n",
       "      <td>Yvonand</td>\n",
       "      <td>1462</td>\n",
       "      <td>0</td>\n",
       "      <td>Yvonand</td>\n",
       "      <td>5939</td>\n",
       "      <td>VD</td>\n",
       "      <td>2545972.750</td>\n",
       "      <td>1182253.710</td>\n",
       "      <td>fr</td>\n",
       "      <td>2008-07-01</td>\n",
       "    </tr>\n",
       "  </tbody>\n",
       "</table>\n",
       "<p>545 rows × 10 columns</p>\n",
       "</div>"
      ],
      "text/plain": [
       "               commune   NPA     Commune d'annonce  \\\n",
       "0                Aigle  1860  0              Aigle   \n",
       "1             Le Sépey  1863  0              Aigle   \n",
       "2                  Bex  1880  0                Bex   \n",
       "3    Frenières-sur-Bex  1880  2                Bex   \n",
       "4      Fenalet-sur-Bex  1880  3                Bex   \n",
       "..                 ...   ... ..                ...   \n",
       "540     Villars-Epeney  1404  2     Villars-Epeney   \n",
       "541  Vugelles-La Mothe  1431  0  Vugelles-La Mothe   \n",
       "542  Yverdon-les-Bains  1400  0  Yverdon-les-Bains   \n",
       "543             Gressy  1432  2  Yverdon-les-Bains   \n",
       "544            Yvonand  1462  0            Yvonand   \n",
       "\n",
       "     Commune d'annonce référence canton            E            N langue  \\\n",
       "0                           5401     VD  2563821.020  1129273.277     fr   \n",
       "1                           5401     VD  2568544.893  1131955.818     fr   \n",
       "2                           5402     VD  2567230.358  1121779.532     fr   \n",
       "3                           5402     VD  2571040.657  1121183.948     fr   \n",
       "4                           5402     VD  2568662.358  1125041.373     fr   \n",
       "..                           ...    ...          ...          ...    ...   \n",
       "540                         5935     VD  2543412.650  1181535.124     fr   \n",
       "541                         5937     VD  2534182.487  1186399.984     fr   \n",
       "542                         5938     VD  2539180.581  1180801.624     fr   \n",
       "543                         5938     VD  2538768.002  1178103.684     fr   \n",
       "544                         5939     VD  2545972.750  1182253.710     fr   \n",
       "\n",
       "    date_validite  \n",
       "0      2008-07-01  \n",
       "1      2008-07-01  \n",
       "2      2008-07-01  \n",
       "3      2008-07-01  \n",
       "4      2008-07-01  \n",
       "..            ...  \n",
       "540    2008-07-01  \n",
       "541    2008-07-01  \n",
       "542    2008-07-01  \n",
       "543    2008-07-01  \n",
       "544    2008-07-01  \n",
       "\n",
       "[545 rows x 10 columns]"
      ]
     },
     "execution_count": 15,
     "metadata": {},
     "output_type": "execute_result"
    }
   ],
   "source": [
    "import pandas as pd\n",
    "repo_url='https://raw.githubusercontent.com/baertsch/MGT-530-SLO/main/'\n",
    "column_names = ['commune', 'NPA', '',\"Commune d'annonce\",\"Commune d'annonce référence\",'canton','E','N', 'langue','date_validite']  # example\n",
    "vaud_cities = pd.read_excel(repo_url+'vaud_communes.xlsx',header=None, names=column_names)\n",
    "vaud_cities"
   ]
  },
  {
   "cell_type": "code",
   "execution_count": 29,
   "metadata": {},
   "outputs": [],
   "source": [
    "coordonnees_venoge = '46.60396069250175, 6.538034286509177'"
   ]
  },
  {
   "cell_type": "code",
   "execution_count": 17,
   "metadata": {},
   "outputs": [],
   "source": [
    "import math\n",
    "# Convert CH y/x to WGS lat\n",
    "def CHtoWGSlat(y, x):\n",
    "    # Axiliary values (% Bern)\n",
    "    y_aux = (y - 600000) / 1000000\n",
    "    x_aux = (x - 200000) / 1000000\n",
    "    lat = (16.9023892 + (3.238272 * x_aux)) + \\\n",
    "            - (0.270978 * pow(y_aux, 2)) + \\\n",
    "            - (0.002528 * pow(x_aux, 2)) + \\\n",
    "            - (0.0447 * pow(y_aux, 2) * x_aux) + \\\n",
    "            - (0.0140 * pow(x_aux, 3))\n",
    "    # Unit 10000\" to 1\" and convert seconds to degrees (dec)\n",
    "    lat = (lat * 100) / 36\n",
    "    return lat\n",
    "\n",
    "        # Convert CH y/x to WGS long\n",
    "def CHtoWGSlng( y, x):\n",
    "    # Axiliary values (% Bern)\n",
    "    y_aux = (y - 600000) / 1000000\n",
    "    x_aux = (x - 200000) / 1000000\n",
    "    lng = (2.6779094 + (4.728982 * y_aux) + \\\n",
    "        + (0.791484 * y_aux * x_aux) + \\\n",
    "        + (0.1306 * y_aux * pow(x_aux, 2))) + \\\n",
    "        - (0.0436 * pow(y_aux, 3))\n",
    "    # Unit 10000\" to 1\" and convert seconds to degrees (dec)\n",
    "    lng = (lng * 100) / 36\n",
    "    return lng"
   ]
  },
  {
   "cell_type": "code",
   "execution_count": 23,
   "metadata": {},
   "outputs": [],
   "source": [
    "vaud_cities['lat'] = vaud_cities.apply(lambda x: CHtoWGSlat(x['E_lv03'], x['N_lv03']), axis=1)\n",
    "vaud_cities['lng'] = vaud_cities.apply(lambda x: CHtoWGSlng(x['E_lv03'], x['N_lv03']), axis=1)\n"
   ]
  },
  {
   "cell_type": "code",
   "execution_count": 22,
   "metadata": {},
   "outputs": [],
   "source": [
    "vaud_cities['E_lv03'] = vaud_cities['E']-2000000\n",
    "vaud_cities['N_lv03'] = vaud_cities['N']-1000000"
   ]
  },
  {
   "cell_type": "code",
   "execution_count": 24,
   "metadata": {},
   "outputs": [
    {
     "data": {
      "text/html": [
       "<div>\n",
       "<style scoped>\n",
       "    .dataframe tbody tr th:only-of-type {\n",
       "        vertical-align: middle;\n",
       "    }\n",
       "\n",
       "    .dataframe tbody tr th {\n",
       "        vertical-align: top;\n",
       "    }\n",
       "\n",
       "    .dataframe thead th {\n",
       "        text-align: right;\n",
       "    }\n",
       "</style>\n",
       "<table border=\"1\" class=\"dataframe\">\n",
       "  <thead>\n",
       "    <tr style=\"text-align: right;\">\n",
       "      <th></th>\n",
       "      <th>commune</th>\n",
       "      <th>NPA</th>\n",
       "      <th></th>\n",
       "      <th>Commune d'annonce</th>\n",
       "      <th>Commune d'annonce référence</th>\n",
       "      <th>canton</th>\n",
       "      <th>E</th>\n",
       "      <th>N</th>\n",
       "      <th>langue</th>\n",
       "      <th>date_validite</th>\n",
       "      <th>lat</th>\n",
       "      <th>lng</th>\n",
       "      <th>E_lv03</th>\n",
       "      <th>N_lv03</th>\n",
       "    </tr>\n",
       "  </thead>\n",
       "  <tbody>\n",
       "    <tr>\n",
       "      <th>0</th>\n",
       "      <td>Aigle</td>\n",
       "      <td>1860</td>\n",
       "      <td>0</td>\n",
       "      <td>Aigle</td>\n",
       "      <td>5401</td>\n",
       "      <td>VD</td>\n",
       "      <td>2563821.020</td>\n",
       "      <td>1129273.277</td>\n",
       "      <td>fr</td>\n",
       "      <td>2008-07-01</td>\n",
       "      <td>46.313885</td>\n",
       "      <td>6.968954</td>\n",
       "      <td>563821.020</td>\n",
       "      <td>129273.277</td>\n",
       "    </tr>\n",
       "    <tr>\n",
       "      <th>1</th>\n",
       "      <td>Le Sépey</td>\n",
       "      <td>1863</td>\n",
       "      <td>0</td>\n",
       "      <td>Aigle</td>\n",
       "      <td>5401</td>\n",
       "      <td>VD</td>\n",
       "      <td>2568544.893</td>\n",
       "      <td>1131955.818</td>\n",
       "      <td>fr</td>\n",
       "      <td>2008-07-01</td>\n",
       "      <td>46.338253</td>\n",
       "      <td>7.030098</td>\n",
       "      <td>568544.893</td>\n",
       "      <td>131955.818</td>\n",
       "    </tr>\n",
       "    <tr>\n",
       "      <th>2</th>\n",
       "      <td>Bex</td>\n",
       "      <td>1880</td>\n",
       "      <td>0</td>\n",
       "      <td>Bex</td>\n",
       "      <td>5402</td>\n",
       "      <td>VD</td>\n",
       "      <td>2567230.358</td>\n",
       "      <td>1121779.532</td>\n",
       "      <td>fr</td>\n",
       "      <td>2008-07-01</td>\n",
       "      <td>46.246650</td>\n",
       "      <td>7.013740</td>\n",
       "      <td>567230.358</td>\n",
       "      <td>121779.532</td>\n",
       "    </tr>\n",
       "    <tr>\n",
       "      <th>3</th>\n",
       "      <td>Frenières-sur-Bex</td>\n",
       "      <td>1880</td>\n",
       "      <td>2</td>\n",
       "      <td>Bex</td>\n",
       "      <td>5402</td>\n",
       "      <td>VD</td>\n",
       "      <td>2571040.657</td>\n",
       "      <td>1121183.948</td>\n",
       "      <td>fr</td>\n",
       "      <td>2008-07-01</td>\n",
       "      <td>46.241467</td>\n",
       "      <td>7.063181</td>\n",
       "      <td>571040.657</td>\n",
       "      <td>121183.948</td>\n",
       "    </tr>\n",
       "    <tr>\n",
       "      <th>4</th>\n",
       "      <td>Fenalet-sur-Bex</td>\n",
       "      <td>1880</td>\n",
       "      <td>3</td>\n",
       "      <td>Bex</td>\n",
       "      <td>5402</td>\n",
       "      <td>VD</td>\n",
       "      <td>2568662.358</td>\n",
       "      <td>1125041.373</td>\n",
       "      <td>fr</td>\n",
       "      <td>2008-07-01</td>\n",
       "      <td>46.276060</td>\n",
       "      <td>7.032088</td>\n",
       "      <td>568662.358</td>\n",
       "      <td>125041.373</td>\n",
       "    </tr>\n",
       "    <tr>\n",
       "      <th>...</th>\n",
       "      <td>...</td>\n",
       "      <td>...</td>\n",
       "      <td>...</td>\n",
       "      <td>...</td>\n",
       "      <td>...</td>\n",
       "      <td>...</td>\n",
       "      <td>...</td>\n",
       "      <td>...</td>\n",
       "      <td>...</td>\n",
       "      <td>...</td>\n",
       "      <td>...</td>\n",
       "      <td>...</td>\n",
       "      <td>...</td>\n",
       "      <td>...</td>\n",
       "    </tr>\n",
       "    <tr>\n",
       "      <th>540</th>\n",
       "      <td>Villars-Epeney</td>\n",
       "      <td>1404</td>\n",
       "      <td>2</td>\n",
       "      <td>Villars-Epeney</td>\n",
       "      <td>5935</td>\n",
       "      <td>VD</td>\n",
       "      <td>2543412.650</td>\n",
       "      <td>1181535.124</td>\n",
       "      <td>fr</td>\n",
       "      <td>2008-07-01</td>\n",
       "      <td>46.782581</td>\n",
       "      <td>6.697615</td>\n",
       "      <td>543412.650</td>\n",
       "      <td>181535.124</td>\n",
       "    </tr>\n",
       "    <tr>\n",
       "      <th>541</th>\n",
       "      <td>Vugelles-La Mothe</td>\n",
       "      <td>1431</td>\n",
       "      <td>0</td>\n",
       "      <td>Vugelles-La Mothe</td>\n",
       "      <td>5937</td>\n",
       "      <td>VD</td>\n",
       "      <td>2534182.487</td>\n",
       "      <td>1186399.984</td>\n",
       "      <td>fr</td>\n",
       "      <td>2008-07-01</td>\n",
       "      <td>46.825492</td>\n",
       "      <td>6.576052</td>\n",
       "      <td>534182.487</td>\n",
       "      <td>186399.984</td>\n",
       "    </tr>\n",
       "    <tr>\n",
       "      <th>542</th>\n",
       "      <td>Yverdon-les-Bains</td>\n",
       "      <td>1400</td>\n",
       "      <td>0</td>\n",
       "      <td>Yverdon-les-Bains</td>\n",
       "      <td>5938</td>\n",
       "      <td>VD</td>\n",
       "      <td>2539180.581</td>\n",
       "      <td>1180801.624</td>\n",
       "      <td>fr</td>\n",
       "      <td>2008-07-01</td>\n",
       "      <td>46.775610</td>\n",
       "      <td>6.642296</td>\n",
       "      <td>539180.581</td>\n",
       "      <td>180801.624</td>\n",
       "    </tr>\n",
       "    <tr>\n",
       "      <th>543</th>\n",
       "      <td>Gressy</td>\n",
       "      <td>1432</td>\n",
       "      <td>2</td>\n",
       "      <td>Yverdon-les-Bains</td>\n",
       "      <td>5938</td>\n",
       "      <td>VD</td>\n",
       "      <td>2538768.002</td>\n",
       "      <td>1178103.684</td>\n",
       "      <td>fr</td>\n",
       "      <td>2008-07-01</td>\n",
       "      <td>46.751304</td>\n",
       "      <td>6.637255</td>\n",
       "      <td>538768.002</td>\n",
       "      <td>178103.684</td>\n",
       "    </tr>\n",
       "    <tr>\n",
       "      <th>544</th>\n",
       "      <td>Yvonand</td>\n",
       "      <td>1462</td>\n",
       "      <td>0</td>\n",
       "      <td>Yvonand</td>\n",
       "      <td>5939</td>\n",
       "      <td>VD</td>\n",
       "      <td>2545972.750</td>\n",
       "      <td>1182253.710</td>\n",
       "      <td>fr</td>\n",
       "      <td>2008-07-01</td>\n",
       "      <td>46.789257</td>\n",
       "      <td>6.731053</td>\n",
       "      <td>545972.750</td>\n",
       "      <td>182253.710</td>\n",
       "    </tr>\n",
       "  </tbody>\n",
       "</table>\n",
       "<p>545 rows × 14 columns</p>\n",
       "</div>"
      ],
      "text/plain": [
       "               commune   NPA     Commune d'annonce  \\\n",
       "0                Aigle  1860  0              Aigle   \n",
       "1             Le Sépey  1863  0              Aigle   \n",
       "2                  Bex  1880  0                Bex   \n",
       "3    Frenières-sur-Bex  1880  2                Bex   \n",
       "4      Fenalet-sur-Bex  1880  3                Bex   \n",
       "..                 ...   ... ..                ...   \n",
       "540     Villars-Epeney  1404  2     Villars-Epeney   \n",
       "541  Vugelles-La Mothe  1431  0  Vugelles-La Mothe   \n",
       "542  Yverdon-les-Bains  1400  0  Yverdon-les-Bains   \n",
       "543             Gressy  1432  2  Yverdon-les-Bains   \n",
       "544            Yvonand  1462  0            Yvonand   \n",
       "\n",
       "     Commune d'annonce référence canton            E            N langue  \\\n",
       "0                           5401     VD  2563821.020  1129273.277     fr   \n",
       "1                           5401     VD  2568544.893  1131955.818     fr   \n",
       "2                           5402     VD  2567230.358  1121779.532     fr   \n",
       "3                           5402     VD  2571040.657  1121183.948     fr   \n",
       "4                           5402     VD  2568662.358  1125041.373     fr   \n",
       "..                           ...    ...          ...          ...    ...   \n",
       "540                         5935     VD  2543412.650  1181535.124     fr   \n",
       "541                         5937     VD  2534182.487  1186399.984     fr   \n",
       "542                         5938     VD  2539180.581  1180801.624     fr   \n",
       "543                         5938     VD  2538768.002  1178103.684     fr   \n",
       "544                         5939     VD  2545972.750  1182253.710     fr   \n",
       "\n",
       "    date_validite        lat       lng      E_lv03      N_lv03  \n",
       "0      2008-07-01  46.313885  6.968954  563821.020  129273.277  \n",
       "1      2008-07-01  46.338253  7.030098  568544.893  131955.818  \n",
       "2      2008-07-01  46.246650  7.013740  567230.358  121779.532  \n",
       "3      2008-07-01  46.241467  7.063181  571040.657  121183.948  \n",
       "4      2008-07-01  46.276060  7.032088  568662.358  125041.373  \n",
       "..            ...        ...       ...         ...         ...  \n",
       "540    2008-07-01  46.782581  6.697615  543412.650  181535.124  \n",
       "541    2008-07-01  46.825492  6.576052  534182.487  186399.984  \n",
       "542    2008-07-01  46.775610  6.642296  539180.581  180801.624  \n",
       "543    2008-07-01  46.751304  6.637255  538768.002  178103.684  \n",
       "544    2008-07-01  46.789257  6.731053  545972.750  182253.710  \n",
       "\n",
       "[545 rows x 14 columns]"
      ]
     },
     "execution_count": 24,
     "metadata": {},
     "output_type": "execute_result"
    }
   ],
   "source": [
    "vaud_cities"
   ]
  },
  {
   "cell_type": "code",
   "execution_count": 25,
   "metadata": {},
   "outputs": [],
   "source": [
    "vaud_cities['distance_to_venoge_km'] = None"
   ]
  },
  {
   "cell_type": "code",
   "execution_count": 42,
   "metadata": {},
   "outputs": [
    {
     "name": "stdout",
     "output_type": "stream",
     "text": [
      "6.968953748717655,46.31388497394788\n"
     ]
    }
   ],
   "source": [
    "city=f\"{vaud_cities[vaud_cities['commune'] == 'Aigle']['lng'].iloc[0]},{vaud_cities[vaud_cities['commune'] == 'Aigle']['lat'].iloc[0]}\"\n",
    "print(city)"
   ]
  },
  {
   "cell_type": "code",
   "execution_count": 39,
   "metadata": {},
   "outputs": [
    {
     "ename": "ConnectionError",
     "evalue": "HTTPSConnectionPool(host='api.openrouteservice.org%20', port=443): Max retries exceeded with url: /v2/directions/driving-car?%20api_key%20=%205b3ce3597851110001cf62487fdbd58fccf548529a19d99f12b4692d&%20start%20=%2046.31388497394788,6.968953748717655&%20end%20=%2046.60396069250175,%206.538034286509177 (Caused by NameResolutionError(\"<urllib3.connection.HTTPSConnection object at 0x123e50f50>: Failed to resolve 'api.openrouteservice.org%20' ([Errno 8] nodename nor servname provided, or not known)\"))",
     "output_type": "error",
     "traceback": [
      "\u001b[0;31m---------------------------------------------------------------------------\u001b[0m",
      "\u001b[0;31mgaierror\u001b[0m                                  Traceback (most recent call last)",
      "File \u001b[0;32m~/MGT-502/.conda/lib/python3.11/site-packages/urllib3/connection.py:198\u001b[0m, in \u001b[0;36mHTTPConnection._new_conn\u001b[0;34m(self)\u001b[0m\n\u001b[1;32m    197\u001b[0m \u001b[38;5;28;01mtry\u001b[39;00m:\n\u001b[0;32m--> 198\u001b[0m     sock \u001b[38;5;241m=\u001b[39m \u001b[43mconnection\u001b[49m\u001b[38;5;241;43m.\u001b[39;49m\u001b[43mcreate_connection\u001b[49m\u001b[43m(\u001b[49m\n\u001b[1;32m    199\u001b[0m \u001b[43m        \u001b[49m\u001b[43m(\u001b[49m\u001b[38;5;28;43mself\u001b[39;49m\u001b[38;5;241;43m.\u001b[39;49m\u001b[43m_dns_host\u001b[49m\u001b[43m,\u001b[49m\u001b[43m \u001b[49m\u001b[38;5;28;43mself\u001b[39;49m\u001b[38;5;241;43m.\u001b[39;49m\u001b[43mport\u001b[49m\u001b[43m)\u001b[49m\u001b[43m,\u001b[49m\n\u001b[1;32m    200\u001b[0m \u001b[43m        \u001b[49m\u001b[38;5;28;43mself\u001b[39;49m\u001b[38;5;241;43m.\u001b[39;49m\u001b[43mtimeout\u001b[49m\u001b[43m,\u001b[49m\n\u001b[1;32m    201\u001b[0m \u001b[43m        \u001b[49m\u001b[43msource_address\u001b[49m\u001b[38;5;241;43m=\u001b[39;49m\u001b[38;5;28;43mself\u001b[39;49m\u001b[38;5;241;43m.\u001b[39;49m\u001b[43msource_address\u001b[49m\u001b[43m,\u001b[49m\n\u001b[1;32m    202\u001b[0m \u001b[43m        \u001b[49m\u001b[43msocket_options\u001b[49m\u001b[38;5;241;43m=\u001b[39;49m\u001b[38;5;28;43mself\u001b[39;49m\u001b[38;5;241;43m.\u001b[39;49m\u001b[43msocket_options\u001b[49m\u001b[43m,\u001b[49m\n\u001b[1;32m    203\u001b[0m \u001b[43m    \u001b[49m\u001b[43m)\u001b[49m\n\u001b[1;32m    204\u001b[0m \u001b[38;5;28;01mexcept\u001b[39;00m socket\u001b[38;5;241m.\u001b[39mgaierror \u001b[38;5;28;01mas\u001b[39;00m e:\n",
      "File \u001b[0;32m~/MGT-502/.conda/lib/python3.11/site-packages/urllib3/util/connection.py:60\u001b[0m, in \u001b[0;36mcreate_connection\u001b[0;34m(address, timeout, source_address, socket_options)\u001b[0m\n\u001b[1;32m     58\u001b[0m     \u001b[38;5;28;01mraise\u001b[39;00m LocationParseError(\u001b[38;5;124mf\u001b[39m\u001b[38;5;124m\"\u001b[39m\u001b[38;5;124m'\u001b[39m\u001b[38;5;132;01m{\u001b[39;00mhost\u001b[38;5;132;01m}\u001b[39;00m\u001b[38;5;124m'\u001b[39m\u001b[38;5;124m, label empty or too long\u001b[39m\u001b[38;5;124m\"\u001b[39m) \u001b[38;5;28;01mfrom\u001b[39;00m\u001b[38;5;250m \u001b[39m\u001b[38;5;28;01mNone\u001b[39;00m\n\u001b[0;32m---> 60\u001b[0m \u001b[38;5;28;01mfor\u001b[39;00m res \u001b[38;5;129;01min\u001b[39;00m \u001b[43msocket\u001b[49m\u001b[38;5;241;43m.\u001b[39;49m\u001b[43mgetaddrinfo\u001b[49m\u001b[43m(\u001b[49m\u001b[43mhost\u001b[49m\u001b[43m,\u001b[49m\u001b[43m \u001b[49m\u001b[43mport\u001b[49m\u001b[43m,\u001b[49m\u001b[43m \u001b[49m\u001b[43mfamily\u001b[49m\u001b[43m,\u001b[49m\u001b[43m \u001b[49m\u001b[43msocket\u001b[49m\u001b[38;5;241;43m.\u001b[39;49m\u001b[43mSOCK_STREAM\u001b[49m\u001b[43m)\u001b[49m:\n\u001b[1;32m     61\u001b[0m     af, socktype, proto, canonname, sa \u001b[38;5;241m=\u001b[39m res\n",
      "File \u001b[0;32m~/MGT-502/.conda/lib/python3.11/socket.py:974\u001b[0m, in \u001b[0;36mgetaddrinfo\u001b[0;34m(host, port, family, type, proto, flags)\u001b[0m\n\u001b[1;32m    973\u001b[0m addrlist \u001b[38;5;241m=\u001b[39m []\n\u001b[0;32m--> 974\u001b[0m \u001b[38;5;28;01mfor\u001b[39;00m res \u001b[38;5;129;01min\u001b[39;00m \u001b[43m_socket\u001b[49m\u001b[38;5;241;43m.\u001b[39;49m\u001b[43mgetaddrinfo\u001b[49m\u001b[43m(\u001b[49m\u001b[43mhost\u001b[49m\u001b[43m,\u001b[49m\u001b[43m \u001b[49m\u001b[43mport\u001b[49m\u001b[43m,\u001b[49m\u001b[43m \u001b[49m\u001b[43mfamily\u001b[49m\u001b[43m,\u001b[49m\u001b[43m \u001b[49m\u001b[38;5;28;43mtype\u001b[39;49m\u001b[43m,\u001b[49m\u001b[43m \u001b[49m\u001b[43mproto\u001b[49m\u001b[43m,\u001b[49m\u001b[43m \u001b[49m\u001b[43mflags\u001b[49m\u001b[43m)\u001b[49m:\n\u001b[1;32m    975\u001b[0m     af, socktype, proto, canonname, sa \u001b[38;5;241m=\u001b[39m res\n",
      "\u001b[0;31mgaierror\u001b[0m: [Errno 8] nodename nor servname provided, or not known",
      "\nThe above exception was the direct cause of the following exception:\n",
      "\u001b[0;31mNameResolutionError\u001b[0m                       Traceback (most recent call last)",
      "File \u001b[0;32m~/MGT-502/.conda/lib/python3.11/site-packages/urllib3/connectionpool.py:787\u001b[0m, in \u001b[0;36mHTTPConnectionPool.urlopen\u001b[0;34m(self, method, url, body, headers, retries, redirect, assert_same_host, timeout, pool_timeout, release_conn, chunked, body_pos, preload_content, decode_content, **response_kw)\u001b[0m\n\u001b[1;32m    786\u001b[0m \u001b[38;5;66;03m# Make the request on the HTTPConnection object\u001b[39;00m\n\u001b[0;32m--> 787\u001b[0m response \u001b[38;5;241m=\u001b[39m \u001b[38;5;28;43mself\u001b[39;49m\u001b[38;5;241;43m.\u001b[39;49m\u001b[43m_make_request\u001b[49m\u001b[43m(\u001b[49m\n\u001b[1;32m    788\u001b[0m \u001b[43m    \u001b[49m\u001b[43mconn\u001b[49m\u001b[43m,\u001b[49m\n\u001b[1;32m    789\u001b[0m \u001b[43m    \u001b[49m\u001b[43mmethod\u001b[49m\u001b[43m,\u001b[49m\n\u001b[1;32m    790\u001b[0m \u001b[43m    \u001b[49m\u001b[43murl\u001b[49m\u001b[43m,\u001b[49m\n\u001b[1;32m    791\u001b[0m \u001b[43m    \u001b[49m\u001b[43mtimeout\u001b[49m\u001b[38;5;241;43m=\u001b[39;49m\u001b[43mtimeout_obj\u001b[49m\u001b[43m,\u001b[49m\n\u001b[1;32m    792\u001b[0m \u001b[43m    \u001b[49m\u001b[43mbody\u001b[49m\u001b[38;5;241;43m=\u001b[39;49m\u001b[43mbody\u001b[49m\u001b[43m,\u001b[49m\n\u001b[1;32m    793\u001b[0m \u001b[43m    \u001b[49m\u001b[43mheaders\u001b[49m\u001b[38;5;241;43m=\u001b[39;49m\u001b[43mheaders\u001b[49m\u001b[43m,\u001b[49m\n\u001b[1;32m    794\u001b[0m \u001b[43m    \u001b[49m\u001b[43mchunked\u001b[49m\u001b[38;5;241;43m=\u001b[39;49m\u001b[43mchunked\u001b[49m\u001b[43m,\u001b[49m\n\u001b[1;32m    795\u001b[0m \u001b[43m    \u001b[49m\u001b[43mretries\u001b[49m\u001b[38;5;241;43m=\u001b[39;49m\u001b[43mretries\u001b[49m\u001b[43m,\u001b[49m\n\u001b[1;32m    796\u001b[0m \u001b[43m    \u001b[49m\u001b[43mresponse_conn\u001b[49m\u001b[38;5;241;43m=\u001b[39;49m\u001b[43mresponse_conn\u001b[49m\u001b[43m,\u001b[49m\n\u001b[1;32m    797\u001b[0m \u001b[43m    \u001b[49m\u001b[43mpreload_content\u001b[49m\u001b[38;5;241;43m=\u001b[39;49m\u001b[43mpreload_content\u001b[49m\u001b[43m,\u001b[49m\n\u001b[1;32m    798\u001b[0m \u001b[43m    \u001b[49m\u001b[43mdecode_content\u001b[49m\u001b[38;5;241;43m=\u001b[39;49m\u001b[43mdecode_content\u001b[49m\u001b[43m,\u001b[49m\n\u001b[1;32m    799\u001b[0m \u001b[43m    \u001b[49m\u001b[38;5;241;43m*\u001b[39;49m\u001b[38;5;241;43m*\u001b[39;49m\u001b[43mresponse_kw\u001b[49m\u001b[43m,\u001b[49m\n\u001b[1;32m    800\u001b[0m \u001b[43m\u001b[49m\u001b[43m)\u001b[49m\n\u001b[1;32m    802\u001b[0m \u001b[38;5;66;03m# Everything went great!\u001b[39;00m\n",
      "File \u001b[0;32m~/MGT-502/.conda/lib/python3.11/site-packages/urllib3/connectionpool.py:488\u001b[0m, in \u001b[0;36mHTTPConnectionPool._make_request\u001b[0;34m(self, conn, method, url, body, headers, retries, timeout, chunked, response_conn, preload_content, decode_content, enforce_content_length)\u001b[0m\n\u001b[1;32m    487\u001b[0m         new_e \u001b[38;5;241m=\u001b[39m _wrap_proxy_error(new_e, conn\u001b[38;5;241m.\u001b[39mproxy\u001b[38;5;241m.\u001b[39mscheme)\n\u001b[0;32m--> 488\u001b[0m     \u001b[38;5;28;01mraise\u001b[39;00m new_e\n\u001b[1;32m    490\u001b[0m \u001b[38;5;66;03m# conn.request() calls http.client.*.request, not the method in\u001b[39;00m\n\u001b[1;32m    491\u001b[0m \u001b[38;5;66;03m# urllib3.request. It also calls makefile (recv) on the socket.\u001b[39;00m\n",
      "File \u001b[0;32m~/MGT-502/.conda/lib/python3.11/site-packages/urllib3/connectionpool.py:464\u001b[0m, in \u001b[0;36mHTTPConnectionPool._make_request\u001b[0;34m(self, conn, method, url, body, headers, retries, timeout, chunked, response_conn, preload_content, decode_content, enforce_content_length)\u001b[0m\n\u001b[1;32m    463\u001b[0m \u001b[38;5;28;01mtry\u001b[39;00m:\n\u001b[0;32m--> 464\u001b[0m     \u001b[38;5;28;43mself\u001b[39;49m\u001b[38;5;241;43m.\u001b[39;49m\u001b[43m_validate_conn\u001b[49m\u001b[43m(\u001b[49m\u001b[43mconn\u001b[49m\u001b[43m)\u001b[49m\n\u001b[1;32m    465\u001b[0m \u001b[38;5;28;01mexcept\u001b[39;00m (SocketTimeout, BaseSSLError) \u001b[38;5;28;01mas\u001b[39;00m e:\n",
      "File \u001b[0;32m~/MGT-502/.conda/lib/python3.11/site-packages/urllib3/connectionpool.py:1093\u001b[0m, in \u001b[0;36mHTTPSConnectionPool._validate_conn\u001b[0;34m(self, conn)\u001b[0m\n\u001b[1;32m   1092\u001b[0m \u001b[38;5;28;01mif\u001b[39;00m conn\u001b[38;5;241m.\u001b[39mis_closed:\n\u001b[0;32m-> 1093\u001b[0m     \u001b[43mconn\u001b[49m\u001b[38;5;241;43m.\u001b[39;49m\u001b[43mconnect\u001b[49m\u001b[43m(\u001b[49m\u001b[43m)\u001b[49m\n\u001b[1;32m   1095\u001b[0m \u001b[38;5;66;03m# TODO revise this, see https://github.com/urllib3/urllib3/issues/2791\u001b[39;00m\n",
      "File \u001b[0;32m~/MGT-502/.conda/lib/python3.11/site-packages/urllib3/connection.py:704\u001b[0m, in \u001b[0;36mHTTPSConnection.connect\u001b[0;34m(self)\u001b[0m\n\u001b[1;32m    703\u001b[0m sock: socket\u001b[38;5;241m.\u001b[39msocket \u001b[38;5;241m|\u001b[39m ssl\u001b[38;5;241m.\u001b[39mSSLSocket\n\u001b[0;32m--> 704\u001b[0m \u001b[38;5;28mself\u001b[39m\u001b[38;5;241m.\u001b[39msock \u001b[38;5;241m=\u001b[39m sock \u001b[38;5;241m=\u001b[39m \u001b[38;5;28;43mself\u001b[39;49m\u001b[38;5;241;43m.\u001b[39;49m\u001b[43m_new_conn\u001b[49m\u001b[43m(\u001b[49m\u001b[43m)\u001b[49m\n\u001b[1;32m    705\u001b[0m server_hostname: \u001b[38;5;28mstr\u001b[39m \u001b[38;5;241m=\u001b[39m \u001b[38;5;28mself\u001b[39m\u001b[38;5;241m.\u001b[39mhost\n",
      "File \u001b[0;32m~/MGT-502/.conda/lib/python3.11/site-packages/urllib3/connection.py:205\u001b[0m, in \u001b[0;36mHTTPConnection._new_conn\u001b[0;34m(self)\u001b[0m\n\u001b[1;32m    204\u001b[0m \u001b[38;5;28;01mexcept\u001b[39;00m socket\u001b[38;5;241m.\u001b[39mgaierror \u001b[38;5;28;01mas\u001b[39;00m e:\n\u001b[0;32m--> 205\u001b[0m     \u001b[38;5;28;01mraise\u001b[39;00m NameResolutionError(\u001b[38;5;28mself\u001b[39m\u001b[38;5;241m.\u001b[39mhost, \u001b[38;5;28mself\u001b[39m, e) \u001b[38;5;28;01mfrom\u001b[39;00m\u001b[38;5;250m \u001b[39m\u001b[38;5;21;01me\u001b[39;00m\n\u001b[1;32m    206\u001b[0m \u001b[38;5;28;01mexcept\u001b[39;00m SocketTimeout \u001b[38;5;28;01mas\u001b[39;00m e:\n",
      "\u001b[0;31mNameResolutionError\u001b[0m: <urllib3.connection.HTTPSConnection object at 0x123e50f50>: Failed to resolve 'api.openrouteservice.org%20' ([Errno 8] nodename nor servname provided, or not known)",
      "\nThe above exception was the direct cause of the following exception:\n",
      "\u001b[0;31mMaxRetryError\u001b[0m                             Traceback (most recent call last)",
      "File \u001b[0;32m~/MGT-502/.conda/lib/python3.11/site-packages/requests/adapters.py:667\u001b[0m, in \u001b[0;36mHTTPAdapter.send\u001b[0;34m(self, request, stream, timeout, verify, cert, proxies)\u001b[0m\n\u001b[1;32m    666\u001b[0m \u001b[38;5;28;01mtry\u001b[39;00m:\n\u001b[0;32m--> 667\u001b[0m     resp \u001b[38;5;241m=\u001b[39m \u001b[43mconn\u001b[49m\u001b[38;5;241;43m.\u001b[39;49m\u001b[43murlopen\u001b[49m\u001b[43m(\u001b[49m\n\u001b[1;32m    668\u001b[0m \u001b[43m        \u001b[49m\u001b[43mmethod\u001b[49m\u001b[38;5;241;43m=\u001b[39;49m\u001b[43mrequest\u001b[49m\u001b[38;5;241;43m.\u001b[39;49m\u001b[43mmethod\u001b[49m\u001b[43m,\u001b[49m\n\u001b[1;32m    669\u001b[0m \u001b[43m        \u001b[49m\u001b[43murl\u001b[49m\u001b[38;5;241;43m=\u001b[39;49m\u001b[43murl\u001b[49m\u001b[43m,\u001b[49m\n\u001b[1;32m    670\u001b[0m \u001b[43m        \u001b[49m\u001b[43mbody\u001b[49m\u001b[38;5;241;43m=\u001b[39;49m\u001b[43mrequest\u001b[49m\u001b[38;5;241;43m.\u001b[39;49m\u001b[43mbody\u001b[49m\u001b[43m,\u001b[49m\n\u001b[1;32m    671\u001b[0m \u001b[43m        \u001b[49m\u001b[43mheaders\u001b[49m\u001b[38;5;241;43m=\u001b[39;49m\u001b[43mrequest\u001b[49m\u001b[38;5;241;43m.\u001b[39;49m\u001b[43mheaders\u001b[49m\u001b[43m,\u001b[49m\n\u001b[1;32m    672\u001b[0m \u001b[43m        \u001b[49m\u001b[43mredirect\u001b[49m\u001b[38;5;241;43m=\u001b[39;49m\u001b[38;5;28;43;01mFalse\u001b[39;49;00m\u001b[43m,\u001b[49m\n\u001b[1;32m    673\u001b[0m \u001b[43m        \u001b[49m\u001b[43massert_same_host\u001b[49m\u001b[38;5;241;43m=\u001b[39;49m\u001b[38;5;28;43;01mFalse\u001b[39;49;00m\u001b[43m,\u001b[49m\n\u001b[1;32m    674\u001b[0m \u001b[43m        \u001b[49m\u001b[43mpreload_content\u001b[49m\u001b[38;5;241;43m=\u001b[39;49m\u001b[38;5;28;43;01mFalse\u001b[39;49;00m\u001b[43m,\u001b[49m\n\u001b[1;32m    675\u001b[0m \u001b[43m        \u001b[49m\u001b[43mdecode_content\u001b[49m\u001b[38;5;241;43m=\u001b[39;49m\u001b[38;5;28;43;01mFalse\u001b[39;49;00m\u001b[43m,\u001b[49m\n\u001b[1;32m    676\u001b[0m \u001b[43m        \u001b[49m\u001b[43mretries\u001b[49m\u001b[38;5;241;43m=\u001b[39;49m\u001b[38;5;28;43mself\u001b[39;49m\u001b[38;5;241;43m.\u001b[39;49m\u001b[43mmax_retries\u001b[49m\u001b[43m,\u001b[49m\n\u001b[1;32m    677\u001b[0m \u001b[43m        \u001b[49m\u001b[43mtimeout\u001b[49m\u001b[38;5;241;43m=\u001b[39;49m\u001b[43mtimeout\u001b[49m\u001b[43m,\u001b[49m\n\u001b[1;32m    678\u001b[0m \u001b[43m        \u001b[49m\u001b[43mchunked\u001b[49m\u001b[38;5;241;43m=\u001b[39;49m\u001b[43mchunked\u001b[49m\u001b[43m,\u001b[49m\n\u001b[1;32m    679\u001b[0m \u001b[43m    \u001b[49m\u001b[43m)\u001b[49m\n\u001b[1;32m    681\u001b[0m \u001b[38;5;28;01mexcept\u001b[39;00m (ProtocolError, \u001b[38;5;167;01mOSError\u001b[39;00m) \u001b[38;5;28;01mas\u001b[39;00m err:\n",
      "File \u001b[0;32m~/MGT-502/.conda/lib/python3.11/site-packages/urllib3/connectionpool.py:841\u001b[0m, in \u001b[0;36mHTTPConnectionPool.urlopen\u001b[0;34m(self, method, url, body, headers, retries, redirect, assert_same_host, timeout, pool_timeout, release_conn, chunked, body_pos, preload_content, decode_content, **response_kw)\u001b[0m\n\u001b[1;32m    839\u001b[0m     new_e \u001b[38;5;241m=\u001b[39m ProtocolError(\u001b[38;5;124m\"\u001b[39m\u001b[38;5;124mConnection aborted.\u001b[39m\u001b[38;5;124m\"\u001b[39m, new_e)\n\u001b[0;32m--> 841\u001b[0m retries \u001b[38;5;241m=\u001b[39m \u001b[43mretries\u001b[49m\u001b[38;5;241;43m.\u001b[39;49m\u001b[43mincrement\u001b[49m\u001b[43m(\u001b[49m\n\u001b[1;32m    842\u001b[0m \u001b[43m    \u001b[49m\u001b[43mmethod\u001b[49m\u001b[43m,\u001b[49m\u001b[43m \u001b[49m\u001b[43murl\u001b[49m\u001b[43m,\u001b[49m\u001b[43m \u001b[49m\u001b[43merror\u001b[49m\u001b[38;5;241;43m=\u001b[39;49m\u001b[43mnew_e\u001b[49m\u001b[43m,\u001b[49m\u001b[43m \u001b[49m\u001b[43m_pool\u001b[49m\u001b[38;5;241;43m=\u001b[39;49m\u001b[38;5;28;43mself\u001b[39;49m\u001b[43m,\u001b[49m\u001b[43m \u001b[49m\u001b[43m_stacktrace\u001b[49m\u001b[38;5;241;43m=\u001b[39;49m\u001b[43msys\u001b[49m\u001b[38;5;241;43m.\u001b[39;49m\u001b[43mexc_info\u001b[49m\u001b[43m(\u001b[49m\u001b[43m)\u001b[49m\u001b[43m[\u001b[49m\u001b[38;5;241;43m2\u001b[39;49m\u001b[43m]\u001b[49m\n\u001b[1;32m    843\u001b[0m \u001b[43m\u001b[49m\u001b[43m)\u001b[49m\n\u001b[1;32m    844\u001b[0m retries\u001b[38;5;241m.\u001b[39msleep()\n",
      "File \u001b[0;32m~/MGT-502/.conda/lib/python3.11/site-packages/urllib3/util/retry.py:519\u001b[0m, in \u001b[0;36mRetry.increment\u001b[0;34m(self, method, url, response, error, _pool, _stacktrace)\u001b[0m\n\u001b[1;32m    518\u001b[0m     reason \u001b[38;5;241m=\u001b[39m error \u001b[38;5;129;01mor\u001b[39;00m ResponseError(cause)\n\u001b[0;32m--> 519\u001b[0m     \u001b[38;5;28;01mraise\u001b[39;00m MaxRetryError(_pool, url, reason) \u001b[38;5;28;01mfrom\u001b[39;00m\u001b[38;5;250m \u001b[39m\u001b[38;5;21;01mreason\u001b[39;00m  \u001b[38;5;66;03m# type: ignore[arg-type]\u001b[39;00m\n\u001b[1;32m    521\u001b[0m log\u001b[38;5;241m.\u001b[39mdebug(\u001b[38;5;124m\"\u001b[39m\u001b[38;5;124mIncremented Retry for (url=\u001b[39m\u001b[38;5;124m'\u001b[39m\u001b[38;5;132;01m%s\u001b[39;00m\u001b[38;5;124m'\u001b[39m\u001b[38;5;124m): \u001b[39m\u001b[38;5;132;01m%r\u001b[39;00m\u001b[38;5;124m\"\u001b[39m, url, new_retry)\n",
      "\u001b[0;31mMaxRetryError\u001b[0m: HTTPSConnectionPool(host='api.openrouteservice.org%20', port=443): Max retries exceeded with url: /v2/directions/driving-car?%20api_key%20=%205b3ce3597851110001cf62487fdbd58fccf548529a19d99f12b4692d&%20start%20=%2046.31388497394788,6.968953748717655&%20end%20=%2046.60396069250175,%206.538034286509177 (Caused by NameResolutionError(\"<urllib3.connection.HTTPSConnection object at 0x123e50f50>: Failed to resolve 'api.openrouteservice.org%20' ([Errno 8] nodename nor servname provided, or not known)\"))",
      "\nDuring handling of the above exception, another exception occurred:\n",
      "\u001b[0;31mConnectionError\u001b[0m                           Traceback (most recent call last)",
      "Cell \u001b[0;32mIn[39], line 1\u001b[0m\n\u001b[0;32m----> 1\u001b[0m call\u001b[38;5;241m=\u001b[39m\u001b[43mrequests\u001b[49m\u001b[38;5;241;43m.\u001b[39;49m\u001b[43mget\u001b[49m\u001b[43m(\u001b[49m\u001b[38;5;124;43mf\u001b[39;49m\u001b[38;5;124;43m'\u001b[39;49m\u001b[38;5;124;43mhttps://api.openrouteservice.org /v2/directions/driving-car? api_key = \u001b[39;49m\u001b[38;5;132;43;01m{\u001b[39;49;00m\u001b[43mAPI_key\u001b[49m\u001b[38;5;132;43;01m}\u001b[39;49;00m\u001b[38;5;124;43m& start = \u001b[39;49m\u001b[38;5;132;43;01m{\u001b[39;49;00m\u001b[43mcity\u001b[49m\u001b[38;5;132;43;01m}\u001b[39;49;00m\u001b[38;5;124;43m& end = \u001b[39;49m\u001b[38;5;132;43;01m{\u001b[39;49;00m\u001b[43mcoordonnees_venoge\u001b[49m\u001b[38;5;132;43;01m}\u001b[39;49;00m\u001b[38;5;124;43m'\u001b[39;49m\u001b[43m,\u001b[49m\u001b[43mheaders\u001b[49m\u001b[38;5;241;43m=\u001b[39;49m\u001b[43mheaders\u001b[49m\u001b[43m)\u001b[49m\n\u001b[1;32m      2\u001b[0m \u001b[38;5;28;01mif\u001b[39;00m call\u001b[38;5;241m.\u001b[39mstatus_code \u001b[38;5;241m==\u001b[39m \u001b[38;5;241m200\u001b[39m:\n\u001b[1;32m      3\u001b[0m     data \u001b[38;5;241m=\u001b[39m call\u001b[38;5;241m.\u001b[39mjson()\n",
      "File \u001b[0;32m~/MGT-502/.conda/lib/python3.11/site-packages/requests/api.py:73\u001b[0m, in \u001b[0;36mget\u001b[0;34m(url, params, **kwargs)\u001b[0m\n\u001b[1;32m     62\u001b[0m \u001b[38;5;28;01mdef\u001b[39;00m\u001b[38;5;250m \u001b[39m\u001b[38;5;21mget\u001b[39m(url, params\u001b[38;5;241m=\u001b[39m\u001b[38;5;28;01mNone\u001b[39;00m, \u001b[38;5;241m*\u001b[39m\u001b[38;5;241m*\u001b[39mkwargs):\n\u001b[1;32m     63\u001b[0m \u001b[38;5;250m    \u001b[39m\u001b[38;5;124mr\u001b[39m\u001b[38;5;124;03m\"\"\"Sends a GET request.\u001b[39;00m\n\u001b[1;32m     64\u001b[0m \n\u001b[1;32m     65\u001b[0m \u001b[38;5;124;03m    :param url: URL for the new :class:`Request` object.\u001b[39;00m\n\u001b[0;32m   (...)\u001b[0m\n\u001b[1;32m     70\u001b[0m \u001b[38;5;124;03m    :rtype: requests.Response\u001b[39;00m\n\u001b[1;32m     71\u001b[0m \u001b[38;5;124;03m    \"\"\"\u001b[39;00m\n\u001b[0;32m---> 73\u001b[0m     \u001b[38;5;28;01mreturn\u001b[39;00m \u001b[43mrequest\u001b[49m\u001b[43m(\u001b[49m\u001b[38;5;124;43m\"\u001b[39;49m\u001b[38;5;124;43mget\u001b[39;49m\u001b[38;5;124;43m\"\u001b[39;49m\u001b[43m,\u001b[49m\u001b[43m \u001b[49m\u001b[43murl\u001b[49m\u001b[43m,\u001b[49m\u001b[43m \u001b[49m\u001b[43mparams\u001b[49m\u001b[38;5;241;43m=\u001b[39;49m\u001b[43mparams\u001b[49m\u001b[43m,\u001b[49m\u001b[43m \u001b[49m\u001b[38;5;241;43m*\u001b[39;49m\u001b[38;5;241;43m*\u001b[39;49m\u001b[43mkwargs\u001b[49m\u001b[43m)\u001b[49m\n",
      "File \u001b[0;32m~/MGT-502/.conda/lib/python3.11/site-packages/requests/api.py:59\u001b[0m, in \u001b[0;36mrequest\u001b[0;34m(method, url, **kwargs)\u001b[0m\n\u001b[1;32m     55\u001b[0m \u001b[38;5;66;03m# By using the 'with' statement we are sure the session is closed, thus we\u001b[39;00m\n\u001b[1;32m     56\u001b[0m \u001b[38;5;66;03m# avoid leaving sockets open which can trigger a ResourceWarning in some\u001b[39;00m\n\u001b[1;32m     57\u001b[0m \u001b[38;5;66;03m# cases, and look like a memory leak in others.\u001b[39;00m\n\u001b[1;32m     58\u001b[0m \u001b[38;5;28;01mwith\u001b[39;00m sessions\u001b[38;5;241m.\u001b[39mSession() \u001b[38;5;28;01mas\u001b[39;00m session:\n\u001b[0;32m---> 59\u001b[0m     \u001b[38;5;28;01mreturn\u001b[39;00m \u001b[43msession\u001b[49m\u001b[38;5;241;43m.\u001b[39;49m\u001b[43mrequest\u001b[49m\u001b[43m(\u001b[49m\u001b[43mmethod\u001b[49m\u001b[38;5;241;43m=\u001b[39;49m\u001b[43mmethod\u001b[49m\u001b[43m,\u001b[49m\u001b[43m \u001b[49m\u001b[43murl\u001b[49m\u001b[38;5;241;43m=\u001b[39;49m\u001b[43murl\u001b[49m\u001b[43m,\u001b[49m\u001b[43m \u001b[49m\u001b[38;5;241;43m*\u001b[39;49m\u001b[38;5;241;43m*\u001b[39;49m\u001b[43mkwargs\u001b[49m\u001b[43m)\u001b[49m\n",
      "File \u001b[0;32m~/MGT-502/.conda/lib/python3.11/site-packages/requests/sessions.py:589\u001b[0m, in \u001b[0;36mSession.request\u001b[0;34m(self, method, url, params, data, headers, cookies, files, auth, timeout, allow_redirects, proxies, hooks, stream, verify, cert, json)\u001b[0m\n\u001b[1;32m    584\u001b[0m send_kwargs \u001b[38;5;241m=\u001b[39m {\n\u001b[1;32m    585\u001b[0m     \u001b[38;5;124m\"\u001b[39m\u001b[38;5;124mtimeout\u001b[39m\u001b[38;5;124m\"\u001b[39m: timeout,\n\u001b[1;32m    586\u001b[0m     \u001b[38;5;124m\"\u001b[39m\u001b[38;5;124mallow_redirects\u001b[39m\u001b[38;5;124m\"\u001b[39m: allow_redirects,\n\u001b[1;32m    587\u001b[0m }\n\u001b[1;32m    588\u001b[0m send_kwargs\u001b[38;5;241m.\u001b[39mupdate(settings)\n\u001b[0;32m--> 589\u001b[0m resp \u001b[38;5;241m=\u001b[39m \u001b[38;5;28;43mself\u001b[39;49m\u001b[38;5;241;43m.\u001b[39;49m\u001b[43msend\u001b[49m\u001b[43m(\u001b[49m\u001b[43mprep\u001b[49m\u001b[43m,\u001b[49m\u001b[43m \u001b[49m\u001b[38;5;241;43m*\u001b[39;49m\u001b[38;5;241;43m*\u001b[39;49m\u001b[43msend_kwargs\u001b[49m\u001b[43m)\u001b[49m\n\u001b[1;32m    591\u001b[0m \u001b[38;5;28;01mreturn\u001b[39;00m resp\n",
      "File \u001b[0;32m~/MGT-502/.conda/lib/python3.11/site-packages/requests/sessions.py:703\u001b[0m, in \u001b[0;36mSession.send\u001b[0;34m(self, request, **kwargs)\u001b[0m\n\u001b[1;32m    700\u001b[0m start \u001b[38;5;241m=\u001b[39m preferred_clock()\n\u001b[1;32m    702\u001b[0m \u001b[38;5;66;03m# Send the request\u001b[39;00m\n\u001b[0;32m--> 703\u001b[0m r \u001b[38;5;241m=\u001b[39m \u001b[43madapter\u001b[49m\u001b[38;5;241;43m.\u001b[39;49m\u001b[43msend\u001b[49m\u001b[43m(\u001b[49m\u001b[43mrequest\u001b[49m\u001b[43m,\u001b[49m\u001b[43m \u001b[49m\u001b[38;5;241;43m*\u001b[39;49m\u001b[38;5;241;43m*\u001b[39;49m\u001b[43mkwargs\u001b[49m\u001b[43m)\u001b[49m\n\u001b[1;32m    705\u001b[0m \u001b[38;5;66;03m# Total elapsed time of the request (approximately)\u001b[39;00m\n\u001b[1;32m    706\u001b[0m elapsed \u001b[38;5;241m=\u001b[39m preferred_clock() \u001b[38;5;241m-\u001b[39m start\n",
      "File \u001b[0;32m~/MGT-502/.conda/lib/python3.11/site-packages/requests/adapters.py:700\u001b[0m, in \u001b[0;36mHTTPAdapter.send\u001b[0;34m(self, request, stream, timeout, verify, cert, proxies)\u001b[0m\n\u001b[1;32m    696\u001b[0m     \u001b[38;5;28;01mif\u001b[39;00m \u001b[38;5;28misinstance\u001b[39m(e\u001b[38;5;241m.\u001b[39mreason, _SSLError):\n\u001b[1;32m    697\u001b[0m         \u001b[38;5;66;03m# This branch is for urllib3 v1.22 and later.\u001b[39;00m\n\u001b[1;32m    698\u001b[0m         \u001b[38;5;28;01mraise\u001b[39;00m SSLError(e, request\u001b[38;5;241m=\u001b[39mrequest)\n\u001b[0;32m--> 700\u001b[0m     \u001b[38;5;28;01mraise\u001b[39;00m \u001b[38;5;167;01mConnectionError\u001b[39;00m(e, request\u001b[38;5;241m=\u001b[39mrequest)\n\u001b[1;32m    702\u001b[0m \u001b[38;5;28;01mexcept\u001b[39;00m ClosedPoolError \u001b[38;5;28;01mas\u001b[39;00m e:\n\u001b[1;32m    703\u001b[0m     \u001b[38;5;28;01mraise\u001b[39;00m \u001b[38;5;167;01mConnectionError\u001b[39;00m(e, request\u001b[38;5;241m=\u001b[39mrequest)\n",
      "\u001b[0;31mConnectionError\u001b[0m: HTTPSConnectionPool(host='api.openrouteservice.org%20', port=443): Max retries exceeded with url: /v2/directions/driving-car?%20api_key%20=%205b3ce3597851110001cf62487fdbd58fccf548529a19d99f12b4692d&%20start%20=%2046.31388497394788,6.968953748717655&%20end%20=%2046.60396069250175,%206.538034286509177 (Caused by NameResolutionError(\"<urllib3.connection.HTTPSConnection object at 0x123e50f50>: Failed to resolve 'api.openrouteservice.org%20' ([Errno 8] nodename nor servname provided, or not known)\"))"
     ]
    }
   ],
   "source": [
    "\n",
    "call=requests.get(f'https://api.openrouteservice.org /v2/directions/driving-car? api_key = {API_key}& start = {city}& end = {coordonnees_venoge}',headers=headers)\n",
    "if call.status_code == 200:\n",
    "    data = call.json()\n",
    "    distance = data['routes'][0]['summary']['distance'] / 1000\n",
    "    print(distance)"
   ]
  },
  {
   "cell_type": "code",
   "execution_count": null,
   "metadata": {},
   "outputs": [],
   "source": [
    "requests.ger('https://api.openrouteservice.org/v2/directions/driving-car?api_key={API_key}&start={city}&end={coordonnees_venoge}', headers=headers)"
   ]
  },
  {
   "cell_type": "code",
   "execution_count": 33,
   "metadata": {},
   "outputs": [
    {
     "name": "stderr",
     "output_type": "stream",
     "text": [
      "  0%|          | 0/545 [00:00<?, ?it/s]"
     ]
    },
    {
     "name": "stderr",
     "output_type": "stream",
     "text": [
      "  0%|          | 1/545 [00:00<02:03,  4.41it/s]"
     ]
    },
    {
     "name": "stdout",
     "output_type": "stream",
     "text": [
      "Failed for Aigle — 404\n"
     ]
    },
    {
     "name": "stderr",
     "output_type": "stream",
     "text": [
      "  1%|          | 3/545 [00:00<02:08,  4.23it/s]"
     ]
    },
    {
     "name": "stdout",
     "output_type": "stream",
     "text": [
      "Failed for Le Sépey — 404\n",
      "Failed for Bex — 404\n"
     ]
    },
    {
     "name": "stderr",
     "output_type": "stream",
     "text": [
      "  1%|          | 5/545 [00:01<01:33,  5.77it/s]"
     ]
    },
    {
     "name": "stdout",
     "output_type": "stream",
     "text": [
      "Failed for Frenières-sur-Bex — 404\n",
      "Failed for Fenalet-sur-Bex — 404\n"
     ]
    },
    {
     "name": "stderr",
     "output_type": "stream",
     "text": [
      "  1%|▏         | 7/545 [00:01<02:33,  3.51it/s]"
     ]
    },
    {
     "name": "stdout",
     "output_type": "stream",
     "text": [
      "Failed for Les Plans-sur-Bex — 404\n",
      "Failed for Les Posses-sur-Bex — 404\n"
     ]
    },
    {
     "name": "stderr",
     "output_type": "stream",
     "text": [
      "  2%|▏         | 9/545 [00:02<01:56,  4.58it/s]"
     ]
    },
    {
     "name": "stdout",
     "output_type": "stream",
     "text": [
      "Failed for Gryon — 404\n",
      "Failed for Chessel — 404\n"
     ]
    },
    {
     "name": "stderr",
     "output_type": "stream",
     "text": [
      "  2%|▏         | 11/545 [00:02<01:33,  5.71it/s]"
     ]
    },
    {
     "name": "stdout",
     "output_type": "stream",
     "text": [
      "Failed for Corbeyrier — 404\n",
      "Failed for Frenières-sur-Bex — 404\n"
     ]
    },
    {
     "name": "stderr",
     "output_type": "stream",
     "text": [
      "  2%|▏         | 13/545 [00:02<01:23,  6.40it/s]"
     ]
    },
    {
     "name": "stdout",
     "output_type": "stream",
     "text": [
      "Failed for Les Posses-sur-Bex — 404\n",
      "Failed for Gryon — 404\n"
     ]
    },
    {
     "name": "stderr",
     "output_type": "stream",
     "text": [
      "  3%|▎         | 15/545 [00:03<01:17,  6.82it/s]"
     ]
    },
    {
     "name": "stdout",
     "output_type": "stream",
     "text": [
      "Failed for Lavey-Village — 404\n",
      "Failed for Lavey-les-Bains — 404\n"
     ]
    },
    {
     "name": "stderr",
     "output_type": "stream",
     "text": [
      "  3%|▎         | 17/545 [00:03<01:16,  6.87it/s]"
     ]
    },
    {
     "name": "stdout",
     "output_type": "stream",
     "text": [
      "Failed for Morcles — 404\n",
      "Failed for Leysin — 404\n"
     ]
    },
    {
     "name": "stderr",
     "output_type": "stream",
     "text": [
      "  3%|▎         | 19/545 [00:03<01:12,  7.23it/s]"
     ]
    },
    {
     "name": "stdout",
     "output_type": "stream",
     "text": [
      "Failed for Noville — 404\n",
      "Failed for Aigle — 404\n"
     ]
    },
    {
     "name": "stderr",
     "output_type": "stream",
     "text": [
      "  4%|▍         | 21/545 [00:03<01:10,  7.48it/s]"
     ]
    },
    {
     "name": "stdout",
     "output_type": "stream",
     "text": [
      "Failed for La Forclaz VD — 404\n",
      "Failed for Ollon VD — 404\n"
     ]
    },
    {
     "name": "stderr",
     "output_type": "stream",
     "text": [
      "  4%|▍         | 23/545 [00:04<01:08,  7.58it/s]"
     ]
    },
    {
     "name": "stdout",
     "output_type": "stream",
     "text": [
      "Failed for St-Triphon — 404\n",
      "Failed for Panex — 404\n"
     ]
    },
    {
     "name": "stderr",
     "output_type": "stream",
     "text": [
      "  5%|▍         | 25/545 [00:04<01:07,  7.67it/s]"
     ]
    },
    {
     "name": "stdout",
     "output_type": "stream",
     "text": [
      "Failed for Villars-sur-Ollon — 404\n",
      "Failed for Arveyes — 404\n"
     ]
    },
    {
     "name": "stderr",
     "output_type": "stream",
     "text": [
      "  5%|▍         | 27/545 [00:04<01:20,  6.40it/s]"
     ]
    },
    {
     "name": "stdout",
     "output_type": "stream",
     "text": [
      "Failed for Huémoz — 404\n",
      "Failed for Chesières — 404\n"
     ]
    },
    {
     "name": "stderr",
     "output_type": "stream",
     "text": [
      "  5%|▌         | 29/545 [00:04<01:12,  7.10it/s]"
     ]
    },
    {
     "name": "stdout",
     "output_type": "stream",
     "text": [
      "Failed for La Lécherette — 404\n",
      "Failed for Corbeyrier — 404\n"
     ]
    },
    {
     "name": "stderr",
     "output_type": "stream",
     "text": [
      "  6%|▌         | 31/545 [00:05<01:07,  7.56it/s]"
     ]
    },
    {
     "name": "stdout",
     "output_type": "stream",
     "text": [
      "Failed for Les Mosses — 404\n",
      "Failed for La Comballaz — 404\n"
     ]
    },
    {
     "name": "stderr",
     "output_type": "stream",
     "text": [
      "  6%|▌         | 33/545 [00:05<01:05,  7.80it/s]"
     ]
    },
    {
     "name": "stdout",
     "output_type": "stream",
     "text": [
      "Failed for Le Sépey — 404\n",
      "Failed for La Forclaz VD — 404\n"
     ]
    },
    {
     "name": "stderr",
     "output_type": "stream",
     "text": [
      "  6%|▋         | 35/545 [00:05<01:10,  7.25it/s]"
     ]
    },
    {
     "name": "stdout",
     "output_type": "stream",
     "text": [
      "Failed for Vers-l'Eglise — 404\n",
      "Failed for Les Diablerets — 404\n"
     ]
    },
    {
     "name": "stderr",
     "output_type": "stream",
     "text": [
      "  7%|▋         | 37/545 [00:06<01:07,  7.51it/s]"
     ]
    },
    {
     "name": "stdout",
     "output_type": "stream",
     "text": [
      "Failed for Rennaz — 404\n",
      "Failed for Roche VD — 404\n"
     ]
    },
    {
     "name": "stderr",
     "output_type": "stream",
     "text": [
      "  7%|▋         | 38/545 [00:06<01:19,  6.40it/s]"
     ]
    },
    {
     "name": "stdout",
     "output_type": "stream",
     "text": [
      "Failed for Villeneuve VD — 404\n"
     ]
    },
    {
     "name": "stderr",
     "output_type": "stream",
     "text": [
      "  7%|▋         | 40/545 [00:06<01:22,  6.13it/s]"
     ]
    },
    {
     "name": "stdout",
     "output_type": "stream",
     "text": [
      "Failed for Yvorne — 404\n",
      "Failed for Aubonne — 404\n"
     ]
    },
    {
     "name": "stderr",
     "output_type": "stream",
     "text": [
      "  8%|▊         | 42/545 [00:06<01:03,  7.96it/s]"
     ]
    },
    {
     "name": "stdout",
     "output_type": "stream",
     "text": [
      "Failed for Bougy-Villars — 429\n",
      "Failed for Montherod — 429\n",
      "Failed for Pizy — 429\n"
     ]
    },
    {
     "name": "stderr",
     "output_type": "stream",
     "text": [
      "  8%|▊         | 46/545 [00:07<00:48, 10.36it/s]"
     ]
    },
    {
     "name": "stdout",
     "output_type": "stream",
     "text": [
      "Failed for Ballens — 429\n",
      "Failed for Berolle — 429\n",
      "Failed for Bière — 429\n"
     ]
    },
    {
     "name": "stderr",
     "output_type": "stream",
     "text": [
      "  9%|▉         | 48/545 [00:07<00:46, 10.67it/s]"
     ]
    },
    {
     "name": "stdout",
     "output_type": "stream",
     "text": [
      "Failed for Berolle — 429\n",
      "Failed for Bougy-Villars — 429\n",
      "Failed for Perroy — 429\n"
     ]
    },
    {
     "name": "stderr",
     "output_type": "stream",
     "text": [
      " 10%|▉         | 52/545 [00:07<00:42, 11.54it/s]"
     ]
    },
    {
     "name": "stdout",
     "output_type": "stream",
     "text": [
      "Failed for Féchy — 429\n",
      "Failed for Gimel — 429\n",
      "Failed for Longirod — 429\n"
     ]
    },
    {
     "name": "stderr",
     "output_type": "stream",
     "text": [
      " 10%|▉         | 54/545 [00:07<00:43, 11.23it/s]"
     ]
    },
    {
     "name": "stdout",
     "output_type": "stream",
     "text": [
      "Failed for Marchissy — 429\n",
      "Failed for Mollens VD — 429\n",
      "Failed for St-George — 429\n"
     ]
    },
    {
     "name": "stderr",
     "output_type": "stream",
     "text": [
      " 10%|█         | 56/545 [00:07<00:41, 11.81it/s]"
     ]
    },
    {
     "name": "stdout",
     "output_type": "stream",
     "text": [
      "Failed for Bière — 429\n",
      "Failed for St-Livres — 429\n"
     ]
    },
    {
     "name": "stderr",
     "output_type": "stream",
     "text": [
      " 11%|█         | 60/545 [00:08<00:46, 10.52it/s]"
     ]
    },
    {
     "name": "stdout",
     "output_type": "stream",
     "text": [
      "Failed for St-Oyens — 429\n",
      "Failed for Saubraz — 429\n",
      "Failed for Domdidier — 429\n"
     ]
    },
    {
     "name": "stderr",
     "output_type": "stream",
     "text": [
      " 11%|█▏        | 62/545 [00:08<00:42, 11.35it/s]"
     ]
    },
    {
     "name": "stdout",
     "output_type": "stream",
     "text": [
      "Failed for Avenches — 429\n",
      "Failed for Oleyres — 429\n",
      "Failed for Donatyre — 429\n"
     ]
    },
    {
     "name": "stderr",
     "output_type": "stream",
     "text": [
      " 12%|█▏        | 66/545 [00:08<00:42, 11.34it/s]"
     ]
    },
    {
     "name": "stdout",
     "output_type": "stream",
     "text": [
      "Failed for Misery — 429\n",
      "Failed for Cudrefin — 429\n",
      "Failed for Faoug — 429\n"
     ]
    },
    {
     "name": "stderr",
     "output_type": "stream",
     "text": [
      " 12%|█▏        | 68/545 [00:08<00:40, 11.76it/s]"
     ]
    },
    {
     "name": "stdout",
     "output_type": "stream",
     "text": [
      "Failed for Villars-le-Grand — 429\n",
      "Failed for Salavaux — 429\n",
      "Failed for Bellerive VD — 429\n"
     ]
    },
    {
     "name": "stderr",
     "output_type": "stream",
     "text": [
      " 13%|█▎        | 70/545 [00:09<00:48,  9.89it/s]"
     ]
    },
    {
     "name": "stdout",
     "output_type": "stream",
     "text": [
      "Failed for Cotterd — 429\n",
      "Failed for Vallamand — 429\n"
     ]
    },
    {
     "name": "stderr",
     "output_type": "stream",
     "text": [
      " 13%|█▎        | 72/545 [00:09<00:57,  8.23it/s]"
     ]
    },
    {
     "name": "stdout",
     "output_type": "stream",
     "text": [
      "Failed for Montmagny — 429\n",
      "Failed for Constantine — 429\n"
     ]
    },
    {
     "name": "stderr",
     "output_type": "stream",
     "text": [
      " 14%|█▎        | 74/545 [00:09<00:56,  8.29it/s]"
     ]
    },
    {
     "name": "stdout",
     "output_type": "stream",
     "text": [
      "Failed for Chabrey — 429\n"
     ]
    },
    {
     "name": "stderr",
     "output_type": "stream",
     "text": [
      " 14%|█▍        | 77/545 [00:10<00:55,  8.40it/s]"
     ]
    },
    {
     "name": "stdout",
     "output_type": "stream",
     "text": [
      "Failed for Mur (Vully) VD — 429\n",
      "Failed for Bettens — 429\n",
      "Failed for Daillens — 429\n"
     ]
    },
    {
     "name": "stderr",
     "output_type": "stream",
     "text": [
      " 14%|█▍        | 79/545 [00:10<00:49,  9.35it/s]"
     ]
    },
    {
     "name": "stdout",
     "output_type": "stream",
     "text": [
      "Failed for Bournens — 429\n",
      "Failed for Boussens — 429\n",
      "Failed for Chavannes-le-Veyron — 429\n"
     ]
    },
    {
     "name": "stderr",
     "output_type": "stream",
     "text": [
      " 15%|█▌        | 83/545 [00:10<00:44, 10.34it/s]"
     ]
    },
    {
     "name": "stdout",
     "output_type": "stream",
     "text": [
      "Failed for La Chaux (Cossonay) — 429\n",
      "Failed for Chevilly — 429\n",
      "Failed for Chavannes-le-Veyron — 429\n"
     ]
    },
    {
     "name": "stderr",
     "output_type": "stream",
     "text": [
      " 16%|█▌        | 85/545 [00:10<00:46,  9.98it/s]"
     ]
    },
    {
     "name": "stdout",
     "output_type": "stream",
     "text": [
      "Failed for Chevilly — 429\n",
      "Failed for Cossonay-Ville — 429\n"
     ]
    },
    {
     "name": "stderr",
     "output_type": "stream",
     "text": [
      " 16%|█▌        | 87/545 [00:11<00:50,  9.12it/s]"
     ]
    },
    {
     "name": "stdout",
     "output_type": "stream",
     "text": [
      "Failed for Allens — 429\n",
      "Failed for Cuarnens — 429\n"
     ]
    },
    {
     "name": "stderr",
     "output_type": "stream",
     "text": [
      " 17%|█▋        | 90/545 [00:11<00:48,  9.46it/s]"
     ]
    },
    {
     "name": "stdout",
     "output_type": "stream",
     "text": [
      "Failed for Daillens — 429\n",
      "Failed for Dizy — 429\n",
      "Failed for Eclépens — 429\n"
     ]
    },
    {
     "name": "stderr",
     "output_type": "stream",
     "text": [
      " 17%|█▋        | 92/545 [00:11<00:44, 10.19it/s]"
     ]
    },
    {
     "name": "stdout",
     "output_type": "stream",
     "text": [
      "Failed for Ferreyres — 429\n",
      "Failed for Gollion — 429\n",
      "Failed for Grancy — 429\n"
     ]
    },
    {
     "name": "stderr",
     "output_type": "stream",
     "text": [
      " 18%|█▊        | 96/545 [00:12<00:42, 10.56it/s]"
     ]
    },
    {
     "name": "stdout",
     "output_type": "stream",
     "text": [
      "Failed for L'Isle — 429\n",
      "Failed for Villars-Bozon — 429\n",
      "Failed for La Coudre — 429\n"
     ]
    },
    {
     "name": "stderr",
     "output_type": "stream",
     "text": [
      " 18%|█▊        | 98/545 [00:12<00:48,  9.21it/s]"
     ]
    },
    {
     "name": "stdout",
     "output_type": "stream",
     "text": [
      "Failed for Lussery-Villars — 429\n",
      "Failed for Mauraz — 429\n"
     ]
    },
    {
     "name": "stderr",
     "output_type": "stream",
     "text": [
      " 19%|█▊        | 101/545 [00:12<00:43, 10.11it/s]"
     ]
    },
    {
     "name": "stdout",
     "output_type": "stream",
     "text": [
      "Failed for Mex VD — 429\n",
      "Failed for Moiry VD — 429\n",
      "Failed for Mont-la-Ville — 429\n"
     ]
    },
    {
     "name": "stderr",
     "output_type": "stream",
     "text": [
      " 19%|█▉        | 103/545 [00:12<00:41, 10.61it/s]"
     ]
    },
    {
     "name": "stdout",
     "output_type": "stream",
     "text": [
      "Failed for Vaulion — 429\n",
      "Failed for Montricher — 429\n",
      "Failed for Orny — 429\n"
     ]
    },
    {
     "name": "stderr",
     "output_type": "stream",
     "text": [
      " 20%|█▉        | 107/545 [00:13<00:38, 11.34it/s]"
     ]
    },
    {
     "name": "stdout",
     "output_type": "stream",
     "text": [
      "Failed for Bavois — 429\n",
      "Failed for Penthalaz — 429\n",
      "Failed for Penthaz — 429\n"
     ]
    },
    {
     "name": "stderr",
     "output_type": "stream",
     "text": [
      " 20%|██        | 109/545 [00:13<00:44,  9.87it/s]"
     ]
    },
    {
     "name": "stdout",
     "output_type": "stream",
     "text": [
      "Failed for Pompaples — 429\n",
      "Failed for La Sarraz — 429\n",
      "Failed for Senarclens — 429\n"
     ]
    },
    {
     "name": "stderr",
     "output_type": "stream",
     "text": [
      " 21%|██        | 113/545 [00:13<00:38, 11.15it/s]"
     ]
    },
    {
     "name": "stdout",
     "output_type": "stream",
     "text": [
      "Failed for Sullens — 429\n",
      "Failed for Mex VD — 429\n",
      "Failed for Vufflens-la-Ville — 429\n"
     ]
    },
    {
     "name": "stderr",
     "output_type": "stream",
     "text": [
      " 21%|██        | 115/545 [00:13<00:40, 10.50it/s]"
     ]
    },
    {
     "name": "stdout",
     "output_type": "stream",
     "text": [
      "Failed for Assens — 429\n",
      "Failed for Bioley-Orjulaz — 429\n",
      "Failed for Bercher — 429\n"
     ]
    },
    {
     "name": "stderr",
     "output_type": "stream",
     "text": [
      " 21%|██▏       | 117/545 [00:14<00:39, 10.95it/s]"
     ]
    },
    {
     "name": "stdout",
     "output_type": "stream",
     "text": [
      "Failed for Bottens — 429\n",
      "Failed for Bretigny-sur-Morrens — 429\n"
     ]
    },
    {
     "name": "stderr",
     "output_type": "stream",
     "text": [
      " 22%|██▏       | 121/545 [00:14<00:39, 10.69it/s]"
     ]
    },
    {
     "name": "stdout",
     "output_type": "stream",
     "text": [
      "Failed for Cugy VD — 429\n",
      "Failed for Echallens — 429\n",
      "Failed for Essertines-sur-Yverdon — 429\n"
     ]
    },
    {
     "name": "stderr",
     "output_type": "stream",
     "text": [
      " 23%|██▎       | 123/545 [00:14<00:37, 11.22it/s]"
     ]
    },
    {
     "name": "stdout",
     "output_type": "stream",
     "text": [
      "Failed for Epautheyres — 429\n",
      "Failed for Etagnières — 429\n",
      "Failed for Fey — 429\n"
     ]
    },
    {
     "name": "stderr",
     "output_type": "stream",
     "text": [
      " 23%|██▎       | 127/545 [00:14<00:34, 12.08it/s]"
     ]
    },
    {
     "name": "stdout",
     "output_type": "stream",
     "text": [
      "Failed for Froideville — 429\n",
      "Failed for Morrens VD — 429\n",
      "Failed for Oulens-sous-Echallens — 429\n"
     ]
    },
    {
     "name": "stderr",
     "output_type": "stream",
     "text": [
      " 24%|██▎       | 129/545 [00:15<00:34, 12.22it/s]"
     ]
    },
    {
     "name": "stdout",
     "output_type": "stream",
     "text": [
      "Failed for Pailly — 429\n",
      "Failed for Penthéréaz — 429\n",
      "Failed for Poliez-Pittet — 429\n"
     ]
    },
    {
     "name": "stderr",
     "output_type": "stream",
     "text": [
      " 24%|██▍       | 131/545 [00:15<00:39, 10.46it/s]"
     ]
    },
    {
     "name": "stdout",
     "output_type": "stream",
     "text": [
      "Failed for Rueyres — 429\n",
      "Failed for St-Barthélemy VD — 429\n"
     ]
    },
    {
     "name": "stderr",
     "output_type": "stream",
     "text": [
      " 25%|██▍       | 135/545 [00:15<00:37, 10.79it/s]"
     ]
    },
    {
     "name": "stdout",
     "output_type": "stream",
     "text": [
      "Failed for Villars-le-Terroir — 429\n",
      "Failed for Vuarrens — 429\n",
      "Failed for Dommartin — 429\n"
     ]
    },
    {
     "name": "stderr",
     "output_type": "stream",
     "text": [
      " 25%|██▌       | 137/545 [00:15<00:36, 11.21it/s]"
     ]
    },
    {
     "name": "stdout",
     "output_type": "stream",
     "text": [
      "Failed for Naz — 429\n",
      "Failed for Poliez-le-Grand — 429\n",
      "Failed for Sugnens — 429\n"
     ]
    },
    {
     "name": "stderr",
     "output_type": "stream",
     "text": [
      " 26%|██▌       | 141/545 [00:16<00:34, 11.57it/s]"
     ]
    },
    {
     "name": "stdout",
     "output_type": "stream",
     "text": [
      "Failed for Goumoens-la-Ville — 429\n",
      "Failed for Eclagnens — 429\n",
      "Failed for Goumoens-le-Jux — 429\n"
     ]
    },
    {
     "name": "stderr",
     "output_type": "stream",
     "text": [
      " 26%|██▌       | 143/545 [00:16<00:38, 10.35it/s]"
     ]
    },
    {
     "name": "stdout",
     "output_type": "stream",
     "text": [
      "Failed for Fontanezier — 429\n",
      "Failed for Bonvillars — 429\n"
     ]
    },
    {
     "name": "stderr",
     "output_type": "stream",
     "text": [
      " 27%|██▋       | 145/545 [00:16<00:36, 10.93it/s]"
     ]
    },
    {
     "name": "stdout",
     "output_type": "stream",
     "text": [
      "Failed for Les Rasses — 429\n",
      "Failed for Bullet — 429\n",
      "Failed for Champagne — 429\n"
     ]
    },
    {
     "name": "stderr",
     "output_type": "stream",
     "text": [
      " 27%|██▋       | 149/545 [00:16<00:34, 11.47it/s]"
     ]
    },
    {
     "name": "stdout",
     "output_type": "stream",
     "text": [
      "Failed for Concise — 429\n",
      "Failed for Vaumarcus — 429\n",
      "Failed for Corcelles-près-Concise — 429\n"
     ]
    },
    {
     "name": "stderr",
     "output_type": "stream",
     "text": [
      " 28%|██▊       | 151/545 [00:17<00:37, 10.55it/s]"
     ]
    },
    {
     "name": "stdout",
     "output_type": "stream",
     "text": [
      "Failed for Fiez — 429\n",
      "Failed for Bullet — 429\n",
      "Failed for Fontaines-sur-Grandson — 429\n"
     ]
    },
    {
     "name": "stderr",
     "output_type": "stream",
     "text": [
      " 28%|██▊       | 153/545 [00:17<00:34, 11.50it/s]"
     ]
    },
    {
     "name": "stdout",
     "output_type": "stream",
     "text": [
      "Failed for Mauborget — 429\n",
      "Failed for Giez — 429\n"
     ]
    },
    {
     "name": "stderr",
     "output_type": "stream",
     "text": [
      " 29%|██▉       | 157/545 [00:17<00:35, 10.92it/s]"
     ]
    },
    {
     "name": "stdout",
     "output_type": "stream",
     "text": [
      "Failed for Grandevent — 429\n",
      "Failed for Bullet — 429\n",
      "Failed for Mauborget — 429\n"
     ]
    },
    {
     "name": "stderr",
     "output_type": "stream",
     "text": [
      " 29%|██▉       | 159/545 [00:17<00:33, 11.69it/s]"
     ]
    },
    {
     "name": "stdout",
     "output_type": "stream",
     "text": [
      "Failed for Grandson — 429\n",
      "Failed for Mauborget — 429\n",
      "Failed for Mutrux — 429\n"
     ]
    },
    {
     "name": "stderr",
     "output_type": "stream",
     "text": [
      " 30%|██▉       | 163/545 [00:18<00:37, 10.17it/s]"
     ]
    },
    {
     "name": "stdout",
     "output_type": "stream",
     "text": [
      "Failed for Novalles — 429\n",
      "Failed for Onnens VD — 429\n",
      "Failed for Provence — 429\n"
     ]
    },
    {
     "name": "stderr",
     "output_type": "stream",
     "text": [
      " 30%|███       | 165/545 [00:18<00:44,  8.63it/s]"
     ]
    },
    {
     "name": "stdout",
     "output_type": "stream",
     "text": [
      "Failed for Couvet — 429\n",
      "Failed for Vuiteboeuf — 429\n"
     ]
    },
    {
     "name": "stderr",
     "output_type": "stream",
     "text": [
      " 31%|███       | 167/545 [00:18<00:40,  9.38it/s]"
     ]
    },
    {
     "name": "stdout",
     "output_type": "stream",
     "text": [
      "Failed for Ste-Croix — 429\n",
      "Failed for La Sagne (Ste-Croix) — 429\n"
     ]
    },
    {
     "name": "stderr",
     "output_type": "stream",
     "text": [
      " 31%|███       | 169/545 [00:19<00:47,  7.98it/s]"
     ]
    },
    {
     "name": "stdout",
     "output_type": "stream",
     "text": [
      "Failed for Le Château-de-Ste-Croix — 429\n",
      "Failed for Les Rasses — 429\n",
      "Failed for L'Auberson — 429\n"
     ]
    },
    {
     "name": "stderr",
     "output_type": "stream",
     "text": [
      " 31%|███▏      | 171/545 [00:19<00:42,  8.77it/s]"
     ]
    },
    {
     "name": "stdout",
     "output_type": "stream",
     "text": [
      "Failed for La Vraconnaz — 429\n",
      "Failed for Villars-Burquin — 429\n"
     ]
    },
    {
     "name": "stderr",
     "output_type": "stream",
     "text": [
      " 32%|███▏      | 174/545 [00:19<00:44,  8.43it/s]"
     ]
    },
    {
     "name": "stdout",
     "output_type": "stream",
     "text": [
      "Failed for Fontanezier — 429\n",
      "Failed for Romairon — 429\n"
     ]
    },
    {
     "name": "stderr",
     "output_type": "stream",
     "text": [
      " 32%|███▏      | 176/545 [00:19<00:38,  9.51it/s]"
     ]
    },
    {
     "name": "stdout",
     "output_type": "stream",
     "text": [
      "Failed for Vaugondry — 429\n",
      "Failed for Mauborget — 429\n",
      "Failed for Belmont-sur-Lausanne — 429\n"
     ]
    },
    {
     "name": "stderr",
     "output_type": "stream",
     "text": [
      " 33%|███▎      | 180/545 [00:20<00:35, 10.31it/s]"
     ]
    },
    {
     "name": "stdout",
     "output_type": "stream",
     "text": [
      "Failed for Cheseaux-sur-Lausanne — 429\n",
      "Failed for Crissier — 429\n",
      "Failed for Cheseaux-sur-Lausanne — 429\n"
     ]
    },
    {
     "name": "stderr",
     "output_type": "stream",
     "text": [
      " 33%|███▎      | 182/545 [00:20<00:34, 10.66it/s]"
     ]
    },
    {
     "name": "stdout",
     "output_type": "stream",
     "text": [
      "Failed for Epalinges — 429\n",
      "Failed for Jouxtens-Mézery — 429\n",
      "Failed for Lausanne 25 — 429\n"
     ]
    },
    {
     "name": "stderr",
     "output_type": "stream",
     "text": [
      " 34%|███▍      | 186/545 [00:20<00:35,  9.99it/s]"
     ]
    },
    {
     "name": "stdout",
     "output_type": "stream",
     "text": [
      "Failed for Lausanne 26 — 429\n",
      "Failed for Lausanne 27 — 429\n",
      "Failed for Lausanne — 429\n"
     ]
    },
    {
     "name": "stderr",
     "output_type": "stream",
     "text": [
      " 34%|███▍      | 188/545 [00:20<00:33, 10.73it/s]"
     ]
    },
    {
     "name": "stdout",
     "output_type": "stream",
     "text": [
      "Failed for Lausanne — 429\n",
      "Failed for Lausanne — 429\n",
      "Failed for Lausanne — 429\n"
     ]
    },
    {
     "name": "stderr",
     "output_type": "stream",
     "text": [
      " 35%|███▌      | 192/545 [00:21<00:30, 11.44it/s]"
     ]
    },
    {
     "name": "stdout",
     "output_type": "stream",
     "text": [
      "Failed for Lausanne — 429\n",
      "Failed for Lausanne — 429\n",
      "Failed for Lausanne — 429\n"
     ]
    },
    {
     "name": "stderr",
     "output_type": "stream",
     "text": [
      " 36%|███▌      | 194/545 [00:21<00:30, 11.34it/s]"
     ]
    },
    {
     "name": "stdout",
     "output_type": "stream",
     "text": [
      "Failed for Lausanne — 429\n",
      "Failed for Lausanne — 429\n"
     ]
    },
    {
     "name": "stderr",
     "output_type": "stream",
     "text": [
      " 36%|███▌      | 196/545 [00:21<00:35,  9.78it/s]"
     ]
    },
    {
     "name": "stdout",
     "output_type": "stream",
     "text": [
      "Failed for Crissier — 429\n",
      "Failed for Romanel-sur-Lausanne — 429\n"
     ]
    },
    {
     "name": "stderr",
     "output_type": "stream",
     "text": [
      " 36%|███▋      | 198/545 [00:21<00:33, 10.28it/s]"
     ]
    },
    {
     "name": "stdout",
     "output_type": "stream",
     "text": [
      "Failed for Cheseaux-sur-Lausanne — 429\n",
      "Failed for Cugy VD — 429\n",
      "Failed for Le Mont-sur-Lausanne — 429\n"
     ]
    },
    {
     "name": "stderr",
     "output_type": "stream",
     "text": [
      " 37%|███▋      | 202/545 [00:22<00:32, 10.40it/s]"
     ]
    },
    {
     "name": "stdout",
     "output_type": "stream",
     "text": [
      "Failed for Paudex — 429\n",
      "Failed for Lutry — 429\n",
      "Failed for Prilly — 429\n"
     ]
    },
    {
     "name": "stderr",
     "output_type": "stream",
     "text": [
      " 37%|███▋      | 204/545 [00:22<00:31, 10.93it/s]"
     ]
    },
    {
     "name": "stdout",
     "output_type": "stream",
     "text": [
      "Failed for Pully — 429\n",
      "Failed for Les Monts-de-Pully — 429\n",
      "Failed for Prilly — 429\n"
     ]
    },
    {
     "name": "stderr",
     "output_type": "stream",
     "text": [
      " 38%|███▊      | 208/545 [00:22<00:32, 10.26it/s]"
     ]
    },
    {
     "name": "stdout",
     "output_type": "stream",
     "text": [
      "Failed for Renens VD — 429\n",
      "Failed for Romanel-sur-Lausanne — 429\n",
      "Failed for Chexbres — 429\n"
     ]
    },
    {
     "name": "stderr",
     "output_type": "stream",
     "text": [
      " 39%|███▊      | 210/545 [00:23<00:30, 10.81it/s]"
     ]
    },
    {
     "name": "stdout",
     "output_type": "stream",
     "text": [
      "Failed for Forel (Lavaux) — 429\n",
      "Failed for Les Cullayes — 429\n",
      "Failed for Grandvaux — 429\n"
     ]
    },
    {
     "name": "stderr",
     "output_type": "stream",
     "text": [
      " 39%|███▉      | 214/545 [00:23<00:30, 10.97it/s]"
     ]
    },
    {
     "name": "stdout",
     "output_type": "stream",
     "text": [
      "Failed for La Croix (Lutry) — 429\n",
      "Failed for Belmont-sur-Lausanne — 429\n",
      "Failed for La Conversion — 429\n"
     ]
    },
    {
     "name": "stderr",
     "output_type": "stream",
     "text": [
      " 40%|███▉      | 216/545 [00:23<00:29, 11.22it/s]"
     ]
    },
    {
     "name": "stdout",
     "output_type": "stream",
     "text": [
      "Failed for Lutry — 429\n",
      "Failed for Puidoux — 429\n"
     ]
    },
    {
     "name": "stderr",
     "output_type": "stream",
     "text": [
      " 40%|████      | 218/545 [00:23<00:33,  9.75it/s]"
     ]
    },
    {
     "name": "stdout",
     "output_type": "stream",
     "text": [
      "Failed for Rivaz — 429\n",
      "Failed for Cully — 429\n",
      "Failed for Epesses — 429\n"
     ]
    },
    {
     "name": "stderr",
     "output_type": "stream",
     "text": [
      " 41%|████      | 222/545 [00:24<00:28, 11.31it/s]"
     ]
    },
    {
     "name": "stdout",
     "output_type": "stream",
     "text": [
      "Failed for Les Thioleyres — 429\n",
      "Failed for Chexbres — 429\n",
      "Failed for Rivaz — 429\n"
     ]
    },
    {
     "name": "stderr",
     "output_type": "stream",
     "text": [
      " 41%|████      | 224/545 [00:24<00:30, 10.40it/s]"
     ]
    },
    {
     "name": "stdout",
     "output_type": "stream",
     "text": [
      "Failed for St-Saphorin (Lavaux) — 429\n",
      "Failed for Savigny — 429\n"
     ]
    },
    {
     "name": "stderr",
     "output_type": "stream",
     "text": [
      " 41%|████▏     | 226/545 [00:24<00:29, 10.81it/s]"
     ]
    },
    {
     "name": "stdout",
     "output_type": "stream",
     "text": [
      "Failed for Mollie-Margot — 429\n",
      "Failed for La Croix (Lutry) — 429\n",
      "Failed for Aran — 429\n"
     ]
    },
    {
     "name": "stderr",
     "output_type": "stream",
     "text": [
      " 42%|████▏     | 230/545 [00:24<00:30, 10.38it/s]"
     ]
    },
    {
     "name": "stdout",
     "output_type": "stream",
     "text": [
      "Failed for Puidoux — 429\n",
      "Failed for Grandvaux — 429\n",
      "Failed for Aran — 429\n"
     ]
    },
    {
     "name": "stderr",
     "output_type": "stream",
     "text": [
      " 43%|████▎     | 232/545 [00:25<00:28, 10.99it/s]"
     ]
    },
    {
     "name": "stdout",
     "output_type": "stream",
     "text": [
      "Failed for Chenaux — 429\n",
      "Failed for Lutry — 429\n",
      "Failed for Cully — 429\n"
     ]
    },
    {
     "name": "stderr",
     "output_type": "stream",
     "text": [
      " 43%|████▎     | 236/545 [00:25<00:30, 10.17it/s]"
     ]
    },
    {
     "name": "stdout",
     "output_type": "stream",
     "text": [
      "Failed for Villette (Lavaux) — 429\n",
      "Failed for Riex — 429\n",
      "Failed for Epesses — 429\n"
     ]
    },
    {
     "name": "stderr",
     "output_type": "stream",
     "text": [
      " 44%|████▎     | 238/545 [00:25<00:28, 10.91it/s]"
     ]
    },
    {
     "name": "stdout",
     "output_type": "stream",
     "text": [
      "Failed for Aclens — 429\n",
      "Failed for Bremblens — 429\n"
     ]
    },
    {
     "name": "stderr",
     "output_type": "stream",
     "text": [
      " 44%|████▍     | 240/545 [00:25<00:30,  9.92it/s]"
     ]
    },
    {
     "name": "stdout",
     "output_type": "stream",
     "text": [
      "Failed for Buchillon — 429\n",
      "Failed for Bussigny — 429\n"
     ]
    },
    {
     "name": "stderr",
     "output_type": "stream",
     "text": [
      " 44%|████▍     | 242/545 [00:26<00:29, 10.18it/s]"
     ]
    },
    {
     "name": "stdout",
     "output_type": "stream",
     "text": [
      "Failed for Lausanne — 429\n",
      "Failed for Chavannes-près-Renens — 429\n",
      "Failed for Chigny — 429\n"
     ]
    },
    {
     "name": "stderr",
     "output_type": "stream",
     "text": [
      " 45%|████▌     | 246/545 [00:26<00:28, 10.48it/s]"
     ]
    },
    {
     "name": "stdout",
     "output_type": "stream",
     "text": [
      "Failed for Clarmont — 429\n",
      "Failed for Denens — 429\n",
      "Failed for Denges — 429\n"
     ]
    },
    {
     "name": "stderr",
     "output_type": "stream",
     "text": [
      " 46%|████▌     | 248/545 [00:26<00:27, 10.68it/s]"
     ]
    },
    {
     "name": "stdout",
     "output_type": "stream",
     "text": [
      "Failed for Echandens — 429\n",
      "Failed for Echichens — 429\n"
     ]
    },
    {
     "name": "stderr",
     "output_type": "stream",
     "text": [
      " 46%|████▌     | 250/545 [00:26<00:31,  9.25it/s]"
     ]
    },
    {
     "name": "stdout",
     "output_type": "stream",
     "text": [
      "Failed for St-Saphorin-sur-Morges — 429\n",
      "Failed for Colombier VD — 429\n",
      "Failed for Monnaz — 429\n"
     ]
    },
    {
     "name": "stderr",
     "output_type": "stream",
     "text": [
      " 47%|████▋     | 254/545 [00:27<00:27, 10.46it/s]"
     ]
    },
    {
     "name": "stdout",
     "output_type": "stream",
     "text": [
      "Failed for Lausanne — 429\n",
      "Failed for Ecublens VD — 429\n",
      "Failed for Etoy — 429\n"
     ]
    },
    {
     "name": "stderr",
     "output_type": "stream",
     "text": [
      " 47%|████▋     | 256/545 [00:27<00:26, 10.85it/s]"
     ]
    },
    {
     "name": "stdout",
     "output_type": "stream",
     "text": [
      "Failed for Aubonne — 429\n",
      "Failed for Lavigny — 429\n",
      "Failed for Lonay — 429\n"
     ]
    },
    {
     "name": "stderr",
     "output_type": "stream",
     "text": [
      " 48%|████▊     | 260/545 [00:27<00:30,  9.49it/s]"
     ]
    },
    {
     "name": "stdout",
     "output_type": "stream",
     "text": [
      "Failed for Lully VD — 429\n",
      "Failed for St-Prex — 429\n",
      "Failed for Lussy-sur-Morges — 429\n"
     ]
    },
    {
     "name": "stderr",
     "output_type": "stream",
     "text": [
      " 48%|████▊     | 262/545 [00:28<00:27, 10.28it/s]"
     ]
    },
    {
     "name": "stdout",
     "output_type": "stream",
     "text": [
      "Failed for Morges — 429\n",
      "Failed for Préverenges — 429\n",
      "Failed for Romanel-sur-Morges — 429\n"
     ]
    },
    {
     "name": "stderr",
     "output_type": "stream",
     "text": [
      " 48%|████▊     | 264/545 [00:28<00:25, 10.84it/s]"
     ]
    },
    {
     "name": "stdout",
     "output_type": "stream",
     "text": [
      "Failed for St-Prex — 429\n",
      "Failed for Lausanne — 429\n"
     ]
    },
    {
     "name": "stderr",
     "output_type": "stream",
     "text": [
      " 49%|████▉     | 268/545 [00:28<00:26, 10.41it/s]"
     ]
    },
    {
     "name": "stdout",
     "output_type": "stream",
     "text": [
      "Failed for St-Sulpice VD — 429\n",
      "Failed for Tolochenaz — 429\n",
      "Failed for Vaux-sur-Morges — 429\n"
     ]
    },
    {
     "name": "stderr",
     "output_type": "stream",
     "text": [
      " 50%|████▉     | 270/545 [00:28<00:25, 10.95it/s]"
     ]
    },
    {
     "name": "stdout",
     "output_type": "stream",
     "text": [
      "Failed for Villars-Ste-Croix — 429\n",
      "Failed for Villars-sous-Yens — 429\n",
      "Failed for Vufflens-le-Château — 429\n"
     ]
    },
    {
     "name": "stderr",
     "output_type": "stream",
     "text": [
      " 50%|█████     | 274/545 [00:29<00:24, 11.24it/s]"
     ]
    },
    {
     "name": "stdout",
     "output_type": "stream",
     "text": [
      "Failed for Vullierens — 429\n",
      "Failed for Yens — 429\n",
      "Failed for Cottens VD — 429\n"
     ]
    },
    {
     "name": "stderr",
     "output_type": "stream",
     "text": [
      " 51%|█████     | 276/545 [00:29<00:23, 11.58it/s]"
     ]
    },
    {
     "name": "stdout",
     "output_type": "stream",
     "text": [
      "Failed for Reverolle — 429\n",
      "Failed for Bussy-Chardonney — 429\n",
      "Failed for Sévery — 429\n"
     ]
    },
    {
     "name": "stderr",
     "output_type": "stream",
     "text": [
      " 51%|█████▏    | 280/545 [00:29<00:22, 11.84it/s]"
     ]
    },
    {
     "name": "stdout",
     "output_type": "stream",
     "text": [
      "Failed for Pampigny — 429\n",
      "Failed for Apples — 429\n",
      "Failed for Bercher — 429\n"
     ]
    },
    {
     "name": "stderr",
     "output_type": "stream",
     "text": [
      " 52%|█████▏    | 282/545 [00:29<00:21, 12.18it/s]"
     ]
    },
    {
     "name": "stdout",
     "output_type": "stream",
     "text": [
      "Failed for Boulens — 429\n",
      "Failed for Bussy-sur-Moudon — 429\n"
     ]
    },
    {
     "name": "stderr",
     "output_type": "stream",
     "text": [
      " 52%|█████▏    | 284/545 [00:30<00:22, 11.39it/s]"
     ]
    },
    {
     "name": "stdout",
     "output_type": "stream",
     "text": [
      "Failed for Moudon — 429\n",
      "Failed for Chavannes-sur-Moudon — 429\n",
      "Failed for Curtilles — 429\n"
     ]
    },
    {
     "name": "stderr",
     "output_type": "stream",
     "text": [
      " 53%|█████▎    | 288/545 [00:30<00:21, 11.90it/s]"
     ]
    },
    {
     "name": "stdout",
     "output_type": "stream",
     "text": [
      "Failed for Dompierre VD — 429\n",
      "Failed for Peney-le-Jorat — 429\n",
      "Failed for Hermenches — 429\n"
     ]
    },
    {
     "name": "stderr",
     "output_type": "stream",
     "text": [
      " 53%|█████▎    | 290/545 [00:30<00:20, 12.25it/s]"
     ]
    },
    {
     "name": "stdout",
     "output_type": "stream",
     "text": [
      "Failed for Lovatens — 429\n",
      "Failed for Lucens — 429\n",
      "Failed for Oulens-sur-Lucens — 429\n"
     ]
    },
    {
     "name": "stderr",
     "output_type": "stream",
     "text": [
      " 54%|█████▍    | 294/545 [00:30<00:19, 12.55it/s]"
     ]
    },
    {
     "name": "stdout",
     "output_type": "stream",
     "text": [
      "Failed for Forel-sur-Lucens — 429\n",
      "Failed for Cremin — 429\n",
      "Failed for Brenles — 429\n"
     ]
    },
    {
     "name": "stderr",
     "output_type": "stream",
     "text": [
      " 54%|█████▍    | 296/545 [00:30<00:19, 12.79it/s]"
     ]
    },
    {
     "name": "stdout",
     "output_type": "stream",
     "text": [
      "Failed for Chesalles-sur-Moudon — 429\n",
      "Failed for Sarzens — 429\n",
      "Failed for Moudon — 429\n"
     ]
    },
    {
     "name": "stderr",
     "output_type": "stream",
     "text": [
      " 55%|█████▍    | 298/545 [00:31<00:19, 12.84it/s]"
     ]
    },
    {
     "name": "stdout",
     "output_type": "stream",
     "text": [
      "Failed for Ogens — 429\n",
      "Failed for Prévonloup — 429\n"
     ]
    },
    {
     "name": "stderr",
     "output_type": "stream",
     "text": [
      " 55%|█████▌    | 302/545 [00:31<00:21, 11.42it/s]"
     ]
    },
    {
     "name": "stdout",
     "output_type": "stream",
     "text": [
      "Failed for Rossenges — 429\n",
      "Failed for Syens — 429\n",
      "Failed for Villars-le-Comte — 429\n"
     ]
    },
    {
     "name": "stderr",
     "output_type": "stream",
     "text": [
      " 56%|█████▌    | 304/545 [00:31<00:20, 11.98it/s]"
     ]
    },
    {
     "name": "stdout",
     "output_type": "stream",
     "text": [
      "Failed for Vucherens — 429\n",
      "Failed for Bercher — 429\n",
      "Failed for Chapelle-sur-Moudon — 429\n"
     ]
    },
    {
     "name": "stderr",
     "output_type": "stream",
     "text": [
      " 57%|█████▋    | 308/545 [00:31<00:19, 11.96it/s]"
     ]
    },
    {
     "name": "stdout",
     "output_type": "stream",
     "text": [
      "Failed for Martherenges — 429\n",
      "Failed for Peyres-Possens — 429\n",
      "Failed for Chanéaz — 429\n"
     ]
    },
    {
     "name": "stderr",
     "output_type": "stream",
     "text": [
      " 57%|█████▋    | 310/545 [00:32<00:18, 12.62it/s]"
     ]
    },
    {
     "name": "stdout",
     "output_type": "stream",
     "text": [
      "Failed for Thierrens — 429\n",
      "Failed for Correvon — 429\n",
      "Failed for Denezy — 429\n"
     ]
    },
    {
     "name": "stderr",
     "output_type": "stream",
     "text": [
      " 58%|█████▊    | 314/545 [00:32<00:18, 12.53it/s]"
     ]
    },
    {
     "name": "stdout",
     "output_type": "stream",
     "text": [
      "Failed for St-Cierges — 429\n",
      "Failed for Neyruz-sur-Moudon — 429\n",
      "Failed for Arnex-sur-Nyon — 429\n"
     ]
    },
    {
     "name": "stderr",
     "output_type": "stream",
     "text": [
      " 58%|█████▊    | 316/545 [00:32<00:18, 12.44it/s]"
     ]
    },
    {
     "name": "stdout",
     "output_type": "stream",
     "text": [
      "Failed for St-Cergue — 429\n",
      "Failed for Arzier-Le Muids — 429\n"
     ]
    },
    {
     "name": "stderr",
     "output_type": "stream",
     "text": [
      " 58%|█████▊    | 318/545 [00:32<00:20, 11.03it/s]"
     ]
    },
    {
     "name": "stdout",
     "output_type": "stream",
     "text": [
      "Failed for Bassins — 429\n",
      "Failed for Begnins — 429\n",
      "Failed for Bogis-Bossey — 429\n"
     ]
    },
    {
     "name": "stderr",
     "output_type": "stream",
     "text": [
      " 59%|█████▉    | 322/545 [00:33<00:19, 11.37it/s]"
     ]
    },
    {
     "name": "stdout",
     "output_type": "stream",
     "text": [
      "Failed for Borex — 429\n",
      "Failed for Chavannes-de-Bogis — 429\n",
      "Failed for Chavannes-des-Bois — 429\n"
     ]
    },
    {
     "name": "stderr",
     "output_type": "stream",
     "text": [
      " 59%|█████▉    | 324/545 [00:33<00:18, 12.08it/s]"
     ]
    },
    {
     "name": "stdout",
     "output_type": "stream",
     "text": [
      "Failed for Chéserex — 429\n",
      "Failed for Gingins — 429\n",
      "Failed for Coinsins — 429\n"
     ]
    },
    {
     "name": "stderr",
     "output_type": "stream",
     "text": [
      " 60%|██████    | 328/545 [00:33<00:18, 11.86it/s]"
     ]
    },
    {
     "name": "stdout",
     "output_type": "stream",
     "text": [
      "Failed for Commugny — 429\n",
      "Failed for Coppet — 429\n",
      "Failed for Founex — 429\n"
     ]
    },
    {
     "name": "stderr",
     "output_type": "stream",
     "text": [
      " 61%|██████    | 330/545 [00:33<00:17, 12.05it/s]"
     ]
    },
    {
     "name": "stdout",
     "output_type": "stream",
     "text": [
      "Failed for Crans VD — 429\n",
      "Failed for Crassier — 429\n",
      "Failed for Duillier — 429\n"
     ]
    },
    {
     "name": "stderr",
     "output_type": "stream",
     "text": [
      " 61%|██████    | 332/545 [00:34<00:17, 12.33it/s]"
     ]
    },
    {
     "name": "stdout",
     "output_type": "stream",
     "text": [
      "Failed for Eysins — 429\n",
      "Failed for Founex — 429\n"
     ]
    },
    {
     "name": "stderr",
     "output_type": "stream",
     "text": [
      " 62%|██████▏   | 336/545 [00:34<00:17, 12.09it/s]"
     ]
    },
    {
     "name": "stdout",
     "output_type": "stream",
     "text": [
      "Failed for Genolier — 429\n",
      "Failed for Gingins — 429\n",
      "Failed for Givrins — 429\n"
     ]
    },
    {
     "name": "stderr",
     "output_type": "stream",
     "text": [
      " 62%|██████▏   | 338/545 [00:34<00:16, 12.50it/s]"
     ]
    },
    {
     "name": "stdout",
     "output_type": "stream",
     "text": [
      "Failed for Genolier — 429\n",
      "Failed for Gland — 429\n",
      "Failed for Grens — 429\n"
     ]
    },
    {
     "name": "stderr",
     "output_type": "stream",
     "text": [
      " 63%|██████▎   | 342/545 [00:34<00:16, 12.50it/s]"
     ]
    },
    {
     "name": "stdout",
     "output_type": "stream",
     "text": [
      "Failed for Versoix — 429\n",
      "Failed for Mies — 429\n",
      "Failed for Nyon — 429\n"
     ]
    },
    {
     "name": "stderr",
     "output_type": "stream",
     "text": [
      " 63%|██████▎   | 344/545 [00:34<00:16, 12.36it/s]"
     ]
    },
    {
     "name": "stdout",
     "output_type": "stream",
     "text": [
      "Failed for Prangins — 429\n",
      "Failed for Nyon — 429\n",
      "Failed for Chéserex — 429\n"
     ]
    },
    {
     "name": "stderr",
     "output_type": "stream",
     "text": [
      " 64%|██████▍   | 348/545 [00:35<00:15, 12.58it/s]"
     ]
    },
    {
     "name": "stdout",
     "output_type": "stream",
     "text": [
      "Failed for La Rippe — 429\n",
      "Failed for St-Cergue — 429\n",
      "Failed for La Cure — 429\n"
     ]
    },
    {
     "name": "stderr",
     "output_type": "stream",
     "text": [
      " 64%|██████▍   | 350/545 [00:35<00:18, 10.65it/s]"
     ]
    },
    {
     "name": "stdout",
     "output_type": "stream",
     "text": [
      "Failed for Gingins — 429\n",
      "Failed for Signy — 429\n"
     ]
    },
    {
     "name": "stderr",
     "output_type": "stream",
     "text": [
      " 65%|██████▍   | 352/545 [00:35<00:19,  9.78it/s]"
     ]
    },
    {
     "name": "stdout",
     "output_type": "stream",
     "text": [
      "Failed for Tannay — 429\n",
      "Failed for Trélex — 429\n"
     ]
    },
    {
     "name": "stderr",
     "output_type": "stream",
     "text": [
      " 65%|██████▍   | 354/545 [00:35<00:18, 10.41it/s]"
     ]
    },
    {
     "name": "stdout",
     "output_type": "stream",
     "text": [
      "Failed for Le Vaud — 429\n",
      "Failed for Vich — 429\n",
      "Failed for L'Abergement — 429\n"
     ]
    },
    {
     "name": "stderr",
     "output_type": "stream",
     "text": [
      " 66%|██████▌   | 358/545 [00:36<00:16, 11.56it/s]"
     ]
    },
    {
     "name": "stdout",
     "output_type": "stream",
     "text": [
      "Failed for Lignerolle — 429\n",
      "Failed for Agiez — 429\n",
      "Failed for Arnex-sur-Orbe — 429\n"
     ]
    },
    {
     "name": "stderr",
     "output_type": "stream",
     "text": [
      " 66%|██████▌   | 360/545 [00:36<00:15, 12.12it/s]"
     ]
    },
    {
     "name": "stdout",
     "output_type": "stream",
     "text": [
      "Failed for Ballaigues — 429\n",
      "Failed for Baulmes — 429\n",
      "Failed for L'Auberson — 429\n"
     ]
    },
    {
     "name": "stderr",
     "output_type": "stream",
     "text": [
      " 67%|██████▋   | 364/545 [00:36<00:15, 12.03it/s]"
     ]
    },
    {
     "name": "stdout",
     "output_type": "stream",
     "text": [
      "Failed for Bavois — 429\n",
      "Failed for Bofflens — 429\n",
      "Failed for Bretonnières — 429\n"
     ]
    },
    {
     "name": "stderr",
     "output_type": "stream",
     "text": [
      " 67%|██████▋   | 366/545 [00:36<00:14, 12.57it/s]"
     ]
    },
    {
     "name": "stdout",
     "output_type": "stream",
     "text": [
      "Failed for Chavornay — 429\n",
      "Failed for Corcelles-sur-Chavornay — 429\n",
      "Failed for Essert-Pittet — 429\n"
     ]
    },
    {
     "name": "stderr",
     "output_type": "stream",
     "text": [
      " 68%|██████▊   | 368/545 [00:37<00:17,  9.92it/s]\n"
     ]
    },
    {
     "name": "stdout",
     "output_type": "stream",
     "text": [
      "Failed for Les Clées — 429\n"
     ]
    },
    {
     "ename": "KeyboardInterrupt",
     "evalue": "",
     "output_type": "error",
     "traceback": [
      "\u001b[0;31m---------------------------------------------------------------------------\u001b[0m",
      "\u001b[0;31mKeyboardInterrupt\u001b[0m                         Traceback (most recent call last)",
      "Cell \u001b[0;32mIn[33], line 18\u001b[0m\n\u001b[1;32m     12\u001b[0m params \u001b[38;5;241m=\u001b[39m {\n\u001b[1;32m     13\u001b[0m     \u001b[38;5;124m'\u001b[39m\u001b[38;5;124mstart\u001b[39m\u001b[38;5;124m'\u001b[39m: city_lng_lat,\n\u001b[1;32m     14\u001b[0m     \u001b[38;5;124m'\u001b[39m\u001b[38;5;124mend\u001b[39m\u001b[38;5;124m'\u001b[39m: \u001b[38;5;124m'\u001b[39m\u001b[38;5;124m46.60396069250175, 6.538034286509177\u001b[39m\u001b[38;5;124m'\u001b[39m,  \u001b[38;5;66;03m# Venoge coordinates\u001b[39;00m\n\u001b[1;32m     15\u001b[0m }\n\u001b[1;32m     17\u001b[0m \u001b[38;5;28;01mtry\u001b[39;00m:\n\u001b[0;32m---> 18\u001b[0m     response \u001b[38;5;241m=\u001b[39m \u001b[43mrequests\u001b[49m\u001b[38;5;241;43m.\u001b[39;49m\u001b[43mget\u001b[49m\u001b[43m(\u001b[49m\u001b[38;5;124;43mf\u001b[39;49m\u001b[38;5;124;43m'\u001b[39;49m\u001b[38;5;124;43mhttps://api.openrouteservice.org/v2/directions/driving-car?api_key=\u001b[39;49m\u001b[38;5;132;43;01m{\u001b[39;49;00m\u001b[43mAPI_key\u001b[49m\u001b[38;5;132;43;01m}\u001b[39;49;00m\u001b[38;5;124;43m&start=\u001b[39;49m\u001b[38;5;132;43;01m{\u001b[39;49;00m\u001b[43mcity_lng_lat\u001b[49m\u001b[38;5;132;43;01m}\u001b[39;49;00m\u001b[38;5;124;43m&end=46.60396069250175, 6.538034286509177\u001b[39;49m\u001b[38;5;124;43m'\u001b[39;49m\u001b[43m)\u001b[49m\n\u001b[1;32m     19\u001b[0m     \u001b[38;5;28;01mif\u001b[39;00m response\u001b[38;5;241m.\u001b[39mstatus_code \u001b[38;5;241m==\u001b[39m \u001b[38;5;241m200\u001b[39m:\n\u001b[1;32m     20\u001b[0m         data \u001b[38;5;241m=\u001b[39m response\u001b[38;5;241m.\u001b[39mjson()\n",
      "File \u001b[0;32m~/MGT-502/.conda/lib/python3.11/site-packages/requests/api.py:73\u001b[0m, in \u001b[0;36mget\u001b[0;34m(url, params, **kwargs)\u001b[0m\n\u001b[1;32m     62\u001b[0m \u001b[38;5;28;01mdef\u001b[39;00m\u001b[38;5;250m \u001b[39m\u001b[38;5;21mget\u001b[39m(url, params\u001b[38;5;241m=\u001b[39m\u001b[38;5;28;01mNone\u001b[39;00m, \u001b[38;5;241m*\u001b[39m\u001b[38;5;241m*\u001b[39mkwargs):\n\u001b[1;32m     63\u001b[0m \u001b[38;5;250m    \u001b[39m\u001b[38;5;124mr\u001b[39m\u001b[38;5;124;03m\"\"\"Sends a GET request.\u001b[39;00m\n\u001b[1;32m     64\u001b[0m \n\u001b[1;32m     65\u001b[0m \u001b[38;5;124;03m    :param url: URL for the new :class:`Request` object.\u001b[39;00m\n\u001b[0;32m   (...)\u001b[0m\n\u001b[1;32m     70\u001b[0m \u001b[38;5;124;03m    :rtype: requests.Response\u001b[39;00m\n\u001b[1;32m     71\u001b[0m \u001b[38;5;124;03m    \"\"\"\u001b[39;00m\n\u001b[0;32m---> 73\u001b[0m     \u001b[38;5;28;01mreturn\u001b[39;00m \u001b[43mrequest\u001b[49m\u001b[43m(\u001b[49m\u001b[38;5;124;43m\"\u001b[39;49m\u001b[38;5;124;43mget\u001b[39;49m\u001b[38;5;124;43m\"\u001b[39;49m\u001b[43m,\u001b[49m\u001b[43m \u001b[49m\u001b[43murl\u001b[49m\u001b[43m,\u001b[49m\u001b[43m \u001b[49m\u001b[43mparams\u001b[49m\u001b[38;5;241;43m=\u001b[39;49m\u001b[43mparams\u001b[49m\u001b[43m,\u001b[49m\u001b[43m \u001b[49m\u001b[38;5;241;43m*\u001b[39;49m\u001b[38;5;241;43m*\u001b[39;49m\u001b[43mkwargs\u001b[49m\u001b[43m)\u001b[49m\n",
      "File \u001b[0;32m~/MGT-502/.conda/lib/python3.11/site-packages/requests/api.py:59\u001b[0m, in \u001b[0;36mrequest\u001b[0;34m(method, url, **kwargs)\u001b[0m\n\u001b[1;32m     55\u001b[0m \u001b[38;5;66;03m# By using the 'with' statement we are sure the session is closed, thus we\u001b[39;00m\n\u001b[1;32m     56\u001b[0m \u001b[38;5;66;03m# avoid leaving sockets open which can trigger a ResourceWarning in some\u001b[39;00m\n\u001b[1;32m     57\u001b[0m \u001b[38;5;66;03m# cases, and look like a memory leak in others.\u001b[39;00m\n\u001b[1;32m     58\u001b[0m \u001b[38;5;28;01mwith\u001b[39;00m sessions\u001b[38;5;241m.\u001b[39mSession() \u001b[38;5;28;01mas\u001b[39;00m session:\n\u001b[0;32m---> 59\u001b[0m     \u001b[38;5;28;01mreturn\u001b[39;00m \u001b[43msession\u001b[49m\u001b[38;5;241;43m.\u001b[39;49m\u001b[43mrequest\u001b[49m\u001b[43m(\u001b[49m\u001b[43mmethod\u001b[49m\u001b[38;5;241;43m=\u001b[39;49m\u001b[43mmethod\u001b[49m\u001b[43m,\u001b[49m\u001b[43m \u001b[49m\u001b[43murl\u001b[49m\u001b[38;5;241;43m=\u001b[39;49m\u001b[43murl\u001b[49m\u001b[43m,\u001b[49m\u001b[43m \u001b[49m\u001b[38;5;241;43m*\u001b[39;49m\u001b[38;5;241;43m*\u001b[39;49m\u001b[43mkwargs\u001b[49m\u001b[43m)\u001b[49m\n",
      "File \u001b[0;32m~/MGT-502/.conda/lib/python3.11/site-packages/requests/sessions.py:575\u001b[0m, in \u001b[0;36mSession.request\u001b[0;34m(self, method, url, params, data, headers, cookies, files, auth, timeout, allow_redirects, proxies, hooks, stream, verify, cert, json)\u001b[0m\n\u001b[1;32m    562\u001b[0m \u001b[38;5;66;03m# Create the Request.\u001b[39;00m\n\u001b[1;32m    563\u001b[0m req \u001b[38;5;241m=\u001b[39m Request(\n\u001b[1;32m    564\u001b[0m     method\u001b[38;5;241m=\u001b[39mmethod\u001b[38;5;241m.\u001b[39mupper(),\n\u001b[1;32m    565\u001b[0m     url\u001b[38;5;241m=\u001b[39murl,\n\u001b[0;32m   (...)\u001b[0m\n\u001b[1;32m    573\u001b[0m     hooks\u001b[38;5;241m=\u001b[39mhooks,\n\u001b[1;32m    574\u001b[0m )\n\u001b[0;32m--> 575\u001b[0m prep \u001b[38;5;241m=\u001b[39m \u001b[38;5;28;43mself\u001b[39;49m\u001b[38;5;241;43m.\u001b[39;49m\u001b[43mprepare_request\u001b[49m\u001b[43m(\u001b[49m\u001b[43mreq\u001b[49m\u001b[43m)\u001b[49m\n\u001b[1;32m    577\u001b[0m proxies \u001b[38;5;241m=\u001b[39m proxies \u001b[38;5;129;01mor\u001b[39;00m {}\n\u001b[1;32m    579\u001b[0m settings \u001b[38;5;241m=\u001b[39m \u001b[38;5;28mself\u001b[39m\u001b[38;5;241m.\u001b[39mmerge_environment_settings(\n\u001b[1;32m    580\u001b[0m     prep\u001b[38;5;241m.\u001b[39murl, proxies, stream, verify, cert\n\u001b[1;32m    581\u001b[0m )\n",
      "File \u001b[0;32m~/MGT-502/.conda/lib/python3.11/site-packages/requests/sessions.py:481\u001b[0m, in \u001b[0;36mSession.prepare_request\u001b[0;34m(self, request)\u001b[0m\n\u001b[1;32m    479\u001b[0m auth \u001b[38;5;241m=\u001b[39m request\u001b[38;5;241m.\u001b[39mauth\n\u001b[1;32m    480\u001b[0m \u001b[38;5;28;01mif\u001b[39;00m \u001b[38;5;28mself\u001b[39m\u001b[38;5;241m.\u001b[39mtrust_env \u001b[38;5;129;01mand\u001b[39;00m \u001b[38;5;129;01mnot\u001b[39;00m auth \u001b[38;5;129;01mand\u001b[39;00m \u001b[38;5;129;01mnot\u001b[39;00m \u001b[38;5;28mself\u001b[39m\u001b[38;5;241m.\u001b[39mauth:\n\u001b[0;32m--> 481\u001b[0m     auth \u001b[38;5;241m=\u001b[39m \u001b[43mget_netrc_auth\u001b[49m\u001b[43m(\u001b[49m\u001b[43mrequest\u001b[49m\u001b[38;5;241;43m.\u001b[39;49m\u001b[43murl\u001b[49m\u001b[43m)\u001b[49m\n\u001b[1;32m    483\u001b[0m p \u001b[38;5;241m=\u001b[39m PreparedRequest()\n\u001b[1;32m    484\u001b[0m p\u001b[38;5;241m.\u001b[39mprepare(\n\u001b[1;32m    485\u001b[0m     method\u001b[38;5;241m=\u001b[39mrequest\u001b[38;5;241m.\u001b[39mmethod\u001b[38;5;241m.\u001b[39mupper(),\n\u001b[1;32m    486\u001b[0m     url\u001b[38;5;241m=\u001b[39mrequest\u001b[38;5;241m.\u001b[39murl,\n\u001b[0;32m   (...)\u001b[0m\n\u001b[1;32m    496\u001b[0m     hooks\u001b[38;5;241m=\u001b[39mmerge_hooks(request\u001b[38;5;241m.\u001b[39mhooks, \u001b[38;5;28mself\u001b[39m\u001b[38;5;241m.\u001b[39mhooks),\n\u001b[1;32m    497\u001b[0m )\n",
      "File \u001b[0;32m~/MGT-502/.conda/lib/python3.11/site-packages/requests/utils.py:227\u001b[0m, in \u001b[0;36mget_netrc_auth\u001b[0;34m(url, raise_errors)\u001b[0m\n\u001b[1;32m    221\u001b[0m \u001b[38;5;28;01mexcept\u001b[39;00m \u001b[38;5;167;01mKeyError\u001b[39;00m:\n\u001b[1;32m    222\u001b[0m     \u001b[38;5;66;03m# os.path.expanduser can fail when $HOME is undefined and\u001b[39;00m\n\u001b[1;32m    223\u001b[0m     \u001b[38;5;66;03m# getpwuid fails. See https://bugs.python.org/issue20164 &\u001b[39;00m\n\u001b[1;32m    224\u001b[0m     \u001b[38;5;66;03m# https://github.com/psf/requests/issues/1846\u001b[39;00m\n\u001b[1;32m    225\u001b[0m     \u001b[38;5;28;01mreturn\u001b[39;00m\n\u001b[0;32m--> 227\u001b[0m \u001b[38;5;28;01mif\u001b[39;00m os\u001b[38;5;241m.\u001b[39mpath\u001b[38;5;241m.\u001b[39mexists(loc):\n\u001b[1;32m    228\u001b[0m     netrc_path \u001b[38;5;241m=\u001b[39m loc\n\u001b[1;32m    229\u001b[0m     \u001b[38;5;28;01mbreak\u001b[39;00m\n",
      "\u001b[0;31mKeyboardInterrupt\u001b[0m: "
     ]
    }
   ],
   "source": [
    "from tqdm import tqdm\n",
    "headers = {\n",
    "    'Accept': 'application/json',\n",
    "    'Authorization': API_key  # This is required for ORS v2\n",
    "}\n",
    "\n",
    "# Loop through each city in the DataFrame\n",
    "for index, row in tqdm(vaud_cities.iterrows(), total=vaud_cities.shape[0]):\n",
    "    city_lng_lat = f\"{row['lng']},{row['lat']}\"  # must be lng,lat\n",
    "\n",
    "    url = f\"https://api.openrouteservice.org/v2/directions/driving-car\"\n",
    "    params = {\n",
    "        'start': city_lng_lat,\n",
    "        'end': '46.60396069250175,6.538034286509177',  # Venoge coordinates\n",
    "    }\n",
    "\n",
    "    try:\n",
    "        response = requests.get(f'https://api.openrouteservice.org/v2/directions/driving-car?api_key={API_key}&start={city_lng_lat}&end=46.60396069250175,6.538034286509177')\n",
    "        if response.status_code == 200:\n",
    "            data = response.json()\n",
    "            distance_m = data['features'][0]['properties']['segments'][0]['distance']\n",
    "            vaud_cities.at[index, 'distance_to_venoge_km'] = round(distance_m / 1000, 2)\n",
    "        else:\n",
    "            print(f\"Failed for {row['commune']} — {response.status_code}\")\n",
    "            vaud_cities.at[index, 'distance_to_venoge_km'] = None\n",
    "    except Exception as e:\n",
    "        print(f\"Error at row {index}: {e}\")\n",
    "        df.at[index, 'distance_to_venoge_km'] = None"
   ]
  }
 ],
 "metadata": {
  "kernelspec": {
   "display_name": "Python 3",
   "language": "python",
   "name": "python3"
  },
  "language_info": {
   "codemirror_mode": {
    "name": "ipython",
    "version": 3
   },
   "file_extension": ".py",
   "mimetype": "text/x-python",
   "name": "python",
   "nbconvert_exporter": "python",
   "pygments_lexer": "ipython3",
   "version": "3.11.11"
  }
 },
 "nbformat": 4,
 "nbformat_minor": 2
}
