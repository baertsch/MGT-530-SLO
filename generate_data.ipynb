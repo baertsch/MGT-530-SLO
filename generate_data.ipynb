{
 "cells": [
  {
   "cell_type": "code",
   "execution_count": 1,
   "metadata": {},
   "outputs": [
    {
     "name": "stdout",
     "output_type": "stream",
     "text": [
      "Requirement already satisfied: openrouteservice in /Users/zeliadecaillet/anaconda3/lib/python3.11/site-packages (2.3.3)\n",
      "Requirement already satisfied: requests>=2.0 in /Users/zeliadecaillet/anaconda3/lib/python3.11/site-packages (from openrouteservice) (2.31.0)\n",
      "Requirement already satisfied: charset-normalizer<4,>=2 in /Users/zeliadecaillet/anaconda3/lib/python3.11/site-packages (from requests>=2.0->openrouteservice) (2.0.4)\n",
      "Requirement already satisfied: idna<4,>=2.5 in /Users/zeliadecaillet/anaconda3/lib/python3.11/site-packages (from requests>=2.0->openrouteservice) (3.4)\n",
      "Requirement already satisfied: urllib3<3,>=1.21.1 in /Users/zeliadecaillet/anaconda3/lib/python3.11/site-packages (from requests>=2.0->openrouteservice) (1.26.16)\n",
      "Requirement already satisfied: certifi>=2017.4.17 in /Users/zeliadecaillet/anaconda3/lib/python3.11/site-packages (from requests>=2.0->openrouteservice) (2024.8.30)\n",
      "\n",
      "\u001b[1m[\u001b[0m\u001b[34;49mnotice\u001b[0m\u001b[1;39;49m]\u001b[0m\u001b[39;49m A new release of pip is available: \u001b[0m\u001b[31;49m25.0.1\u001b[0m\u001b[39;49m -> \u001b[0m\u001b[32;49m25.1.1\u001b[0m\n",
      "\u001b[1m[\u001b[0m\u001b[34;49mnotice\u001b[0m\u001b[1;39;49m]\u001b[0m\u001b[39;49m To update, run: \u001b[0m\u001b[32;49mpip install --upgrade pip\u001b[0m\n",
      "Note: you may need to restart the kernel to use updated packages.\n"
     ]
    }
   ],
   "source": [
    "pip install openrouteservice"
   ]
  },
  {
   "cell_type": "code",
   "execution_count": 2,
   "metadata": {},
   "outputs": [],
   "source": [
    "import requests\n",
    "import pandas as pd\n",
    "import openrouteservice as ors"
   ]
  },
  {
   "cell_type": "code",
   "execution_count": 3,
   "metadata": {},
   "outputs": [],
   "source": [
    "API_key = '5b3ce3597851110001cf62487fdbd58fccf548529a19d99f12b4692d'"
   ]
  },
  {
   "cell_type": "code",
   "execution_count": 4,
   "metadata": {},
   "outputs": [
    {
     "data": {
      "text/html": [
       "<div>\n",
       "<style scoped>\n",
       "    .dataframe tbody tr th:only-of-type {\n",
       "        vertical-align: middle;\n",
       "    }\n",
       "\n",
       "    .dataframe tbody tr th {\n",
       "        vertical-align: top;\n",
       "    }\n",
       "\n",
       "    .dataframe thead th {\n",
       "        text-align: right;\n",
       "    }\n",
       "</style>\n",
       "<table border=\"1\" class=\"dataframe\">\n",
       "  <thead>\n",
       "    <tr style=\"text-align: right;\">\n",
       "      <th></th>\n",
       "      <th></th>\n",
       "      <th></th>\n",
       "      <th></th>\n",
       "      <th></th>\n",
       "      <th></th>\n",
       "      <th></th>\n",
       "      <th></th>\n",
       "      <th></th>\n",
       "      <th></th>\n",
       "      <th></th>\n",
       "      <th></th>\n",
       "      <th></th>\n",
       "      <th></th>\n",
       "      <th></th>\n",
       "      <th></th>\n",
       "      <th></th>\n",
       "      <th></th>\n",
       "      <th></th>\n",
       "      <th></th>\n",
       "      <th></th>\n",
       "      <th></th>\n",
       "      <th></th>\n",
       "      <th></th>\n",
       "      <th></th>\n",
       "      <th></th>\n",
       "      <th></th>\n",
       "      <th></th>\n",
       "      <th></th>\n",
       "      <th></th>\n",
       "      <th></th>\n",
       "      <th></th>\n",
       "      <th></th>\n",
       "      <th></th>\n",
       "      <th></th>\n",
       "      <th></th>\n",
       "      <th></th>\n",
       "      <th></th>\n",
       "      <th></th>\n",
       "      <th></th>\n",
       "      <th></th>\n",
       "      <th></th>\n",
       "      <th></th>\n",
       "      <th></th>\n",
       "      <th></th>\n",
       "      <th></th>\n",
       "      <th></th>\n",
       "      <th></th>\n",
       "      <th></th>\n",
       "      <th></th>\n",
       "      <th></th>\n",
       "      <th></th>\n",
       "      <th></th>\n",
       "      <th></th>\n",
       "      <th></th>\n",
       "      <th></th>\n",
       "      <th></th>\n",
       "      <th></th>\n",
       "      <th></th>\n",
       "      <th></th>\n",
       "      <th></th>\n",
       "      <th></th>\n",
       "      <th></th>\n",
       "      <th></th>\n",
       "      <th></th>\n",
       "      <th></th>\n",
       "      <th></th>\n",
       "      <th></th>\n",
       "      <th></th>\n",
       "      <th></th>\n",
       "      <th></th>\n",
       "      <th></th>\n",
       "      <th></th>\n",
       "      <th></th>\n",
       "      <th></th>\n",
       "      <th></th>\n",
       "      <th></th>\n",
       "      <th></th>\n",
       "      <th></th>\n",
       "      <th></th>\n",
       "      <th></th>\n",
       "      <th></th>\n",
       "      <th></th>\n",
       "      <th></th>\n",
       "      <th></th>\n",
       "      <th></th>\n",
       "      <th></th>\n",
       "      <th></th>\n",
       "      <th></th>\n",
       "      <th></th>\n",
       "      <th></th>\n",
       "      <th></th>\n",
       "      <th></th>\n",
       "      <th></th>\n",
       "      <th></th>\n",
       "      <th></th>\n",
       "      <th></th>\n",
       "      <th></th>\n",
       "      <th></th>\n",
       "      <th></th>\n",
       "      <th>commune</th>\n",
       "      <th>NPA</th>\n",
       "      <th></th>\n",
       "      <th>Commune d'annonce</th>\n",
       "      <th>Commune d'annonce référence</th>\n",
       "      <th>canton</th>\n",
       "      <th>E</th>\n",
       "      <th>N</th>\n",
       "      <th>langue</th>\n",
       "      <th>date_validite</th>\n",
       "    </tr>\n",
       "  </thead>\n",
       "  <tbody>\n",
       "    <tr>\n",
       "      <th>Commune</th>\n",
       "      <th>NPA</th>\n",
       "      <th>Commune d'annonce / District</th>\n",
       "      <th>Commune d'annonce référence</th>\n",
       "      <th>Canton</th>\n",
       "      <th>E</th>\n",
       "      <th>N</th>\n",
       "      <th>Langue</th>\n",
       "      <th>Nb d'habitants</th>\n",
       "      <th>0 an</th>\n",
       "      <th>1 an</th>\n",
       "      <th>2 ans</th>\n",
       "      <th>3 ans</th>\n",
       "      <th>4 ans</th>\n",
       "      <th>5 ans</th>\n",
       "      <th>6 ans</th>\n",
       "      <th>7 ans</th>\n",
       "      <th>8 ans</th>\n",
       "      <th>9 ans</th>\n",
       "      <th>10 ans</th>\n",
       "      <th>11 ans</th>\n",
       "      <th>12 ans</th>\n",
       "      <th>13 ans</th>\n",
       "      <th>14 ans</th>\n",
       "      <th>15 ans</th>\n",
       "      <th>16 ans</th>\n",
       "      <th>17 ans</th>\n",
       "      <th>18 ans</th>\n",
       "      <th>19 ans</th>\n",
       "      <th>20 ans</th>\n",
       "      <th>21 ans</th>\n",
       "      <th>22 ans</th>\n",
       "      <th>23 ans</th>\n",
       "      <th>24 ans</th>\n",
       "      <th>25 ans</th>\n",
       "      <th>26 ans</th>\n",
       "      <th>27 ans</th>\n",
       "      <th>28 ans</th>\n",
       "      <th>29 ans</th>\n",
       "      <th>30 ans</th>\n",
       "      <th>31 ans</th>\n",
       "      <th>32 ans</th>\n",
       "      <th>33 ans</th>\n",
       "      <th>34 ans</th>\n",
       "      <th>35 ans</th>\n",
       "      <th>36 ans</th>\n",
       "      <th>37 ans</th>\n",
       "      <th>38 ans</th>\n",
       "      <th>39 ans</th>\n",
       "      <th>40 ans</th>\n",
       "      <th>41 ans</th>\n",
       "      <th>42 ans</th>\n",
       "      <th>43 ans</th>\n",
       "      <th>44 ans</th>\n",
       "      <th>45 ans</th>\n",
       "      <th>46 ans</th>\n",
       "      <th>47 ans</th>\n",
       "      <th>48 ans</th>\n",
       "      <th>49 ans</th>\n",
       "      <th>50 ans</th>\n",
       "      <th>51 ans</th>\n",
       "      <th>52 ans</th>\n",
       "      <th>53 ans</th>\n",
       "      <th>54 ans</th>\n",
       "      <th>55 ans</th>\n",
       "      <th>56 ans</th>\n",
       "      <th>57 ans</th>\n",
       "      <th>58 ans</th>\n",
       "      <th>59 ans</th>\n",
       "      <th>60 ans</th>\n",
       "      <th>61 ans</th>\n",
       "      <th>62 ans</th>\n",
       "      <th>63 ans</th>\n",
       "      <th>64 ans</th>\n",
       "      <th>65 ans</th>\n",
       "      <th>66 ans</th>\n",
       "      <th>67 ans</th>\n",
       "      <th>68 ans</th>\n",
       "      <th>69 ans</th>\n",
       "      <th>70 ans</th>\n",
       "      <th>71 ans</th>\n",
       "      <th>72 ans</th>\n",
       "      <th>73 ans</th>\n",
       "      <th>74 ans</th>\n",
       "      <th>75 ans</th>\n",
       "      <th>76 ans</th>\n",
       "      <th>77 ans</th>\n",
       "      <th>78 ans</th>\n",
       "      <th>79 ans</th>\n",
       "      <th>80 ans</th>\n",
       "      <th>81 ans</th>\n",
       "      <th>82 ans</th>\n",
       "      <th>83 ans</th>\n",
       "      <th>84 ans</th>\n",
       "      <th>85 ans</th>\n",
       "      <th>86 ans</th>\n",
       "      <th>87 ans</th>\n",
       "      <th>88 ans</th>\n",
       "      <th>89 ans</th>\n",
       "      <th>90 ans</th>\n",
       "      <td>91 ans</td>\n",
       "      <td>92 ans</td>\n",
       "      <td>93 ans</td>\n",
       "      <td>94 ans</td>\n",
       "      <td>95 ans</td>\n",
       "      <td>96 ans</td>\n",
       "      <td>97 ans</td>\n",
       "      <td>98 ans</td>\n",
       "      <td>99 ans</td>\n",
       "      <td>100+ ans</td>\n",
       "    </tr>\n",
       "    <tr>\n",
       "      <th>Aigle</th>\n",
       "      <th>1860</th>\n",
       "      <th>Aigle</th>\n",
       "      <th>5401</th>\n",
       "      <th>VD</th>\n",
       "      <th>2563821.020</th>\n",
       "      <th>1129273.277</th>\n",
       "      <th>fr</th>\n",
       "      <th>11780</th>\n",
       "      <th>138</th>\n",
       "      <th>131</th>\n",
       "      <th>124</th>\n",
       "      <th>141</th>\n",
       "      <th>141</th>\n",
       "      <th>147</th>\n",
       "      <th>139</th>\n",
       "      <th>158</th>\n",
       "      <th>140</th>\n",
       "      <th>125</th>\n",
       "      <th>141</th>\n",
       "      <th>123</th>\n",
       "      <th>116</th>\n",
       "      <th>141</th>\n",
       "      <th>144</th>\n",
       "      <th>137</th>\n",
       "      <th>137</th>\n",
       "      <th>135</th>\n",
       "      <th>123</th>\n",
       "      <th>119</th>\n",
       "      <th>133</th>\n",
       "      <th>141</th>\n",
       "      <th>132</th>\n",
       "      <th>143</th>\n",
       "      <th>162</th>\n",
       "      <th>163</th>\n",
       "      <th>169</th>\n",
       "      <th>176</th>\n",
       "      <th>163</th>\n",
       "      <th>159</th>\n",
       "      <th>178</th>\n",
       "      <th>179</th>\n",
       "      <th>203</th>\n",
       "      <th>197</th>\n",
       "      <th>171</th>\n",
       "      <th>193</th>\n",
       "      <th>170</th>\n",
       "      <th>168</th>\n",
       "      <th>171</th>\n",
       "      <th>148</th>\n",
       "      <th>151</th>\n",
       "      <th>146</th>\n",
       "      <th>161</th>\n",
       "      <th>155</th>\n",
       "      <th>147</th>\n",
       "      <th>150</th>\n",
       "      <th>142</th>\n",
       "      <th>160</th>\n",
       "      <th>153</th>\n",
       "      <th>163</th>\n",
       "      <th>135</th>\n",
       "      <th>157</th>\n",
       "      <th>168</th>\n",
       "      <th>152</th>\n",
       "      <th>144</th>\n",
       "      <th>164</th>\n",
       "      <th>126</th>\n",
       "      <th>161</th>\n",
       "      <th>150</th>\n",
       "      <th>149</th>\n",
       "      <th>146</th>\n",
       "      <th>147</th>\n",
       "      <th>144</th>\n",
       "      <th>122</th>\n",
       "      <th>124</th>\n",
       "      <th>118</th>\n",
       "      <th>101</th>\n",
       "      <th>125</th>\n",
       "      <th>94</th>\n",
       "      <th>101</th>\n",
       "      <th>108</th>\n",
       "      <th>108</th>\n",
       "      <th>90</th>\n",
       "      <th>81</th>\n",
       "      <th>80</th>\n",
       "      <th>89</th>\n",
       "      <th>82</th>\n",
       "      <th>95</th>\n",
       "      <th>94</th>\n",
       "      <th>89</th>\n",
       "      <th>73</th>\n",
       "      <th>64</th>\n",
       "      <th>74</th>\n",
       "      <th>57</th>\n",
       "      <th>43</th>\n",
       "      <th>43</th>\n",
       "      <th>32</th>\n",
       "      <th>19</th>\n",
       "      <th>30</th>\n",
       "      <th>34</th>\n",
       "      <th>25</th>\n",
       "      <td>20</td>\n",
       "      <td>25</td>\n",
       "      <td>16</td>\n",
       "      <td>6</td>\n",
       "      <td>9</td>\n",
       "      <td>7</td>\n",
       "      <td>0</td>\n",
       "      <td>3</td>\n",
       "      <td>5</td>\n",
       "      <td>4</td>\n",
       "    </tr>\n",
       "    <tr>\n",
       "      <th>Le Sépey</th>\n",
       "      <th>1863</th>\n",
       "      <th>Aigle</th>\n",
       "      <th>5401</th>\n",
       "      <th>VD</th>\n",
       "      <th>2568544.893</th>\n",
       "      <th>1131955.818</th>\n",
       "      <th>fr</th>\n",
       "      <th>11780</th>\n",
       "      <th>138</th>\n",
       "      <th>131</th>\n",
       "      <th>124</th>\n",
       "      <th>141</th>\n",
       "      <th>141</th>\n",
       "      <th>147</th>\n",
       "      <th>139</th>\n",
       "      <th>158</th>\n",
       "      <th>140</th>\n",
       "      <th>125</th>\n",
       "      <th>141</th>\n",
       "      <th>123</th>\n",
       "      <th>116</th>\n",
       "      <th>141</th>\n",
       "      <th>144</th>\n",
       "      <th>137</th>\n",
       "      <th>137</th>\n",
       "      <th>135</th>\n",
       "      <th>123</th>\n",
       "      <th>119</th>\n",
       "      <th>133</th>\n",
       "      <th>141</th>\n",
       "      <th>132</th>\n",
       "      <th>143</th>\n",
       "      <th>162</th>\n",
       "      <th>163</th>\n",
       "      <th>169</th>\n",
       "      <th>176</th>\n",
       "      <th>163</th>\n",
       "      <th>159</th>\n",
       "      <th>178</th>\n",
       "      <th>179</th>\n",
       "      <th>203</th>\n",
       "      <th>197</th>\n",
       "      <th>171</th>\n",
       "      <th>193</th>\n",
       "      <th>170</th>\n",
       "      <th>168</th>\n",
       "      <th>171</th>\n",
       "      <th>148</th>\n",
       "      <th>151</th>\n",
       "      <th>146</th>\n",
       "      <th>161</th>\n",
       "      <th>155</th>\n",
       "      <th>147</th>\n",
       "      <th>150</th>\n",
       "      <th>142</th>\n",
       "      <th>160</th>\n",
       "      <th>153</th>\n",
       "      <th>163</th>\n",
       "      <th>135</th>\n",
       "      <th>157</th>\n",
       "      <th>168</th>\n",
       "      <th>152</th>\n",
       "      <th>144</th>\n",
       "      <th>164</th>\n",
       "      <th>126</th>\n",
       "      <th>161</th>\n",
       "      <th>150</th>\n",
       "      <th>149</th>\n",
       "      <th>146</th>\n",
       "      <th>147</th>\n",
       "      <th>144</th>\n",
       "      <th>122</th>\n",
       "      <th>124</th>\n",
       "      <th>118</th>\n",
       "      <th>101</th>\n",
       "      <th>125</th>\n",
       "      <th>94</th>\n",
       "      <th>101</th>\n",
       "      <th>108</th>\n",
       "      <th>108</th>\n",
       "      <th>90</th>\n",
       "      <th>81</th>\n",
       "      <th>80</th>\n",
       "      <th>89</th>\n",
       "      <th>82</th>\n",
       "      <th>95</th>\n",
       "      <th>94</th>\n",
       "      <th>89</th>\n",
       "      <th>73</th>\n",
       "      <th>64</th>\n",
       "      <th>74</th>\n",
       "      <th>57</th>\n",
       "      <th>43</th>\n",
       "      <th>43</th>\n",
       "      <th>32</th>\n",
       "      <th>19</th>\n",
       "      <th>30</th>\n",
       "      <th>34</th>\n",
       "      <th>25</th>\n",
       "      <td>20</td>\n",
       "      <td>25</td>\n",
       "      <td>16</td>\n",
       "      <td>6</td>\n",
       "      <td>9</td>\n",
       "      <td>7</td>\n",
       "      <td>0</td>\n",
       "      <td>3</td>\n",
       "      <td>5</td>\n",
       "      <td>4</td>\n",
       "    </tr>\n",
       "    <tr>\n",
       "      <th>Bex</th>\n",
       "      <th>1880</th>\n",
       "      <th>Bex</th>\n",
       "      <th>5402</th>\n",
       "      <th>VD</th>\n",
       "      <th>2567230.358</th>\n",
       "      <th>1121779.532</th>\n",
       "      <th>fr</th>\n",
       "      <th>8806</th>\n",
       "      <th>79</th>\n",
       "      <th>68</th>\n",
       "      <th>88</th>\n",
       "      <th>104</th>\n",
       "      <th>88</th>\n",
       "      <th>112</th>\n",
       "      <th>115</th>\n",
       "      <th>108</th>\n",
       "      <th>110</th>\n",
       "      <th>120</th>\n",
       "      <th>110</th>\n",
       "      <th>110</th>\n",
       "      <th>126</th>\n",
       "      <th>116</th>\n",
       "      <th>95</th>\n",
       "      <th>119</th>\n",
       "      <th>99</th>\n",
       "      <th>105</th>\n",
       "      <th>90</th>\n",
       "      <th>101</th>\n",
       "      <th>82</th>\n",
       "      <th>96</th>\n",
       "      <th>103</th>\n",
       "      <th>93</th>\n",
       "      <th>107</th>\n",
       "      <th>112</th>\n",
       "      <th>104</th>\n",
       "      <th>109</th>\n",
       "      <th>102</th>\n",
       "      <th>111</th>\n",
       "      <th>111</th>\n",
       "      <th>140</th>\n",
       "      <th>127</th>\n",
       "      <th>114</th>\n",
       "      <th>144</th>\n",
       "      <th>115</th>\n",
       "      <th>154</th>\n",
       "      <th>129</th>\n",
       "      <th>119</th>\n",
       "      <th>121</th>\n",
       "      <th>123</th>\n",
       "      <th>137</th>\n",
       "      <th>115</th>\n",
       "      <th>107</th>\n",
       "      <th>119</th>\n",
       "      <th>115</th>\n",
       "      <th>121</th>\n",
       "      <th>115</th>\n",
       "      <th>98</th>\n",
       "      <th>129</th>\n",
       "      <th>107</th>\n",
       "      <th>87</th>\n",
       "      <th>130</th>\n",
       "      <th>110</th>\n",
       "      <th>102</th>\n",
       "      <th>108</th>\n",
       "      <th>127</th>\n",
       "      <th>107</th>\n",
       "      <th>136</th>\n",
       "      <th>120</th>\n",
       "      <th>109</th>\n",
       "      <th>116</th>\n",
       "      <th>106</th>\n",
       "      <th>116</th>\n",
       "      <th>102</th>\n",
       "      <th>97</th>\n",
       "      <th>97</th>\n",
       "      <th>95</th>\n",
       "      <th>82</th>\n",
       "      <th>66</th>\n",
       "      <th>82</th>\n",
       "      <th>70</th>\n",
       "      <th>60</th>\n",
       "      <th>50</th>\n",
       "      <th>74</th>\n",
       "      <th>66</th>\n",
       "      <th>64</th>\n",
       "      <th>68</th>\n",
       "      <th>65</th>\n",
       "      <th>56</th>\n",
       "      <th>60</th>\n",
       "      <th>54</th>\n",
       "      <th>40</th>\n",
       "      <th>44</th>\n",
       "      <th>39</th>\n",
       "      <th>47</th>\n",
       "      <th>31</th>\n",
       "      <th>31</th>\n",
       "      <th>28</th>\n",
       "      <th>27</th>\n",
       "      <th>23</th>\n",
       "      <td>14</td>\n",
       "      <td>11</td>\n",
       "      <td>13</td>\n",
       "      <td>14</td>\n",
       "      <td>8</td>\n",
       "      <td>6</td>\n",
       "      <td>2</td>\n",
       "      <td>0</td>\n",
       "      <td>1</td>\n",
       "      <td>3</td>\n",
       "    </tr>\n",
       "    <tr>\n",
       "      <th>Frenières-sur-Bex</th>\n",
       "      <th>1880</th>\n",
       "      <th>Bex</th>\n",
       "      <th>5402</th>\n",
       "      <th>VD</th>\n",
       "      <th>2571040.657</th>\n",
       "      <th>1121183.948</th>\n",
       "      <th>fr</th>\n",
       "      <th>8806</th>\n",
       "      <th>79</th>\n",
       "      <th>68</th>\n",
       "      <th>88</th>\n",
       "      <th>104</th>\n",
       "      <th>88</th>\n",
       "      <th>112</th>\n",
       "      <th>115</th>\n",
       "      <th>108</th>\n",
       "      <th>110</th>\n",
       "      <th>120</th>\n",
       "      <th>110</th>\n",
       "      <th>110</th>\n",
       "      <th>126</th>\n",
       "      <th>116</th>\n",
       "      <th>95</th>\n",
       "      <th>119</th>\n",
       "      <th>99</th>\n",
       "      <th>105</th>\n",
       "      <th>90</th>\n",
       "      <th>101</th>\n",
       "      <th>82</th>\n",
       "      <th>96</th>\n",
       "      <th>103</th>\n",
       "      <th>93</th>\n",
       "      <th>107</th>\n",
       "      <th>112</th>\n",
       "      <th>104</th>\n",
       "      <th>109</th>\n",
       "      <th>102</th>\n",
       "      <th>111</th>\n",
       "      <th>111</th>\n",
       "      <th>140</th>\n",
       "      <th>127</th>\n",
       "      <th>114</th>\n",
       "      <th>144</th>\n",
       "      <th>115</th>\n",
       "      <th>154</th>\n",
       "      <th>129</th>\n",
       "      <th>119</th>\n",
       "      <th>121</th>\n",
       "      <th>123</th>\n",
       "      <th>137</th>\n",
       "      <th>115</th>\n",
       "      <th>107</th>\n",
       "      <th>119</th>\n",
       "      <th>115</th>\n",
       "      <th>121</th>\n",
       "      <th>115</th>\n",
       "      <th>98</th>\n",
       "      <th>129</th>\n",
       "      <th>107</th>\n",
       "      <th>87</th>\n",
       "      <th>130</th>\n",
       "      <th>110</th>\n",
       "      <th>102</th>\n",
       "      <th>108</th>\n",
       "      <th>127</th>\n",
       "      <th>107</th>\n",
       "      <th>136</th>\n",
       "      <th>120</th>\n",
       "      <th>109</th>\n",
       "      <th>116</th>\n",
       "      <th>106</th>\n",
       "      <th>116</th>\n",
       "      <th>102</th>\n",
       "      <th>97</th>\n",
       "      <th>97</th>\n",
       "      <th>95</th>\n",
       "      <th>82</th>\n",
       "      <th>66</th>\n",
       "      <th>82</th>\n",
       "      <th>70</th>\n",
       "      <th>60</th>\n",
       "      <th>50</th>\n",
       "      <th>74</th>\n",
       "      <th>66</th>\n",
       "      <th>64</th>\n",
       "      <th>68</th>\n",
       "      <th>65</th>\n",
       "      <th>56</th>\n",
       "      <th>60</th>\n",
       "      <th>54</th>\n",
       "      <th>40</th>\n",
       "      <th>44</th>\n",
       "      <th>39</th>\n",
       "      <th>47</th>\n",
       "      <th>31</th>\n",
       "      <th>31</th>\n",
       "      <th>28</th>\n",
       "      <th>27</th>\n",
       "      <th>23</th>\n",
       "      <td>14</td>\n",
       "      <td>11</td>\n",
       "      <td>13</td>\n",
       "      <td>14</td>\n",
       "      <td>8</td>\n",
       "      <td>6</td>\n",
       "      <td>2</td>\n",
       "      <td>0</td>\n",
       "      <td>1</td>\n",
       "      <td>3</td>\n",
       "    </tr>\n",
       "    <tr>\n",
       "      <th>...</th>\n",
       "      <th>...</th>\n",
       "      <th>...</th>\n",
       "      <th>...</th>\n",
       "      <th>...</th>\n",
       "      <th>...</th>\n",
       "      <th>...</th>\n",
       "      <th>...</th>\n",
       "      <th>...</th>\n",
       "      <th>...</th>\n",
       "      <th>...</th>\n",
       "      <th>...</th>\n",
       "      <th>...</th>\n",
       "      <th>...</th>\n",
       "      <th>...</th>\n",
       "      <th>...</th>\n",
       "      <th>...</th>\n",
       "      <th>...</th>\n",
       "      <th>...</th>\n",
       "      <th>...</th>\n",
       "      <th>...</th>\n",
       "      <th>...</th>\n",
       "      <th>...</th>\n",
       "      <th>...</th>\n",
       "      <th>...</th>\n",
       "      <th>...</th>\n",
       "      <th>...</th>\n",
       "      <th>...</th>\n",
       "      <th>...</th>\n",
       "      <th>...</th>\n",
       "      <th>...</th>\n",
       "      <th>...</th>\n",
       "      <th>...</th>\n",
       "      <th>...</th>\n",
       "      <th>...</th>\n",
       "      <th>...</th>\n",
       "      <th>...</th>\n",
       "      <th>...</th>\n",
       "      <th>...</th>\n",
       "      <th>...</th>\n",
       "      <th>...</th>\n",
       "      <th>...</th>\n",
       "      <th>...</th>\n",
       "      <th>...</th>\n",
       "      <th>...</th>\n",
       "      <th>...</th>\n",
       "      <th>...</th>\n",
       "      <th>...</th>\n",
       "      <th>...</th>\n",
       "      <th>...</th>\n",
       "      <th>...</th>\n",
       "      <th>...</th>\n",
       "      <th>...</th>\n",
       "      <th>...</th>\n",
       "      <th>...</th>\n",
       "      <th>...</th>\n",
       "      <th>...</th>\n",
       "      <th>...</th>\n",
       "      <th>...</th>\n",
       "      <th>...</th>\n",
       "      <th>...</th>\n",
       "      <th>...</th>\n",
       "      <th>...</th>\n",
       "      <th>...</th>\n",
       "      <th>...</th>\n",
       "      <th>...</th>\n",
       "      <th>...</th>\n",
       "      <th>...</th>\n",
       "      <th>...</th>\n",
       "      <th>...</th>\n",
       "      <th>...</th>\n",
       "      <th>...</th>\n",
       "      <th>...</th>\n",
       "      <th>...</th>\n",
       "      <th>...</th>\n",
       "      <th>...</th>\n",
       "      <th>...</th>\n",
       "      <th>...</th>\n",
       "      <th>...</th>\n",
       "      <th>...</th>\n",
       "      <th>...</th>\n",
       "      <th>...</th>\n",
       "      <th>...</th>\n",
       "      <th>...</th>\n",
       "      <th>...</th>\n",
       "      <th>...</th>\n",
       "      <th>...</th>\n",
       "      <th>...</th>\n",
       "      <th>...</th>\n",
       "      <th>...</th>\n",
       "      <th>...</th>\n",
       "      <th>...</th>\n",
       "      <th>...</th>\n",
       "      <th>...</th>\n",
       "      <th>...</th>\n",
       "      <th>...</th>\n",
       "      <th>...</th>\n",
       "      <th>...</th>\n",
       "      <th>...</th>\n",
       "      <th>...</th>\n",
       "      <td>...</td>\n",
       "      <td>...</td>\n",
       "      <td>...</td>\n",
       "      <td>...</td>\n",
       "      <td>...</td>\n",
       "      <td>...</td>\n",
       "      <td>...</td>\n",
       "      <td>...</td>\n",
       "      <td>...</td>\n",
       "      <td>...</td>\n",
       "    </tr>\n",
       "    <tr>\n",
       "      <th>Villars-Epeney</th>\n",
       "      <th>1404</th>\n",
       "      <th>Villars-Epeney</th>\n",
       "      <th>5935</th>\n",
       "      <th>VD</th>\n",
       "      <th>2543412.650</th>\n",
       "      <th>1181535.124</th>\n",
       "      <th>fr</th>\n",
       "      <th>108</th>\n",
       "      <th>1</th>\n",
       "      <th>2</th>\n",
       "      <th>2</th>\n",
       "      <th>0</th>\n",
       "      <th>0</th>\n",
       "      <th>3</th>\n",
       "      <th>2</th>\n",
       "      <th>1</th>\n",
       "      <th>2</th>\n",
       "      <th>1</th>\n",
       "      <th>1</th>\n",
       "      <th>3</th>\n",
       "      <th>1</th>\n",
       "      <th>2</th>\n",
       "      <th>4</th>\n",
       "      <th>1</th>\n",
       "      <th>1</th>\n",
       "      <th>1</th>\n",
       "      <th>2</th>\n",
       "      <th>1</th>\n",
       "      <th>2</th>\n",
       "      <th>0</th>\n",
       "      <th>0</th>\n",
       "      <th>0</th>\n",
       "      <th>1</th>\n",
       "      <th>0</th>\n",
       "      <th>0</th>\n",
       "      <th>1</th>\n",
       "      <th>2</th>\n",
       "      <th>1</th>\n",
       "      <th>2</th>\n",
       "      <th>1</th>\n",
       "      <th>1</th>\n",
       "      <th>1</th>\n",
       "      <th>6</th>\n",
       "      <th>2</th>\n",
       "      <th>1</th>\n",
       "      <th>2</th>\n",
       "      <th>1</th>\n",
       "      <th>0</th>\n",
       "      <th>4</th>\n",
       "      <th>2</th>\n",
       "      <th>0</th>\n",
       "      <th>0</th>\n",
       "      <th>2</th>\n",
       "      <th>1</th>\n",
       "      <th>0</th>\n",
       "      <th>0</th>\n",
       "      <th>3</th>\n",
       "      <th>1</th>\n",
       "      <th>0</th>\n",
       "      <th>1</th>\n",
       "      <th>1</th>\n",
       "      <th>2</th>\n",
       "      <th>1</th>\n",
       "      <th>2</th>\n",
       "      <th>1</th>\n",
       "      <th>1</th>\n",
       "      <th>0</th>\n",
       "      <th>3</th>\n",
       "      <th>3</th>\n",
       "      <th>6</th>\n",
       "      <th>0</th>\n",
       "      <th>1</th>\n",
       "      <th>1</th>\n",
       "      <th>3</th>\n",
       "      <th>1</th>\n",
       "      <th>3</th>\n",
       "      <th>1</th>\n",
       "      <th>0</th>\n",
       "      <th>1</th>\n",
       "      <th>0</th>\n",
       "      <th>4</th>\n",
       "      <th>0</th>\n",
       "      <th>0</th>\n",
       "      <th>0</th>\n",
       "      <th>1</th>\n",
       "      <th>1</th>\n",
       "      <th>0</th>\n",
       "      <th>1</th>\n",
       "      <th>0</th>\n",
       "      <th>0</th>\n",
       "      <th>0</th>\n",
       "      <th>0</th>\n",
       "      <th>0</th>\n",
       "      <th>0</th>\n",
       "      <th>0</th>\n",
       "      <th>0</th>\n",
       "      <th>1</th>\n",
       "      <th>0</th>\n",
       "      <th>0</th>\n",
       "      <td>0</td>\n",
       "      <td>0</td>\n",
       "      <td>0</td>\n",
       "      <td>0</td>\n",
       "      <td>0</td>\n",
       "      <td>0</td>\n",
       "      <td>0</td>\n",
       "      <td>0</td>\n",
       "      <td>0</td>\n",
       "      <td>0</td>\n",
       "    </tr>\n",
       "    <tr>\n",
       "      <th>Vugelles-La Mothe</th>\n",
       "      <th>1431</th>\n",
       "      <th>Vugelles-La Mothe</th>\n",
       "      <th>5937</th>\n",
       "      <th>VD</th>\n",
       "      <th>2534182.487</th>\n",
       "      <th>1186399.984</th>\n",
       "      <th>fr</th>\n",
       "      <th>147</th>\n",
       "      <th>3</th>\n",
       "      <th>1</th>\n",
       "      <th>1</th>\n",
       "      <th>1</th>\n",
       "      <th>3</th>\n",
       "      <th>1</th>\n",
       "      <th>2</th>\n",
       "      <th>1</th>\n",
       "      <th>0</th>\n",
       "      <th>0</th>\n",
       "      <th>2</th>\n",
       "      <th>4</th>\n",
       "      <th>2</th>\n",
       "      <th>2</th>\n",
       "      <th>2</th>\n",
       "      <th>3</th>\n",
       "      <th>4</th>\n",
       "      <th>1</th>\n",
       "      <th>3</th>\n",
       "      <th>1</th>\n",
       "      <th>2</th>\n",
       "      <th>1</th>\n",
       "      <th>1</th>\n",
       "      <th>1</th>\n",
       "      <th>2</th>\n",
       "      <th>0</th>\n",
       "      <th>1</th>\n",
       "      <th>1</th>\n",
       "      <th>1</th>\n",
       "      <th>2</th>\n",
       "      <th>1</th>\n",
       "      <th>0</th>\n",
       "      <th>4</th>\n",
       "      <th>3</th>\n",
       "      <th>2</th>\n",
       "      <th>0</th>\n",
       "      <th>2</th>\n",
       "      <th>5</th>\n",
       "      <th>0</th>\n",
       "      <th>2</th>\n",
       "      <th>1</th>\n",
       "      <th>5</th>\n",
       "      <th>3</th>\n",
       "      <th>0</th>\n",
       "      <th>2</th>\n",
       "      <th>2</th>\n",
       "      <th>1</th>\n",
       "      <th>2</th>\n",
       "      <th>3</th>\n",
       "      <th>2</th>\n",
       "      <th>0</th>\n",
       "      <th>0</th>\n",
       "      <th>4</th>\n",
       "      <th>2</th>\n",
       "      <th>4</th>\n",
       "      <th>5</th>\n",
       "      <th>1</th>\n",
       "      <th>6</th>\n",
       "      <th>4</th>\n",
       "      <th>4</th>\n",
       "      <th>1</th>\n",
       "      <th>1</th>\n",
       "      <th>2</th>\n",
       "      <th>0</th>\n",
       "      <th>3</th>\n",
       "      <th>1</th>\n",
       "      <th>2</th>\n",
       "      <th>2</th>\n",
       "      <th>3</th>\n",
       "      <th>1</th>\n",
       "      <th>1</th>\n",
       "      <th>1</th>\n",
       "      <th>0</th>\n",
       "      <th>2</th>\n",
       "      <th>1</th>\n",
       "      <th>0</th>\n",
       "      <th>0</th>\n",
       "      <th>1</th>\n",
       "      <th>0</th>\n",
       "      <th>0</th>\n",
       "      <th>0</th>\n",
       "      <th>1</th>\n",
       "      <th>0</th>\n",
       "      <th>1</th>\n",
       "      <th>1</th>\n",
       "      <th>0</th>\n",
       "      <th>1</th>\n",
       "      <th>0</th>\n",
       "      <th>2</th>\n",
       "      <th>0</th>\n",
       "      <th>0</th>\n",
       "      <td>0</td>\n",
       "      <td>0</td>\n",
       "      <td>0</td>\n",
       "      <td>0</td>\n",
       "      <td>0</td>\n",
       "      <td>0</td>\n",
       "      <td>0</td>\n",
       "      <td>0</td>\n",
       "      <td>0</td>\n",
       "      <td>0</td>\n",
       "    </tr>\n",
       "    <tr>\n",
       "      <th>Yverdon-les-Bains</th>\n",
       "      <th>1400</th>\n",
       "      <th>Yverdon-les-Bains</th>\n",
       "      <th>5938</th>\n",
       "      <th>VD</th>\n",
       "      <th>2539180.581</th>\n",
       "      <th>1180801.624</th>\n",
       "      <th>fr</th>\n",
       "      <th>30332</th>\n",
       "      <th>245</th>\n",
       "      <th>307</th>\n",
       "      <th>327</th>\n",
       "      <th>316</th>\n",
       "      <th>288</th>\n",
       "      <th>334</th>\n",
       "      <th>303</th>\n",
       "      <th>348</th>\n",
       "      <th>350</th>\n",
       "      <th>312</th>\n",
       "      <th>368</th>\n",
       "      <th>304</th>\n",
       "      <th>368</th>\n",
       "      <th>358</th>\n",
       "      <th>343</th>\n",
       "      <th>355</th>\n",
       "      <th>340</th>\n",
       "      <th>339</th>\n",
       "      <th>339</th>\n",
       "      <th>367</th>\n",
       "      <th>354</th>\n",
       "      <th>324</th>\n",
       "      <th>341</th>\n",
       "      <th>358</th>\n",
       "      <th>377</th>\n",
       "      <th>396</th>\n",
       "      <th>419</th>\n",
       "      <th>393</th>\n",
       "      <th>431</th>\n",
       "      <th>439</th>\n",
       "      <th>490</th>\n",
       "      <th>472</th>\n",
       "      <th>457</th>\n",
       "      <th>450</th>\n",
       "      <th>431</th>\n",
       "      <th>403</th>\n",
       "      <th>441</th>\n",
       "      <th>432</th>\n",
       "      <th>432</th>\n",
       "      <th>468</th>\n",
       "      <th>433</th>\n",
       "      <th>398</th>\n",
       "      <th>422</th>\n",
       "      <th>411</th>\n",
       "      <th>418</th>\n",
       "      <th>484</th>\n",
       "      <th>442</th>\n",
       "      <th>408</th>\n",
       "      <th>387</th>\n",
       "      <th>406</th>\n",
       "      <th>450</th>\n",
       "      <th>387</th>\n",
       "      <th>411</th>\n",
       "      <th>415</th>\n",
       "      <th>409</th>\n",
       "      <th>386</th>\n",
       "      <th>388</th>\n",
       "      <th>380</th>\n",
       "      <th>356</th>\n",
       "      <th>379</th>\n",
       "      <th>347</th>\n",
       "      <th>352</th>\n",
       "      <th>342</th>\n",
       "      <th>334</th>\n",
       "      <th>302</th>\n",
       "      <th>323</th>\n",
       "      <th>278</th>\n",
       "      <th>276</th>\n",
       "      <th>278</th>\n",
       "      <th>237</th>\n",
       "      <th>252</th>\n",
       "      <th>232</th>\n",
       "      <th>229</th>\n",
       "      <th>230</th>\n",
       "      <th>233</th>\n",
       "      <th>255</th>\n",
       "      <th>234</th>\n",
       "      <th>259</th>\n",
       "      <th>228</th>\n",
       "      <th>203</th>\n",
       "      <th>204</th>\n",
       "      <th>206</th>\n",
       "      <th>178</th>\n",
       "      <th>153</th>\n",
       "      <th>139</th>\n",
       "      <th>136</th>\n",
       "      <th>104</th>\n",
       "      <th>109</th>\n",
       "      <th>93</th>\n",
       "      <th>100</th>\n",
       "      <th>88</th>\n",
       "      <td>69</td>\n",
       "      <td>70</td>\n",
       "      <td>50</td>\n",
       "      <td>44</td>\n",
       "      <td>24</td>\n",
       "      <td>18</td>\n",
       "      <td>17</td>\n",
       "      <td>4</td>\n",
       "      <td>7</td>\n",
       "      <td>6</td>\n",
       "    </tr>\n",
       "    <tr>\n",
       "      <th>Gressy</th>\n",
       "      <th>1432</th>\n",
       "      <th>Yverdon-les-Bains</th>\n",
       "      <th>5938</th>\n",
       "      <th>VD</th>\n",
       "      <th>2538768.002</th>\n",
       "      <th>1178103.684</th>\n",
       "      <th>fr</th>\n",
       "      <th>30332</th>\n",
       "      <th>245</th>\n",
       "      <th>307</th>\n",
       "      <th>327</th>\n",
       "      <th>316</th>\n",
       "      <th>288</th>\n",
       "      <th>334</th>\n",
       "      <th>303</th>\n",
       "      <th>348</th>\n",
       "      <th>350</th>\n",
       "      <th>312</th>\n",
       "      <th>368</th>\n",
       "      <th>304</th>\n",
       "      <th>368</th>\n",
       "      <th>358</th>\n",
       "      <th>343</th>\n",
       "      <th>355</th>\n",
       "      <th>340</th>\n",
       "      <th>339</th>\n",
       "      <th>339</th>\n",
       "      <th>367</th>\n",
       "      <th>354</th>\n",
       "      <th>324</th>\n",
       "      <th>341</th>\n",
       "      <th>358</th>\n",
       "      <th>377</th>\n",
       "      <th>396</th>\n",
       "      <th>419</th>\n",
       "      <th>393</th>\n",
       "      <th>431</th>\n",
       "      <th>439</th>\n",
       "      <th>490</th>\n",
       "      <th>472</th>\n",
       "      <th>457</th>\n",
       "      <th>450</th>\n",
       "      <th>431</th>\n",
       "      <th>403</th>\n",
       "      <th>441</th>\n",
       "      <th>432</th>\n",
       "      <th>432</th>\n",
       "      <th>468</th>\n",
       "      <th>433</th>\n",
       "      <th>398</th>\n",
       "      <th>422</th>\n",
       "      <th>411</th>\n",
       "      <th>418</th>\n",
       "      <th>484</th>\n",
       "      <th>442</th>\n",
       "      <th>408</th>\n",
       "      <th>387</th>\n",
       "      <th>406</th>\n",
       "      <th>450</th>\n",
       "      <th>387</th>\n",
       "      <th>411</th>\n",
       "      <th>415</th>\n",
       "      <th>409</th>\n",
       "      <th>386</th>\n",
       "      <th>388</th>\n",
       "      <th>380</th>\n",
       "      <th>356</th>\n",
       "      <th>379</th>\n",
       "      <th>347</th>\n",
       "      <th>352</th>\n",
       "      <th>342</th>\n",
       "      <th>334</th>\n",
       "      <th>302</th>\n",
       "      <th>323</th>\n",
       "      <th>278</th>\n",
       "      <th>276</th>\n",
       "      <th>278</th>\n",
       "      <th>237</th>\n",
       "      <th>252</th>\n",
       "      <th>232</th>\n",
       "      <th>229</th>\n",
       "      <th>230</th>\n",
       "      <th>233</th>\n",
       "      <th>255</th>\n",
       "      <th>234</th>\n",
       "      <th>259</th>\n",
       "      <th>228</th>\n",
       "      <th>203</th>\n",
       "      <th>204</th>\n",
       "      <th>206</th>\n",
       "      <th>178</th>\n",
       "      <th>153</th>\n",
       "      <th>139</th>\n",
       "      <th>136</th>\n",
       "      <th>104</th>\n",
       "      <th>109</th>\n",
       "      <th>93</th>\n",
       "      <th>100</th>\n",
       "      <th>88</th>\n",
       "      <td>69</td>\n",
       "      <td>70</td>\n",
       "      <td>50</td>\n",
       "      <td>44</td>\n",
       "      <td>24</td>\n",
       "      <td>18</td>\n",
       "      <td>17</td>\n",
       "      <td>4</td>\n",
       "      <td>7</td>\n",
       "      <td>6</td>\n",
       "    </tr>\n",
       "    <tr>\n",
       "      <th>Yvonand</th>\n",
       "      <th>1462</th>\n",
       "      <th>Yvonand</th>\n",
       "      <th>5939</th>\n",
       "      <th>VD</th>\n",
       "      <th>2545972.750</th>\n",
       "      <th>1182253.710</th>\n",
       "      <th>fr</th>\n",
       "      <th>3525</th>\n",
       "      <th>21</th>\n",
       "      <th>30</th>\n",
       "      <th>34</th>\n",
       "      <th>32</th>\n",
       "      <th>43</th>\n",
       "      <th>46</th>\n",
       "      <th>40</th>\n",
       "      <th>33</th>\n",
       "      <th>47</th>\n",
       "      <th>40</th>\n",
       "      <th>45</th>\n",
       "      <th>33</th>\n",
       "      <th>50</th>\n",
       "      <th>50</th>\n",
       "      <th>56</th>\n",
       "      <th>54</th>\n",
       "      <th>36</th>\n",
       "      <th>59</th>\n",
       "      <th>37</th>\n",
       "      <th>33</th>\n",
       "      <th>35</th>\n",
       "      <th>40</th>\n",
       "      <th>28</th>\n",
       "      <th>47</th>\n",
       "      <th>28</th>\n",
       "      <th>37</th>\n",
       "      <th>46</th>\n",
       "      <th>28</th>\n",
       "      <th>37</th>\n",
       "      <th>40</th>\n",
       "      <th>47</th>\n",
       "      <th>37</th>\n",
       "      <th>45</th>\n",
       "      <th>44</th>\n",
       "      <th>57</th>\n",
       "      <th>49</th>\n",
       "      <th>53</th>\n",
       "      <th>37</th>\n",
       "      <th>43</th>\n",
       "      <th>44</th>\n",
       "      <th>39</th>\n",
       "      <th>45</th>\n",
       "      <th>42</th>\n",
       "      <th>46</th>\n",
       "      <th>49</th>\n",
       "      <th>48</th>\n",
       "      <th>59</th>\n",
       "      <th>36</th>\n",
       "      <th>48</th>\n",
       "      <th>50</th>\n",
       "      <th>55</th>\n",
       "      <th>52</th>\n",
       "      <th>53</th>\n",
       "      <th>41</th>\n",
       "      <th>37</th>\n",
       "      <th>50</th>\n",
       "      <th>46</th>\n",
       "      <th>53</th>\n",
       "      <th>45</th>\n",
       "      <th>48</th>\n",
       "      <th>46</th>\n",
       "      <th>57</th>\n",
       "      <th>43</th>\n",
       "      <th>47</th>\n",
       "      <th>45</th>\n",
       "      <th>42</th>\n",
       "      <th>44</th>\n",
       "      <th>33</th>\n",
       "      <th>37</th>\n",
       "      <th>34</th>\n",
       "      <th>27</th>\n",
       "      <th>39</th>\n",
       "      <th>29</th>\n",
       "      <th>29</th>\n",
       "      <th>30</th>\n",
       "      <th>28</th>\n",
       "      <th>26</th>\n",
       "      <th>34</th>\n",
       "      <th>27</th>\n",
       "      <th>30</th>\n",
       "      <th>24</th>\n",
       "      <th>30</th>\n",
       "      <th>20</th>\n",
       "      <th>13</th>\n",
       "      <th>16</th>\n",
       "      <th>16</th>\n",
       "      <th>11</th>\n",
       "      <th>14</th>\n",
       "      <th>12</th>\n",
       "      <th>8</th>\n",
       "      <th>7</th>\n",
       "      <td>6</td>\n",
       "      <td>4</td>\n",
       "      <td>4</td>\n",
       "      <td>13</td>\n",
       "      <td>8</td>\n",
       "      <td>5</td>\n",
       "      <td>2</td>\n",
       "      <td>1</td>\n",
       "      <td>0</td>\n",
       "      <td>1</td>\n",
       "    </tr>\n",
       "  </tbody>\n",
       "</table>\n",
       "<p>546 rows × 10 columns</p>\n",
       "</div>"
      ],
      "text/plain": [
       "                                                                                                                                                                                                                                                                                                                                                                                                                                                                                                                                                                                                                                                                                                                                                                                      commune  \\\n",
       "Commune           NPA  Commune d'annonce / District Commune d'annonce référence Canton E           N           Langue Nb d'habitants 0 an 1 an 2 ans 3 ans 4 ans 5 ans 6 ans 7 ans 8 ans 9 ans 10 ans 11 ans 12 ans 13 ans 14 ans 15 ans 16 ans 17 ans 18 ans 19 ans 20 ans 21 ans 22 ans 23 ans 24 ans 25 ans 26 ans 27 ans 28 ans 29 ans 30 ans 31 ans 32 ans 33 ans 34 ans 35 ans 36 ans 37 ans 38 ans 39 ans 40 ans 41 ans 42 ans 43 ans 44 ans 45 ans 46 ans 47 ans 48 ans 49 ans 50 ans 51 ans 52 ans 53 ans 54 ans 55 ans 56 ans 57 ans 58 ans 59 ans 60 ans 61 ans 62 ans 63 ans 64 ans 65 ans 66 ans 67 ans 68 ans 69 ans 70 ans 71 ans 72 ans 73 ans 74 ans 75 ans 76 ans 77 ans 78 ans 79 ans 80 ans 81 ans 82 ans 83 ans 84 ans 85 ans 86 ans 87 ans 88 ans 89 ans 90 ans  91 ans   \n",
       "Aigle             1860 Aigle                        5401                        VD     2563821.020 1129273.277 fr     11780          138  131  124   141   141   147   139   158   140   125   141    123    116    141    144    137    137    135    123    119    133    141    132    143    162    163    169    176    163    159    178    179    203    197    171    193    170    168    171    148    151    146    161    155    147    150    142    160    153    163    135    157    168    152    144    164    126    161    150    149    146    147    144    122    124    118    101    125    94     101    108    108    90     81     80     89     82     95     94     89     73     64     74     57     43     43     32     19     30     34     25          20   \n",
       "Le Sépey          1863 Aigle                        5401                        VD     2568544.893 1131955.818 fr     11780          138  131  124   141   141   147   139   158   140   125   141    123    116    141    144    137    137    135    123    119    133    141    132    143    162    163    169    176    163    159    178    179    203    197    171    193    170    168    171    148    151    146    161    155    147    150    142    160    153    163    135    157    168    152    144    164    126    161    150    149    146    147    144    122    124    118    101    125    94     101    108    108    90     81     80     89     82     95     94     89     73     64     74     57     43     43     32     19     30     34     25          20   \n",
       "Bex               1880 Bex                          5402                        VD     2567230.358 1121779.532 fr     8806           79   68   88    104   88    112   115   108   110   120   110    110    126    116    95     119    99     105    90     101    82     96     103    93     107    112    104    109    102    111    111    140    127    114    144    115    154    129    119    121    123    137    115    107    119    115    121    115    98     129    107    87     130    110    102    108    127    107    136    120    109    116    106    116    102    97     97     95     82     66     82     70     60     50     74     66     64     68     65     56     60     54     40     44     39     47     31     31     28     27     23          14   \n",
       "Frenières-sur-Bex 1880 Bex                          5402                        VD     2571040.657 1121183.948 fr     8806           79   68   88    104   88    112   115   108   110   120   110    110    126    116    95     119    99     105    90     101    82     96     103    93     107    112    104    109    102    111    111    140    127    114    144    115    154    129    119    121    123    137    115    107    119    115    121    115    98     129    107    87     130    110    102    108    127    107    136    120    109    116    106    116    102    97     97     95     82     66     82     70     60     50     74     66     64     68     65     56     60     54     40     44     39     47     31     31     28     27     23          14   \n",
       "...                                                                                                                                                                                                                                                                                                                                                                                                                                                                                                                                                                                                                                                                                                                                                                                       ...   \n",
       "Villars-Epeney    1404 Villars-Epeney               5935                        VD     2543412.650 1181535.124 fr     108            1    2    2     0     0     3     2     1     2     1     1      3      1      2      4      1      1      1      2      1      2      0      0      0      1      0      0      1      2      1      2      1      1      1      6      2      1      2      1      0      4      2      0      0      2      1      0      0      3      1      0      1      1      2      1      2      1      1      0      3      3      6      0      1      1      3      1      3      1      0      1      0      4      0      0      0      1      1      0      1      0      0      0      0      0      0      0      0      1      0      0            0   \n",
       "Vugelles-La Mothe 1431 Vugelles-La Mothe            5937                        VD     2534182.487 1186399.984 fr     147            3    1    1     1     3     1     2     1     0     0     2      4      2      2      2      3      4      1      3      1      2      1      1      1      2      0      1      1      1      2      1      0      4      3      2      0      2      5      0      2      1      5      3      0      2      2      1      2      3      2      0      0      4      2      4      5      1      6      4      4      1      1      2      0      3      1      2      2      3      1      1      1      0      2      1      0      0      1      0      0      0      1      0      1      1      0      1      0      2      0      0            0   \n",
       "Yverdon-les-Bains 1400 Yverdon-les-Bains            5938                        VD     2539180.581 1180801.624 fr     30332          245  307  327   316   288   334   303   348   350   312   368    304    368    358    343    355    340    339    339    367    354    324    341    358    377    396    419    393    431    439    490    472    457    450    431    403    441    432    432    468    433    398    422    411    418    484    442    408    387    406    450    387    411    415    409    386    388    380    356    379    347    352    342    334    302    323    278    276    278    237    252    232    229    230    233    255    234    259    228    203    204    206    178    153    139    136    104    109    93     100    88          69   \n",
       "Gressy            1432 Yverdon-les-Bains            5938                        VD     2538768.002 1178103.684 fr     30332          245  307  327   316   288   334   303   348   350   312   368    304    368    358    343    355    340    339    339    367    354    324    341    358    377    396    419    393    431    439    490    472    457    450    431    403    441    432    432    468    433    398    422    411    418    484    442    408    387    406    450    387    411    415    409    386    388    380    356    379    347    352    342    334    302    323    278    276    278    237    252    232    229    230    233    255    234    259    228    203    204    206    178    153    139    136    104    109    93     100    88          69   \n",
       "Yvonand           1462 Yvonand                      5939                        VD     2545972.750 1182253.710 fr     3525           21   30   34    32    43    46    40    33    47    40    45     33     50     50     56     54     36     59     37     33     35     40     28     47     28     37     46     28     37     40     47     37     45     44     57     49     53     37     43     44     39     45     42     46     49     48     59     36     48     50     55     52     53     41     37     50     46     53     45     48     46     57     43     47     45     42     44     33     37     34     27     39     29     29     30     28     26     34     27     30     24     30     20     13     16     16     11     14     12     8      7            6   \n",
       "\n",
       "                                                                                                                                                                                                                                                                                                                                                                                                                                                                                                                                                                                                                                                                                                                                                                                          NPA  \\\n",
       "Commune           NPA  Commune d'annonce / District Commune d'annonce référence Canton E           N           Langue Nb d'habitants 0 an 1 an 2 ans 3 ans 4 ans 5 ans 6 ans 7 ans 8 ans 9 ans 10 ans 11 ans 12 ans 13 ans 14 ans 15 ans 16 ans 17 ans 18 ans 19 ans 20 ans 21 ans 22 ans 23 ans 24 ans 25 ans 26 ans 27 ans 28 ans 29 ans 30 ans 31 ans 32 ans 33 ans 34 ans 35 ans 36 ans 37 ans 38 ans 39 ans 40 ans 41 ans 42 ans 43 ans 44 ans 45 ans 46 ans 47 ans 48 ans 49 ans 50 ans 51 ans 52 ans 53 ans 54 ans 55 ans 56 ans 57 ans 58 ans 59 ans 60 ans 61 ans 62 ans 63 ans 64 ans 65 ans 66 ans 67 ans 68 ans 69 ans 70 ans 71 ans 72 ans 73 ans 74 ans 75 ans 76 ans 77 ans 78 ans 79 ans 80 ans 81 ans 82 ans 83 ans 84 ans 85 ans 86 ans 87 ans 88 ans 89 ans 90 ans  92 ans   \n",
       "Aigle             1860 Aigle                        5401                        VD     2563821.020 1129273.277 fr     11780          138  131  124   141   141   147   139   158   140   125   141    123    116    141    144    137    137    135    123    119    133    141    132    143    162    163    169    176    163    159    178    179    203    197    171    193    170    168    171    148    151    146    161    155    147    150    142    160    153    163    135    157    168    152    144    164    126    161    150    149    146    147    144    122    124    118    101    125    94     101    108    108    90     81     80     89     82     95     94     89     73     64     74     57     43     43     32     19     30     34     25          25   \n",
       "Le Sépey          1863 Aigle                        5401                        VD     2568544.893 1131955.818 fr     11780          138  131  124   141   141   147   139   158   140   125   141    123    116    141    144    137    137    135    123    119    133    141    132    143    162    163    169    176    163    159    178    179    203    197    171    193    170    168    171    148    151    146    161    155    147    150    142    160    153    163    135    157    168    152    144    164    126    161    150    149    146    147    144    122    124    118    101    125    94     101    108    108    90     81     80     89     82     95     94     89     73     64     74     57     43     43     32     19     30     34     25          25   \n",
       "Bex               1880 Bex                          5402                        VD     2567230.358 1121779.532 fr     8806           79   68   88    104   88    112   115   108   110   120   110    110    126    116    95     119    99     105    90     101    82     96     103    93     107    112    104    109    102    111    111    140    127    114    144    115    154    129    119    121    123    137    115    107    119    115    121    115    98     129    107    87     130    110    102    108    127    107    136    120    109    116    106    116    102    97     97     95     82     66     82     70     60     50     74     66     64     68     65     56     60     54     40     44     39     47     31     31     28     27     23          11   \n",
       "Frenières-sur-Bex 1880 Bex                          5402                        VD     2571040.657 1121183.948 fr     8806           79   68   88    104   88    112   115   108   110   120   110    110    126    116    95     119    99     105    90     101    82     96     103    93     107    112    104    109    102    111    111    140    127    114    144    115    154    129    119    121    123    137    115    107    119    115    121    115    98     129    107    87     130    110    102    108    127    107    136    120    109    116    106    116    102    97     97     95     82     66     82     70     60     50     74     66     64     68     65     56     60     54     40     44     39     47     31     31     28     27     23          11   \n",
       "...                                                                                                                                                                                                                                                                                                                                                                                                                                                                                                                                                                                                                                                                                                                                                                                       ...   \n",
       "Villars-Epeney    1404 Villars-Epeney               5935                        VD     2543412.650 1181535.124 fr     108            1    2    2     0     0     3     2     1     2     1     1      3      1      2      4      1      1      1      2      1      2      0      0      0      1      0      0      1      2      1      2      1      1      1      6      2      1      2      1      0      4      2      0      0      2      1      0      0      3      1      0      1      1      2      1      2      1      1      0      3      3      6      0      1      1      3      1      3      1      0      1      0      4      0      0      0      1      1      0      1      0      0      0      0      0      0      0      0      1      0      0            0   \n",
       "Vugelles-La Mothe 1431 Vugelles-La Mothe            5937                        VD     2534182.487 1186399.984 fr     147            3    1    1     1     3     1     2     1     0     0     2      4      2      2      2      3      4      1      3      1      2      1      1      1      2      0      1      1      1      2      1      0      4      3      2      0      2      5      0      2      1      5      3      0      2      2      1      2      3      2      0      0      4      2      4      5      1      6      4      4      1      1      2      0      3      1      2      2      3      1      1      1      0      2      1      0      0      1      0      0      0      1      0      1      1      0      1      0      2      0      0            0   \n",
       "Yverdon-les-Bains 1400 Yverdon-les-Bains            5938                        VD     2539180.581 1180801.624 fr     30332          245  307  327   316   288   334   303   348   350   312   368    304    368    358    343    355    340    339    339    367    354    324    341    358    377    396    419    393    431    439    490    472    457    450    431    403    441    432    432    468    433    398    422    411    418    484    442    408    387    406    450    387    411    415    409    386    388    380    356    379    347    352    342    334    302    323    278    276    278    237    252    232    229    230    233    255    234    259    228    203    204    206    178    153    139    136    104    109    93     100    88          70   \n",
       "Gressy            1432 Yverdon-les-Bains            5938                        VD     2538768.002 1178103.684 fr     30332          245  307  327   316   288   334   303   348   350   312   368    304    368    358    343    355    340    339    339    367    354    324    341    358    377    396    419    393    431    439    490    472    457    450    431    403    441    432    432    468    433    398    422    411    418    484    442    408    387    406    450    387    411    415    409    386    388    380    356    379    347    352    342    334    302    323    278    276    278    237    252    232    229    230    233    255    234    259    228    203    204    206    178    153    139    136    104    109    93     100    88          70   \n",
       "Yvonand           1462 Yvonand                      5939                        VD     2545972.750 1182253.710 fr     3525           21   30   34    32    43    46    40    33    47    40    45     33     50     50     56     54     36     59     37     33     35     40     28     47     28     37     46     28     37     40     47     37     45     44     57     49     53     37     43     44     39     45     42     46     49     48     59     36     48     50     55     52     53     41     37     50     46     53     45     48     46     57     43     47     45     42     44     33     37     34     27     39     29     29     30     28     26     34     27     30     24     30     20     13     16     16     11     14     12     8      7            4   \n",
       "\n",
       "                                                                                                                                                                                                                                                                                                                                                                                                                                                                                                                                                                                                                                                                                                                                                                                               \\\n",
       "Commune           NPA  Commune d'annonce / District Commune d'annonce référence Canton E           N           Langue Nb d'habitants 0 an 1 an 2 ans 3 ans 4 ans 5 ans 6 ans 7 ans 8 ans 9 ans 10 ans 11 ans 12 ans 13 ans 14 ans 15 ans 16 ans 17 ans 18 ans 19 ans 20 ans 21 ans 22 ans 23 ans 24 ans 25 ans 26 ans 27 ans 28 ans 29 ans 30 ans 31 ans 32 ans 33 ans 34 ans 35 ans 36 ans 37 ans 38 ans 39 ans 40 ans 41 ans 42 ans 43 ans 44 ans 45 ans 46 ans 47 ans 48 ans 49 ans 50 ans 51 ans 52 ans 53 ans 54 ans 55 ans 56 ans 57 ans 58 ans 59 ans 60 ans 61 ans 62 ans 63 ans 64 ans 65 ans 66 ans 67 ans 68 ans 69 ans 70 ans 71 ans 72 ans 73 ans 74 ans 75 ans 76 ans 77 ans 78 ans 79 ans 80 ans 81 ans 82 ans 83 ans 84 ans 85 ans 86 ans 87 ans 88 ans 89 ans 90 ans  93 ans   \n",
       "Aigle             1860 Aigle                        5401                        VD     2563821.020 1129273.277 fr     11780          138  131  124   141   141   147   139   158   140   125   141    123    116    141    144    137    137    135    123    119    133    141    132    143    162    163    169    176    163    159    178    179    203    197    171    193    170    168    171    148    151    146    161    155    147    150    142    160    153    163    135    157    168    152    144    164    126    161    150    149    146    147    144    122    124    118    101    125    94     101    108    108    90     81     80     89     82     95     94     89     73     64     74     57     43     43     32     19     30     34     25          16   \n",
       "Le Sépey          1863 Aigle                        5401                        VD     2568544.893 1131955.818 fr     11780          138  131  124   141   141   147   139   158   140   125   141    123    116    141    144    137    137    135    123    119    133    141    132    143    162    163    169    176    163    159    178    179    203    197    171    193    170    168    171    148    151    146    161    155    147    150    142    160    153    163    135    157    168    152    144    164    126    161    150    149    146    147    144    122    124    118    101    125    94     101    108    108    90     81     80     89     82     95     94     89     73     64     74     57     43     43     32     19     30     34     25          16   \n",
       "Bex               1880 Bex                          5402                        VD     2567230.358 1121779.532 fr     8806           79   68   88    104   88    112   115   108   110   120   110    110    126    116    95     119    99     105    90     101    82     96     103    93     107    112    104    109    102    111    111    140    127    114    144    115    154    129    119    121    123    137    115    107    119    115    121    115    98     129    107    87     130    110    102    108    127    107    136    120    109    116    106    116    102    97     97     95     82     66     82     70     60     50     74     66     64     68     65     56     60     54     40     44     39     47     31     31     28     27     23          13   \n",
       "Frenières-sur-Bex 1880 Bex                          5402                        VD     2571040.657 1121183.948 fr     8806           79   68   88    104   88    112   115   108   110   120   110    110    126    116    95     119    99     105    90     101    82     96     103    93     107    112    104    109    102    111    111    140    127    114    144    115    154    129    119    121    123    137    115    107    119    115    121    115    98     129    107    87     130    110    102    108    127    107    136    120    109    116    106    116    102    97     97     95     82     66     82     70     60     50     74     66     64     68     65     56     60     54     40     44     39     47     31     31     28     27     23          13   \n",
       "...                                                                                                                                                                                                                                                                                                                                                                                                                                                                                                                                                                                                                                                                                                                                                                                       ...   \n",
       "Villars-Epeney    1404 Villars-Epeney               5935                        VD     2543412.650 1181535.124 fr     108            1    2    2     0     0     3     2     1     2     1     1      3      1      2      4      1      1      1      2      1      2      0      0      0      1      0      0      1      2      1      2      1      1      1      6      2      1      2      1      0      4      2      0      0      2      1      0      0      3      1      0      1      1      2      1      2      1      1      0      3      3      6      0      1      1      3      1      3      1      0      1      0      4      0      0      0      1      1      0      1      0      0      0      0      0      0      0      0      1      0      0            0   \n",
       "Vugelles-La Mothe 1431 Vugelles-La Mothe            5937                        VD     2534182.487 1186399.984 fr     147            3    1    1     1     3     1     2     1     0     0     2      4      2      2      2      3      4      1      3      1      2      1      1      1      2      0      1      1      1      2      1      0      4      3      2      0      2      5      0      2      1      5      3      0      2      2      1      2      3      2      0      0      4      2      4      5      1      6      4      4      1      1      2      0      3      1      2      2      3      1      1      1      0      2      1      0      0      1      0      0      0      1      0      1      1      0      1      0      2      0      0            0   \n",
       "Yverdon-les-Bains 1400 Yverdon-les-Bains            5938                        VD     2539180.581 1180801.624 fr     30332          245  307  327   316   288   334   303   348   350   312   368    304    368    358    343    355    340    339    339    367    354    324    341    358    377    396    419    393    431    439    490    472    457    450    431    403    441    432    432    468    433    398    422    411    418    484    442    408    387    406    450    387    411    415    409    386    388    380    356    379    347    352    342    334    302    323    278    276    278    237    252    232    229    230    233    255    234    259    228    203    204    206    178    153    139    136    104    109    93     100    88          50   \n",
       "Gressy            1432 Yverdon-les-Bains            5938                        VD     2538768.002 1178103.684 fr     30332          245  307  327   316   288   334   303   348   350   312   368    304    368    358    343    355    340    339    339    367    354    324    341    358    377    396    419    393    431    439    490    472    457    450    431    403    441    432    432    468    433    398    422    411    418    484    442    408    387    406    450    387    411    415    409    386    388    380    356    379    347    352    342    334    302    323    278    276    278    237    252    232    229    230    233    255    234    259    228    203    204    206    178    153    139    136    104    109    93     100    88          50   \n",
       "Yvonand           1462 Yvonand                      5939                        VD     2545972.750 1182253.710 fr     3525           21   30   34    32    43    46    40    33    47    40    45     33     50     50     56     54     36     59     37     33     35     40     28     47     28     37     46     28     37     40     47     37     45     44     57     49     53     37     43     44     39     45     42     46     49     48     59     36     48     50     55     52     53     41     37     50     46     53     45     48     46     57     43     47     45     42     44     33     37     34     27     39     29     29     30     28     26     34     27     30     24     30     20     13     16     16     11     14     12     8      7            4   \n",
       "\n",
       "                                                                                                                                                                                                                                                                                                                                                                                                                                                                                                                                                                                                                                                                                                                                                                                      Commune d'annonce  \\\n",
       "Commune           NPA  Commune d'annonce / District Commune d'annonce référence Canton E           N           Langue Nb d'habitants 0 an 1 an 2 ans 3 ans 4 ans 5 ans 6 ans 7 ans 8 ans 9 ans 10 ans 11 ans 12 ans 13 ans 14 ans 15 ans 16 ans 17 ans 18 ans 19 ans 20 ans 21 ans 22 ans 23 ans 24 ans 25 ans 26 ans 27 ans 28 ans 29 ans 30 ans 31 ans 32 ans 33 ans 34 ans 35 ans 36 ans 37 ans 38 ans 39 ans 40 ans 41 ans 42 ans 43 ans 44 ans 45 ans 46 ans 47 ans 48 ans 49 ans 50 ans 51 ans 52 ans 53 ans 54 ans 55 ans 56 ans 57 ans 58 ans 59 ans 60 ans 61 ans 62 ans 63 ans 64 ans 65 ans 66 ans 67 ans 68 ans 69 ans 70 ans 71 ans 72 ans 73 ans 74 ans 75 ans 76 ans 77 ans 78 ans 79 ans 80 ans 81 ans 82 ans 83 ans 84 ans 85 ans 86 ans 87 ans 88 ans 89 ans 90 ans            94 ans   \n",
       "Aigle             1860 Aigle                        5401                        VD     2563821.020 1129273.277 fr     11780          138  131  124   141   141   147   139   158   140   125   141    123    116    141    144    137    137    135    123    119    133    141    132    143    162    163    169    176    163    159    178    179    203    197    171    193    170    168    171    148    151    146    161    155    147    150    142    160    153    163    135    157    168    152    144    164    126    161    150    149    146    147    144    122    124    118    101    125    94     101    108    108    90     81     80     89     82     95     94     89     73     64     74     57     43     43     32     19     30     34     25                     6   \n",
       "Le Sépey          1863 Aigle                        5401                        VD     2568544.893 1131955.818 fr     11780          138  131  124   141   141   147   139   158   140   125   141    123    116    141    144    137    137    135    123    119    133    141    132    143    162    163    169    176    163    159    178    179    203    197    171    193    170    168    171    148    151    146    161    155    147    150    142    160    153    163    135    157    168    152    144    164    126    161    150    149    146    147    144    122    124    118    101    125    94     101    108    108    90     81     80     89     82     95     94     89     73     64     74     57     43     43     32     19     30     34     25                     6   \n",
       "Bex               1880 Bex                          5402                        VD     2567230.358 1121779.532 fr     8806           79   68   88    104   88    112   115   108   110   120   110    110    126    116    95     119    99     105    90     101    82     96     103    93     107    112    104    109    102    111    111    140    127    114    144    115    154    129    119    121    123    137    115    107    119    115    121    115    98     129    107    87     130    110    102    108    127    107    136    120    109    116    106    116    102    97     97     95     82     66     82     70     60     50     74     66     64     68     65     56     60     54     40     44     39     47     31     31     28     27     23                    14   \n",
       "Frenières-sur-Bex 1880 Bex                          5402                        VD     2571040.657 1121183.948 fr     8806           79   68   88    104   88    112   115   108   110   120   110    110    126    116    95     119    99     105    90     101    82     96     103    93     107    112    104    109    102    111    111    140    127    114    144    115    154    129    119    121    123    137    115    107    119    115    121    115    98     129    107    87     130    110    102    108    127    107    136    120    109    116    106    116    102    97     97     95     82     66     82     70     60     50     74     66     64     68     65     56     60     54     40     44     39     47     31     31     28     27     23                    14   \n",
       "...                                                                                                                                                                                                                                                                                                                                                                                                                                                                                                                                                                                                                                                                                                                                                                                                 ...   \n",
       "Villars-Epeney    1404 Villars-Epeney               5935                        VD     2543412.650 1181535.124 fr     108            1    2    2     0     0     3     2     1     2     1     1      3      1      2      4      1      1      1      2      1      2      0      0      0      1      0      0      1      2      1      2      1      1      1      6      2      1      2      1      0      4      2      0      0      2      1      0      0      3      1      0      1      1      2      1      2      1      1      0      3      3      6      0      1      1      3      1      3      1      0      1      0      4      0      0      0      1      1      0      1      0      0      0      0      0      0      0      0      1      0      0                      0   \n",
       "Vugelles-La Mothe 1431 Vugelles-La Mothe            5937                        VD     2534182.487 1186399.984 fr     147            3    1    1     1     3     1     2     1     0     0     2      4      2      2      2      3      4      1      3      1      2      1      1      1      2      0      1      1      1      2      1      0      4      3      2      0      2      5      0      2      1      5      3      0      2      2      1      2      3      2      0      0      4      2      4      5      1      6      4      4      1      1      2      0      3      1      2      2      3      1      1      1      0      2      1      0      0      1      0      0      0      1      0      1      1      0      1      0      2      0      0                      0   \n",
       "Yverdon-les-Bains 1400 Yverdon-les-Bains            5938                        VD     2539180.581 1180801.624 fr     30332          245  307  327   316   288   334   303   348   350   312   368    304    368    358    343    355    340    339    339    367    354    324    341    358    377    396    419    393    431    439    490    472    457    450    431    403    441    432    432    468    433    398    422    411    418    484    442    408    387    406    450    387    411    415    409    386    388    380    356    379    347    352    342    334    302    323    278    276    278    237    252    232    229    230    233    255    234    259    228    203    204    206    178    153    139    136    104    109    93     100    88                    44   \n",
       "Gressy            1432 Yverdon-les-Bains            5938                        VD     2538768.002 1178103.684 fr     30332          245  307  327   316   288   334   303   348   350   312   368    304    368    358    343    355    340    339    339    367    354    324    341    358    377    396    419    393    431    439    490    472    457    450    431    403    441    432    432    468    433    398    422    411    418    484    442    408    387    406    450    387    411    415    409    386    388    380    356    379    347    352    342    334    302    323    278    276    278    237    252    232    229    230    233    255    234    259    228    203    204    206    178    153    139    136    104    109    93     100    88                    44   \n",
       "Yvonand           1462 Yvonand                      5939                        VD     2545972.750 1182253.710 fr     3525           21   30   34    32    43    46    40    33    47    40    45     33     50     50     56     54     36     59     37     33     35     40     28     47     28     37     46     28     37     40     47     37     45     44     57     49     53     37     43     44     39     45     42     46     49     48     59     36     48     50     55     52     53     41     37     50     46     53     45     48     46     57     43     47     45     42     44     33     37     34     27     39     29     29     30     28     26     34     27     30     24     30     20     13     16     16     11     14     12     8      7                     13   \n",
       "\n",
       "                                                                                                                                                                                                                                                                                                                                                                                                                                                                                                                                                                                                                                                                                                                                                                                      Commune d'annonce référence  \\\n",
       "Commune           NPA  Commune d'annonce / District Commune d'annonce référence Canton E           N           Langue Nb d'habitants 0 an 1 an 2 ans 3 ans 4 ans 5 ans 6 ans 7 ans 8 ans 9 ans 10 ans 11 ans 12 ans 13 ans 14 ans 15 ans 16 ans 17 ans 18 ans 19 ans 20 ans 21 ans 22 ans 23 ans 24 ans 25 ans 26 ans 27 ans 28 ans 29 ans 30 ans 31 ans 32 ans 33 ans 34 ans 35 ans 36 ans 37 ans 38 ans 39 ans 40 ans 41 ans 42 ans 43 ans 44 ans 45 ans 46 ans 47 ans 48 ans 49 ans 50 ans 51 ans 52 ans 53 ans 54 ans 55 ans 56 ans 57 ans 58 ans 59 ans 60 ans 61 ans 62 ans 63 ans 64 ans 65 ans 66 ans 67 ans 68 ans 69 ans 70 ans 71 ans 72 ans 73 ans 74 ans 75 ans 76 ans 77 ans 78 ans 79 ans 80 ans 81 ans 82 ans 83 ans 84 ans 85 ans 86 ans 87 ans 88 ans 89 ans 90 ans                      95 ans   \n",
       "Aigle             1860 Aigle                        5401                        VD     2563821.020 1129273.277 fr     11780          138  131  124   141   141   147   139   158   140   125   141    123    116    141    144    137    137    135    123    119    133    141    132    143    162    163    169    176    163    159    178    179    203    197    171    193    170    168    171    148    151    146    161    155    147    150    142    160    153    163    135    157    168    152    144    164    126    161    150    149    146    147    144    122    124    118    101    125    94     101    108    108    90     81     80     89     82     95     94     89     73     64     74     57     43     43     32     19     30     34     25                               9   \n",
       "Le Sépey          1863 Aigle                        5401                        VD     2568544.893 1131955.818 fr     11780          138  131  124   141   141   147   139   158   140   125   141    123    116    141    144    137    137    135    123    119    133    141    132    143    162    163    169    176    163    159    178    179    203    197    171    193    170    168    171    148    151    146    161    155    147    150    142    160    153    163    135    157    168    152    144    164    126    161    150    149    146    147    144    122    124    118    101    125    94     101    108    108    90     81     80     89     82     95     94     89     73     64     74     57     43     43     32     19     30     34     25                               9   \n",
       "Bex               1880 Bex                          5402                        VD     2567230.358 1121779.532 fr     8806           79   68   88    104   88    112   115   108   110   120   110    110    126    116    95     119    99     105    90     101    82     96     103    93     107    112    104    109    102    111    111    140    127    114    144    115    154    129    119    121    123    137    115    107    119    115    121    115    98     129    107    87     130    110    102    108    127    107    136    120    109    116    106    116    102    97     97     95     82     66     82     70     60     50     74     66     64     68     65     56     60     54     40     44     39     47     31     31     28     27     23                               8   \n",
       "Frenières-sur-Bex 1880 Bex                          5402                        VD     2571040.657 1121183.948 fr     8806           79   68   88    104   88    112   115   108   110   120   110    110    126    116    95     119    99     105    90     101    82     96     103    93     107    112    104    109    102    111    111    140    127    114    144    115    154    129    119    121    123    137    115    107    119    115    121    115    98     129    107    87     130    110    102    108    127    107    136    120    109    116    106    116    102    97     97     95     82     66     82     70     60     50     74     66     64     68     65     56     60     54     40     44     39     47     31     31     28     27     23                               8   \n",
       "...                                                                                                                                                                                                                                                                                                                                                                                                                                                                                                                                                                                                                                                                                                                                                                                                           ...   \n",
       "Villars-Epeney    1404 Villars-Epeney               5935                        VD     2543412.650 1181535.124 fr     108            1    2    2     0     0     3     2     1     2     1     1      3      1      2      4      1      1      1      2      1      2      0      0      0      1      0      0      1      2      1      2      1      1      1      6      2      1      2      1      0      4      2      0      0      2      1      0      0      3      1      0      1      1      2      1      2      1      1      0      3      3      6      0      1      1      3      1      3      1      0      1      0      4      0      0      0      1      1      0      1      0      0      0      0      0      0      0      0      1      0      0                                0   \n",
       "Vugelles-La Mothe 1431 Vugelles-La Mothe            5937                        VD     2534182.487 1186399.984 fr     147            3    1    1     1     3     1     2     1     0     0     2      4      2      2      2      3      4      1      3      1      2      1      1      1      2      0      1      1      1      2      1      0      4      3      2      0      2      5      0      2      1      5      3      0      2      2      1      2      3      2      0      0      4      2      4      5      1      6      4      4      1      1      2      0      3      1      2      2      3      1      1      1      0      2      1      0      0      1      0      0      0      1      0      1      1      0      1      0      2      0      0                                0   \n",
       "Yverdon-les-Bains 1400 Yverdon-les-Bains            5938                        VD     2539180.581 1180801.624 fr     30332          245  307  327   316   288   334   303   348   350   312   368    304    368    358    343    355    340    339    339    367    354    324    341    358    377    396    419    393    431    439    490    472    457    450    431    403    441    432    432    468    433    398    422    411    418    484    442    408    387    406    450    387    411    415    409    386    388    380    356    379    347    352    342    334    302    323    278    276    278    237    252    232    229    230    233    255    234    259    228    203    204    206    178    153    139    136    104    109    93     100    88                              24   \n",
       "Gressy            1432 Yverdon-les-Bains            5938                        VD     2538768.002 1178103.684 fr     30332          245  307  327   316   288   334   303   348   350   312   368    304    368    358    343    355    340    339    339    367    354    324    341    358    377    396    419    393    431    439    490    472    457    450    431    403    441    432    432    468    433    398    422    411    418    484    442    408    387    406    450    387    411    415    409    386    388    380    356    379    347    352    342    334    302    323    278    276    278    237    252    232    229    230    233    255    234    259    228    203    204    206    178    153    139    136    104    109    93     100    88                              24   \n",
       "Yvonand           1462 Yvonand                      5939                        VD     2545972.750 1182253.710 fr     3525           21   30   34    32    43    46    40    33    47    40    45     33     50     50     56     54     36     59     37     33     35     40     28     47     28     37     46     28     37     40     47     37     45     44     57     49     53     37     43     44     39     45     42     46     49     48     59     36     48     50     55     52     53     41     37     50     46     53     45     48     46     57     43     47     45     42     44     33     37     34     27     39     29     29     30     28     26     34     27     30     24     30     20     13     16     16     11     14     12     8      7                                8   \n",
       "\n",
       "                                                                                                                                                                                                                                                                                                                                                                                                                                                                                                                                                                                                                                                                                                                                                                                       canton  \\\n",
       "Commune           NPA  Commune d'annonce / District Commune d'annonce référence Canton E           N           Langue Nb d'habitants 0 an 1 an 2 ans 3 ans 4 ans 5 ans 6 ans 7 ans 8 ans 9 ans 10 ans 11 ans 12 ans 13 ans 14 ans 15 ans 16 ans 17 ans 18 ans 19 ans 20 ans 21 ans 22 ans 23 ans 24 ans 25 ans 26 ans 27 ans 28 ans 29 ans 30 ans 31 ans 32 ans 33 ans 34 ans 35 ans 36 ans 37 ans 38 ans 39 ans 40 ans 41 ans 42 ans 43 ans 44 ans 45 ans 46 ans 47 ans 48 ans 49 ans 50 ans 51 ans 52 ans 53 ans 54 ans 55 ans 56 ans 57 ans 58 ans 59 ans 60 ans 61 ans 62 ans 63 ans 64 ans 65 ans 66 ans 67 ans 68 ans 69 ans 70 ans 71 ans 72 ans 73 ans 74 ans 75 ans 76 ans 77 ans 78 ans 79 ans 80 ans 81 ans 82 ans 83 ans 84 ans 85 ans 86 ans 87 ans 88 ans 89 ans 90 ans  96 ans   \n",
       "Aigle             1860 Aigle                        5401                        VD     2563821.020 1129273.277 fr     11780          138  131  124   141   141   147   139   158   140   125   141    123    116    141    144    137    137    135    123    119    133    141    132    143    162    163    169    176    163    159    178    179    203    197    171    193    170    168    171    148    151    146    161    155    147    150    142    160    153    163    135    157    168    152    144    164    126    161    150    149    146    147    144    122    124    118    101    125    94     101    108    108    90     81     80     89     82     95     94     89     73     64     74     57     43     43     32     19     30     34     25           7   \n",
       "Le Sépey          1863 Aigle                        5401                        VD     2568544.893 1131955.818 fr     11780          138  131  124   141   141   147   139   158   140   125   141    123    116    141    144    137    137    135    123    119    133    141    132    143    162    163    169    176    163    159    178    179    203    197    171    193    170    168    171    148    151    146    161    155    147    150    142    160    153    163    135    157    168    152    144    164    126    161    150    149    146    147    144    122    124    118    101    125    94     101    108    108    90     81     80     89     82     95     94     89     73     64     74     57     43     43     32     19     30     34     25           7   \n",
       "Bex               1880 Bex                          5402                        VD     2567230.358 1121779.532 fr     8806           79   68   88    104   88    112   115   108   110   120   110    110    126    116    95     119    99     105    90     101    82     96     103    93     107    112    104    109    102    111    111    140    127    114    144    115    154    129    119    121    123    137    115    107    119    115    121    115    98     129    107    87     130    110    102    108    127    107    136    120    109    116    106    116    102    97     97     95     82     66     82     70     60     50     74     66     64     68     65     56     60     54     40     44     39     47     31     31     28     27     23           6   \n",
       "Frenières-sur-Bex 1880 Bex                          5402                        VD     2571040.657 1121183.948 fr     8806           79   68   88    104   88    112   115   108   110   120   110    110    126    116    95     119    99     105    90     101    82     96     103    93     107    112    104    109    102    111    111    140    127    114    144    115    154    129    119    121    123    137    115    107    119    115    121    115    98     129    107    87     130    110    102    108    127    107    136    120    109    116    106    116    102    97     97     95     82     66     82     70     60     50     74     66     64     68     65     56     60     54     40     44     39     47     31     31     28     27     23           6   \n",
       "...                                                                                                                                                                                                                                                                                                                                                                                                                                                                                                                                                                                                                                                                                                                                                                                       ...   \n",
       "Villars-Epeney    1404 Villars-Epeney               5935                        VD     2543412.650 1181535.124 fr     108            1    2    2     0     0     3     2     1     2     1     1      3      1      2      4      1      1      1      2      1      2      0      0      0      1      0      0      1      2      1      2      1      1      1      6      2      1      2      1      0      4      2      0      0      2      1      0      0      3      1      0      1      1      2      1      2      1      1      0      3      3      6      0      1      1      3      1      3      1      0      1      0      4      0      0      0      1      1      0      1      0      0      0      0      0      0      0      0      1      0      0            0   \n",
       "Vugelles-La Mothe 1431 Vugelles-La Mothe            5937                        VD     2534182.487 1186399.984 fr     147            3    1    1     1     3     1     2     1     0     0     2      4      2      2      2      3      4      1      3      1      2      1      1      1      2      0      1      1      1      2      1      0      4      3      2      0      2      5      0      2      1      5      3      0      2      2      1      2      3      2      0      0      4      2      4      5      1      6      4      4      1      1      2      0      3      1      2      2      3      1      1      1      0      2      1      0      0      1      0      0      0      1      0      1      1      0      1      0      2      0      0            0   \n",
       "Yverdon-les-Bains 1400 Yverdon-les-Bains            5938                        VD     2539180.581 1180801.624 fr     30332          245  307  327   316   288   334   303   348   350   312   368    304    368    358    343    355    340    339    339    367    354    324    341    358    377    396    419    393    431    439    490    472    457    450    431    403    441    432    432    468    433    398    422    411    418    484    442    408    387    406    450    387    411    415    409    386    388    380    356    379    347    352    342    334    302    323    278    276    278    237    252    232    229    230    233    255    234    259    228    203    204    206    178    153    139    136    104    109    93     100    88          18   \n",
       "Gressy            1432 Yverdon-les-Bains            5938                        VD     2538768.002 1178103.684 fr     30332          245  307  327   316   288   334   303   348   350   312   368    304    368    358    343    355    340    339    339    367    354    324    341    358    377    396    419    393    431    439    490    472    457    450    431    403    441    432    432    468    433    398    422    411    418    484    442    408    387    406    450    387    411    415    409    386    388    380    356    379    347    352    342    334    302    323    278    276    278    237    252    232    229    230    233    255    234    259    228    203    204    206    178    153    139    136    104    109    93     100    88          18   \n",
       "Yvonand           1462 Yvonand                      5939                        VD     2545972.750 1182253.710 fr     3525           21   30   34    32    43    46    40    33    47    40    45     33     50     50     56     54     36     59     37     33     35     40     28     47     28     37     46     28     37     40     47     37     45     44     57     49     53     37     43     44     39     45     42     46     49     48     59     36     48     50     55     52     53     41     37     50     46     53     45     48     46     57     43     47     45     42     44     33     37     34     27     39     29     29     30     28     26     34     27     30     24     30     20     13     16     16     11     14     12     8      7            5   \n",
       "\n",
       "                                                                                                                                                                                                                                                                                                                                                                                                                                                                                                                                                                                                                                                                                                                                                                                            E  \\\n",
       "Commune           NPA  Commune d'annonce / District Commune d'annonce référence Canton E           N           Langue Nb d'habitants 0 an 1 an 2 ans 3 ans 4 ans 5 ans 6 ans 7 ans 8 ans 9 ans 10 ans 11 ans 12 ans 13 ans 14 ans 15 ans 16 ans 17 ans 18 ans 19 ans 20 ans 21 ans 22 ans 23 ans 24 ans 25 ans 26 ans 27 ans 28 ans 29 ans 30 ans 31 ans 32 ans 33 ans 34 ans 35 ans 36 ans 37 ans 38 ans 39 ans 40 ans 41 ans 42 ans 43 ans 44 ans 45 ans 46 ans 47 ans 48 ans 49 ans 50 ans 51 ans 52 ans 53 ans 54 ans 55 ans 56 ans 57 ans 58 ans 59 ans 60 ans 61 ans 62 ans 63 ans 64 ans 65 ans 66 ans 67 ans 68 ans 69 ans 70 ans 71 ans 72 ans 73 ans 74 ans 75 ans 76 ans 77 ans 78 ans 79 ans 80 ans 81 ans 82 ans 83 ans 84 ans 85 ans 86 ans 87 ans 88 ans 89 ans 90 ans  97 ans   \n",
       "Aigle             1860 Aigle                        5401                        VD     2563821.020 1129273.277 fr     11780          138  131  124   141   141   147   139   158   140   125   141    123    116    141    144    137    137    135    123    119    133    141    132    143    162    163    169    176    163    159    178    179    203    197    171    193    170    168    171    148    151    146    161    155    147    150    142    160    153    163    135    157    168    152    144    164    126    161    150    149    146    147    144    122    124    118    101    125    94     101    108    108    90     81     80     89     82     95     94     89     73     64     74     57     43     43     32     19     30     34     25           0   \n",
       "Le Sépey          1863 Aigle                        5401                        VD     2568544.893 1131955.818 fr     11780          138  131  124   141   141   147   139   158   140   125   141    123    116    141    144    137    137    135    123    119    133    141    132    143    162    163    169    176    163    159    178    179    203    197    171    193    170    168    171    148    151    146    161    155    147    150    142    160    153    163    135    157    168    152    144    164    126    161    150    149    146    147    144    122    124    118    101    125    94     101    108    108    90     81     80     89     82     95     94     89     73     64     74     57     43     43     32     19     30     34     25           0   \n",
       "Bex               1880 Bex                          5402                        VD     2567230.358 1121779.532 fr     8806           79   68   88    104   88    112   115   108   110   120   110    110    126    116    95     119    99     105    90     101    82     96     103    93     107    112    104    109    102    111    111    140    127    114    144    115    154    129    119    121    123    137    115    107    119    115    121    115    98     129    107    87     130    110    102    108    127    107    136    120    109    116    106    116    102    97     97     95     82     66     82     70     60     50     74     66     64     68     65     56     60     54     40     44     39     47     31     31     28     27     23           2   \n",
       "Frenières-sur-Bex 1880 Bex                          5402                        VD     2571040.657 1121183.948 fr     8806           79   68   88    104   88    112   115   108   110   120   110    110    126    116    95     119    99     105    90     101    82     96     103    93     107    112    104    109    102    111    111    140    127    114    144    115    154    129    119    121    123    137    115    107    119    115    121    115    98     129    107    87     130    110    102    108    127    107    136    120    109    116    106    116    102    97     97     95     82     66     82     70     60     50     74     66     64     68     65     56     60     54     40     44     39     47     31     31     28     27     23           2   \n",
       "...                                                                                                                                                                                                                                                                                                                                                                                                                                                                                                                                                                                                                                                                                                                                                                                       ...   \n",
       "Villars-Epeney    1404 Villars-Epeney               5935                        VD     2543412.650 1181535.124 fr     108            1    2    2     0     0     3     2     1     2     1     1      3      1      2      4      1      1      1      2      1      2      0      0      0      1      0      0      1      2      1      2      1      1      1      6      2      1      2      1      0      4      2      0      0      2      1      0      0      3      1      0      1      1      2      1      2      1      1      0      3      3      6      0      1      1      3      1      3      1      0      1      0      4      0      0      0      1      1      0      1      0      0      0      0      0      0      0      0      1      0      0            0   \n",
       "Vugelles-La Mothe 1431 Vugelles-La Mothe            5937                        VD     2534182.487 1186399.984 fr     147            3    1    1     1     3     1     2     1     0     0     2      4      2      2      2      3      4      1      3      1      2      1      1      1      2      0      1      1      1      2      1      0      4      3      2      0      2      5      0      2      1      5      3      0      2      2      1      2      3      2      0      0      4      2      4      5      1      6      4      4      1      1      2      0      3      1      2      2      3      1      1      1      0      2      1      0      0      1      0      0      0      1      0      1      1      0      1      0      2      0      0            0   \n",
       "Yverdon-les-Bains 1400 Yverdon-les-Bains            5938                        VD     2539180.581 1180801.624 fr     30332          245  307  327   316   288   334   303   348   350   312   368    304    368    358    343    355    340    339    339    367    354    324    341    358    377    396    419    393    431    439    490    472    457    450    431    403    441    432    432    468    433    398    422    411    418    484    442    408    387    406    450    387    411    415    409    386    388    380    356    379    347    352    342    334    302    323    278    276    278    237    252    232    229    230    233    255    234    259    228    203    204    206    178    153    139    136    104    109    93     100    88          17   \n",
       "Gressy            1432 Yverdon-les-Bains            5938                        VD     2538768.002 1178103.684 fr     30332          245  307  327   316   288   334   303   348   350   312   368    304    368    358    343    355    340    339    339    367    354    324    341    358    377    396    419    393    431    439    490    472    457    450    431    403    441    432    432    468    433    398    422    411    418    484    442    408    387    406    450    387    411    415    409    386    388    380    356    379    347    352    342    334    302    323    278    276    278    237    252    232    229    230    233    255    234    259    228    203    204    206    178    153    139    136    104    109    93     100    88          17   \n",
       "Yvonand           1462 Yvonand                      5939                        VD     2545972.750 1182253.710 fr     3525           21   30   34    32    43    46    40    33    47    40    45     33     50     50     56     54     36     59     37     33     35     40     28     47     28     37     46     28     37     40     47     37     45     44     57     49     53     37     43     44     39     45     42     46     49     48     59     36     48     50     55     52     53     41     37     50     46     53     45     48     46     57     43     47     45     42     44     33     37     34     27     39     29     29     30     28     26     34     27     30     24     30     20     13     16     16     11     14     12     8      7            2   \n",
       "\n",
       "                                                                                                                                                                                                                                                                                                                                                                                                                                                                                                                                                                                                                                                                                                                                                                                            N  \\\n",
       "Commune           NPA  Commune d'annonce / District Commune d'annonce référence Canton E           N           Langue Nb d'habitants 0 an 1 an 2 ans 3 ans 4 ans 5 ans 6 ans 7 ans 8 ans 9 ans 10 ans 11 ans 12 ans 13 ans 14 ans 15 ans 16 ans 17 ans 18 ans 19 ans 20 ans 21 ans 22 ans 23 ans 24 ans 25 ans 26 ans 27 ans 28 ans 29 ans 30 ans 31 ans 32 ans 33 ans 34 ans 35 ans 36 ans 37 ans 38 ans 39 ans 40 ans 41 ans 42 ans 43 ans 44 ans 45 ans 46 ans 47 ans 48 ans 49 ans 50 ans 51 ans 52 ans 53 ans 54 ans 55 ans 56 ans 57 ans 58 ans 59 ans 60 ans 61 ans 62 ans 63 ans 64 ans 65 ans 66 ans 67 ans 68 ans 69 ans 70 ans 71 ans 72 ans 73 ans 74 ans 75 ans 76 ans 77 ans 78 ans 79 ans 80 ans 81 ans 82 ans 83 ans 84 ans 85 ans 86 ans 87 ans 88 ans 89 ans 90 ans  98 ans   \n",
       "Aigle             1860 Aigle                        5401                        VD     2563821.020 1129273.277 fr     11780          138  131  124   141   141   147   139   158   140   125   141    123    116    141    144    137    137    135    123    119    133    141    132    143    162    163    169    176    163    159    178    179    203    197    171    193    170    168    171    148    151    146    161    155    147    150    142    160    153    163    135    157    168    152    144    164    126    161    150    149    146    147    144    122    124    118    101    125    94     101    108    108    90     81     80     89     82     95     94     89     73     64     74     57     43     43     32     19     30     34     25           3   \n",
       "Le Sépey          1863 Aigle                        5401                        VD     2568544.893 1131955.818 fr     11780          138  131  124   141   141   147   139   158   140   125   141    123    116    141    144    137    137    135    123    119    133    141    132    143    162    163    169    176    163    159    178    179    203    197    171    193    170    168    171    148    151    146    161    155    147    150    142    160    153    163    135    157    168    152    144    164    126    161    150    149    146    147    144    122    124    118    101    125    94     101    108    108    90     81     80     89     82     95     94     89     73     64     74     57     43     43     32     19     30     34     25           3   \n",
       "Bex               1880 Bex                          5402                        VD     2567230.358 1121779.532 fr     8806           79   68   88    104   88    112   115   108   110   120   110    110    126    116    95     119    99     105    90     101    82     96     103    93     107    112    104    109    102    111    111    140    127    114    144    115    154    129    119    121    123    137    115    107    119    115    121    115    98     129    107    87     130    110    102    108    127    107    136    120    109    116    106    116    102    97     97     95     82     66     82     70     60     50     74     66     64     68     65     56     60     54     40     44     39     47     31     31     28     27     23           0   \n",
       "Frenières-sur-Bex 1880 Bex                          5402                        VD     2571040.657 1121183.948 fr     8806           79   68   88    104   88    112   115   108   110   120   110    110    126    116    95     119    99     105    90     101    82     96     103    93     107    112    104    109    102    111    111    140    127    114    144    115    154    129    119    121    123    137    115    107    119    115    121    115    98     129    107    87     130    110    102    108    127    107    136    120    109    116    106    116    102    97     97     95     82     66     82     70     60     50     74     66     64     68     65     56     60     54     40     44     39     47     31     31     28     27     23           0   \n",
       "...                                                                                                                                                                                                                                                                                                                                                                                                                                                                                                                                                                                                                                                                                                                                                                                       ...   \n",
       "Villars-Epeney    1404 Villars-Epeney               5935                        VD     2543412.650 1181535.124 fr     108            1    2    2     0     0     3     2     1     2     1     1      3      1      2      4      1      1      1      2      1      2      0      0      0      1      0      0      1      2      1      2      1      1      1      6      2      1      2      1      0      4      2      0      0      2      1      0      0      3      1      0      1      1      2      1      2      1      1      0      3      3      6      0      1      1      3      1      3      1      0      1      0      4      0      0      0      1      1      0      1      0      0      0      0      0      0      0      0      1      0      0            0   \n",
       "Vugelles-La Mothe 1431 Vugelles-La Mothe            5937                        VD     2534182.487 1186399.984 fr     147            3    1    1     1     3     1     2     1     0     0     2      4      2      2      2      3      4      1      3      1      2      1      1      1      2      0      1      1      1      2      1      0      4      3      2      0      2      5      0      2      1      5      3      0      2      2      1      2      3      2      0      0      4      2      4      5      1      6      4      4      1      1      2      0      3      1      2      2      3      1      1      1      0      2      1      0      0      1      0      0      0      1      0      1      1      0      1      0      2      0      0            0   \n",
       "Yverdon-les-Bains 1400 Yverdon-les-Bains            5938                        VD     2539180.581 1180801.624 fr     30332          245  307  327   316   288   334   303   348   350   312   368    304    368    358    343    355    340    339    339    367    354    324    341    358    377    396    419    393    431    439    490    472    457    450    431    403    441    432    432    468    433    398    422    411    418    484    442    408    387    406    450    387    411    415    409    386    388    380    356    379    347    352    342    334    302    323    278    276    278    237    252    232    229    230    233    255    234    259    228    203    204    206    178    153    139    136    104    109    93     100    88           4   \n",
       "Gressy            1432 Yverdon-les-Bains            5938                        VD     2538768.002 1178103.684 fr     30332          245  307  327   316   288   334   303   348   350   312   368    304    368    358    343    355    340    339    339    367    354    324    341    358    377    396    419    393    431    439    490    472    457    450    431    403    441    432    432    468    433    398    422    411    418    484    442    408    387    406    450    387    411    415    409    386    388    380    356    379    347    352    342    334    302    323    278    276    278    237    252    232    229    230    233    255    234    259    228    203    204    206    178    153    139    136    104    109    93     100    88           4   \n",
       "Yvonand           1462 Yvonand                      5939                        VD     2545972.750 1182253.710 fr     3525           21   30   34    32    43    46    40    33    47    40    45     33     50     50     56     54     36     59     37     33     35     40     28     47     28     37     46     28     37     40     47     37     45     44     57     49     53     37     43     44     39     45     42     46     49     48     59     36     48     50     55     52     53     41     37     50     46     53     45     48     46     57     43     47     45     42     44     33     37     34     27     39     29     29     30     28     26     34     27     30     24     30     20     13     16     16     11     14     12     8      7            1   \n",
       "\n",
       "                                                                                                                                                                                                                                                                                                                                                                                                                                                                                                                                                                                                                                                                                                                                                                                       langue  \\\n",
       "Commune           NPA  Commune d'annonce / District Commune d'annonce référence Canton E           N           Langue Nb d'habitants 0 an 1 an 2 ans 3 ans 4 ans 5 ans 6 ans 7 ans 8 ans 9 ans 10 ans 11 ans 12 ans 13 ans 14 ans 15 ans 16 ans 17 ans 18 ans 19 ans 20 ans 21 ans 22 ans 23 ans 24 ans 25 ans 26 ans 27 ans 28 ans 29 ans 30 ans 31 ans 32 ans 33 ans 34 ans 35 ans 36 ans 37 ans 38 ans 39 ans 40 ans 41 ans 42 ans 43 ans 44 ans 45 ans 46 ans 47 ans 48 ans 49 ans 50 ans 51 ans 52 ans 53 ans 54 ans 55 ans 56 ans 57 ans 58 ans 59 ans 60 ans 61 ans 62 ans 63 ans 64 ans 65 ans 66 ans 67 ans 68 ans 69 ans 70 ans 71 ans 72 ans 73 ans 74 ans 75 ans 76 ans 77 ans 78 ans 79 ans 80 ans 81 ans 82 ans 83 ans 84 ans 85 ans 86 ans 87 ans 88 ans 89 ans 90 ans  99 ans   \n",
       "Aigle             1860 Aigle                        5401                        VD     2563821.020 1129273.277 fr     11780          138  131  124   141   141   147   139   158   140   125   141    123    116    141    144    137    137    135    123    119    133    141    132    143    162    163    169    176    163    159    178    179    203    197    171    193    170    168    171    148    151    146    161    155    147    150    142    160    153    163    135    157    168    152    144    164    126    161    150    149    146    147    144    122    124    118    101    125    94     101    108    108    90     81     80     89     82     95     94     89     73     64     74     57     43     43     32     19     30     34     25           5   \n",
       "Le Sépey          1863 Aigle                        5401                        VD     2568544.893 1131955.818 fr     11780          138  131  124   141   141   147   139   158   140   125   141    123    116    141    144    137    137    135    123    119    133    141    132    143    162    163    169    176    163    159    178    179    203    197    171    193    170    168    171    148    151    146    161    155    147    150    142    160    153    163    135    157    168    152    144    164    126    161    150    149    146    147    144    122    124    118    101    125    94     101    108    108    90     81     80     89     82     95     94     89     73     64     74     57     43     43     32     19     30     34     25           5   \n",
       "Bex               1880 Bex                          5402                        VD     2567230.358 1121779.532 fr     8806           79   68   88    104   88    112   115   108   110   120   110    110    126    116    95     119    99     105    90     101    82     96     103    93     107    112    104    109    102    111    111    140    127    114    144    115    154    129    119    121    123    137    115    107    119    115    121    115    98     129    107    87     130    110    102    108    127    107    136    120    109    116    106    116    102    97     97     95     82     66     82     70     60     50     74     66     64     68     65     56     60     54     40     44     39     47     31     31     28     27     23           1   \n",
       "Frenières-sur-Bex 1880 Bex                          5402                        VD     2571040.657 1121183.948 fr     8806           79   68   88    104   88    112   115   108   110   120   110    110    126    116    95     119    99     105    90     101    82     96     103    93     107    112    104    109    102    111    111    140    127    114    144    115    154    129    119    121    123    137    115    107    119    115    121    115    98     129    107    87     130    110    102    108    127    107    136    120    109    116    106    116    102    97     97     95     82     66     82     70     60     50     74     66     64     68     65     56     60     54     40     44     39     47     31     31     28     27     23           1   \n",
       "...                                                                                                                                                                                                                                                                                                                                                                                                                                                                                                                                                                                                                                                                                                                                                                                       ...   \n",
       "Villars-Epeney    1404 Villars-Epeney               5935                        VD     2543412.650 1181535.124 fr     108            1    2    2     0     0     3     2     1     2     1     1      3      1      2      4      1      1      1      2      1      2      0      0      0      1      0      0      1      2      1      2      1      1      1      6      2      1      2      1      0      4      2      0      0      2      1      0      0      3      1      0      1      1      2      1      2      1      1      0      3      3      6      0      1      1      3      1      3      1      0      1      0      4      0      0      0      1      1      0      1      0      0      0      0      0      0      0      0      1      0      0            0   \n",
       "Vugelles-La Mothe 1431 Vugelles-La Mothe            5937                        VD     2534182.487 1186399.984 fr     147            3    1    1     1     3     1     2     1     0     0     2      4      2      2      2      3      4      1      3      1      2      1      1      1      2      0      1      1      1      2      1      0      4      3      2      0      2      5      0      2      1      5      3      0      2      2      1      2      3      2      0      0      4      2      4      5      1      6      4      4      1      1      2      0      3      1      2      2      3      1      1      1      0      2      1      0      0      1      0      0      0      1      0      1      1      0      1      0      2      0      0            0   \n",
       "Yverdon-les-Bains 1400 Yverdon-les-Bains            5938                        VD     2539180.581 1180801.624 fr     30332          245  307  327   316   288   334   303   348   350   312   368    304    368    358    343    355    340    339    339    367    354    324    341    358    377    396    419    393    431    439    490    472    457    450    431    403    441    432    432    468    433    398    422    411    418    484    442    408    387    406    450    387    411    415    409    386    388    380    356    379    347    352    342    334    302    323    278    276    278    237    252    232    229    230    233    255    234    259    228    203    204    206    178    153    139    136    104    109    93     100    88           7   \n",
       "Gressy            1432 Yverdon-les-Bains            5938                        VD     2538768.002 1178103.684 fr     30332          245  307  327   316   288   334   303   348   350   312   368    304    368    358    343    355    340    339    339    367    354    324    341    358    377    396    419    393    431    439    490    472    457    450    431    403    441    432    432    468    433    398    422    411    418    484    442    408    387    406    450    387    411    415    409    386    388    380    356    379    347    352    342    334    302    323    278    276    278    237    252    232    229    230    233    255    234    259    228    203    204    206    178    153    139    136    104    109    93     100    88           7   \n",
       "Yvonand           1462 Yvonand                      5939                        VD     2545972.750 1182253.710 fr     3525           21   30   34    32    43    46    40    33    47    40    45     33     50     50     56     54     36     59     37     33     35     40     28     47     28     37     46     28     37     40     47     37     45     44     57     49     53     37     43     44     39     45     42     46     49     48     59     36     48     50     55     52     53     41     37     50     46     53     45     48     46     57     43     47     45     42     44     33     37     34     27     39     29     29     30     28     26     34     27     30     24     30     20     13     16     16     11     14     12     8      7            0   \n",
       "\n",
       "                                                                                                                                                                                                                                                                                                                                                                                                                                                                                                                                                                                                                                                                                                                                                                                      date_validite  \n",
       "Commune           NPA  Commune d'annonce / District Commune d'annonce référence Canton E           N           Langue Nb d'habitants 0 an 1 an 2 ans 3 ans 4 ans 5 ans 6 ans 7 ans 8 ans 9 ans 10 ans 11 ans 12 ans 13 ans 14 ans 15 ans 16 ans 17 ans 18 ans 19 ans 20 ans 21 ans 22 ans 23 ans 24 ans 25 ans 26 ans 27 ans 28 ans 29 ans 30 ans 31 ans 32 ans 33 ans 34 ans 35 ans 36 ans 37 ans 38 ans 39 ans 40 ans 41 ans 42 ans 43 ans 44 ans 45 ans 46 ans 47 ans 48 ans 49 ans 50 ans 51 ans 52 ans 53 ans 54 ans 55 ans 56 ans 57 ans 58 ans 59 ans 60 ans 61 ans 62 ans 63 ans 64 ans 65 ans 66 ans 67 ans 68 ans 69 ans 70 ans 71 ans 72 ans 73 ans 74 ans 75 ans 76 ans 77 ans 78 ans 79 ans 80 ans 81 ans 82 ans 83 ans 84 ans 85 ans 86 ans 87 ans 88 ans 89 ans 90 ans      100+ ans  \n",
       "Aigle             1860 Aigle                        5401                        VD     2563821.020 1129273.277 fr     11780          138  131  124   141   141   147   139   158   140   125   141    123    116    141    144    137    137    135    123    119    133    141    132    143    162    163    169    176    163    159    178    179    203    197    171    193    170    168    171    148    151    146    161    155    147    150    142    160    153    163    135    157    168    152    144    164    126    161    150    149    146    147    144    122    124    118    101    125    94     101    108    108    90     81     80     89     82     95     94     89     73     64     74     57     43     43     32     19     30     34     25                 4  \n",
       "Le Sépey          1863 Aigle                        5401                        VD     2568544.893 1131955.818 fr     11780          138  131  124   141   141   147   139   158   140   125   141    123    116    141    144    137    137    135    123    119    133    141    132    143    162    163    169    176    163    159    178    179    203    197    171    193    170    168    171    148    151    146    161    155    147    150    142    160    153    163    135    157    168    152    144    164    126    161    150    149    146    147    144    122    124    118    101    125    94     101    108    108    90     81     80     89     82     95     94     89     73     64     74     57     43     43     32     19     30     34     25                 4  \n",
       "Bex               1880 Bex                          5402                        VD     2567230.358 1121779.532 fr     8806           79   68   88    104   88    112   115   108   110   120   110    110    126    116    95     119    99     105    90     101    82     96     103    93     107    112    104    109    102    111    111    140    127    114    144    115    154    129    119    121    123    137    115    107    119    115    121    115    98     129    107    87     130    110    102    108    127    107    136    120    109    116    106    116    102    97     97     95     82     66     82     70     60     50     74     66     64     68     65     56     60     54     40     44     39     47     31     31     28     27     23                 3  \n",
       "Frenières-sur-Bex 1880 Bex                          5402                        VD     2571040.657 1121183.948 fr     8806           79   68   88    104   88    112   115   108   110   120   110    110    126    116    95     119    99     105    90     101    82     96     103    93     107    112    104    109    102    111    111    140    127    114    144    115    154    129    119    121    123    137    115    107    119    115    121    115    98     129    107    87     130    110    102    108    127    107    136    120    109    116    106    116    102    97     97     95     82     66     82     70     60     50     74     66     64     68     65     56     60     54     40     44     39     47     31     31     28     27     23                 3  \n",
       "...                                                                                                                                                                                                                                                                                                                                                                                                                                                                                                                                                                                                                                                                                                                                                                                             ...  \n",
       "Villars-Epeney    1404 Villars-Epeney               5935                        VD     2543412.650 1181535.124 fr     108            1    2    2     0     0     3     2     1     2     1     1      3      1      2      4      1      1      1      2      1      2      0      0      0      1      0      0      1      2      1      2      1      1      1      6      2      1      2      1      0      4      2      0      0      2      1      0      0      3      1      0      1      1      2      1      2      1      1      0      3      3      6      0      1      1      3      1      3      1      0      1      0      4      0      0      0      1      1      0      1      0      0      0      0      0      0      0      0      1      0      0                  0  \n",
       "Vugelles-La Mothe 1431 Vugelles-La Mothe            5937                        VD     2534182.487 1186399.984 fr     147            3    1    1     1     3     1     2     1     0     0     2      4      2      2      2      3      4      1      3      1      2      1      1      1      2      0      1      1      1      2      1      0      4      3      2      0      2      5      0      2      1      5      3      0      2      2      1      2      3      2      0      0      4      2      4      5      1      6      4      4      1      1      2      0      3      1      2      2      3      1      1      1      0      2      1      0      0      1      0      0      0      1      0      1      1      0      1      0      2      0      0                  0  \n",
       "Yverdon-les-Bains 1400 Yverdon-les-Bains            5938                        VD     2539180.581 1180801.624 fr     30332          245  307  327   316   288   334   303   348   350   312   368    304    368    358    343    355    340    339    339    367    354    324    341    358    377    396    419    393    431    439    490    472    457    450    431    403    441    432    432    468    433    398    422    411    418    484    442    408    387    406    450    387    411    415    409    386    388    380    356    379    347    352    342    334    302    323    278    276    278    237    252    232    229    230    233    255    234    259    228    203    204    206    178    153    139    136    104    109    93     100    88                 6  \n",
       "Gressy            1432 Yverdon-les-Bains            5938                        VD     2538768.002 1178103.684 fr     30332          245  307  327   316   288   334   303   348   350   312   368    304    368    358    343    355    340    339    339    367    354    324    341    358    377    396    419    393    431    439    490    472    457    450    431    403    441    432    432    468    433    398    422    411    418    484    442    408    387    406    450    387    411    415    409    386    388    380    356    379    347    352    342    334    302    323    278    276    278    237    252    232    229    230    233    255    234    259    228    203    204    206    178    153    139    136    104    109    93     100    88                 6  \n",
       "Yvonand           1462 Yvonand                      5939                        VD     2545972.750 1182253.710 fr     3525           21   30   34    32    43    46    40    33    47    40    45     33     50     50     56     54     36     59     37     33     35     40     28     47     28     37     46     28     37     40     47     37     45     44     57     49     53     37     43     44     39     45     42     46     49     48     59     36     48     50     55     52     53     41     37     50     46     53     45     48     46     57     43     47     45     42     44     33     37     34     27     39     29     29     30     28     26     34     27     30     24     30     20     13     16     16     11     14     12     8      7                  1  \n",
       "\n",
       "[546 rows x 10 columns]"
      ]
     },
     "metadata": {},
     "output_type": "display_data"
    }
   ],
   "source": [
    "repo_url='https://raw.githubusercontent.com/baertsch/MGT-530-SLO/main/'\n",
    "column_names = ['commune', 'NPA', '',\"Commune d'annonce\",\"Commune d'annonce référence\",'canton','E','N', 'langue','date_validite']  # example\n",
    "vaud_cities = pd.read_excel(repo_url+'vaud_communes.xlsx',header=None, names=column_names)\n",
    "display(vaud_cities)"
   ]
  },
  {
   "cell_type": "code",
   "execution_count": 5,
   "metadata": {},
   "outputs": [],
   "source": [
    "coordonnees_venoge = [46.60396069250175, 6.538034286509177]"
   ]
  },
  {
   "cell_type": "code",
   "execution_count": 6,
   "metadata": {},
   "outputs": [],
   "source": [
    "import math\n",
    "# Convert CH y/x to WGS lat\n",
    "def CHtoWGSlat(y, x):\n",
    "    # Axiliary values (% Bern)\n",
    "    y_aux = (y - 600000) / 1000000\n",
    "    x_aux = (x - 200000) / 1000000\n",
    "    lat = (16.9023892 + (3.238272 * x_aux)) + \\\n",
    "            - (0.270978 * pow(y_aux, 2)) + \\\n",
    "            - (0.002528 * pow(x_aux, 2)) + \\\n",
    "            - (0.0447 * pow(y_aux, 2) * x_aux) + \\\n",
    "            - (0.0140 * pow(x_aux, 3))\n",
    "    # Unit 10000\" to 1\" and convert seconds to degrees (dec)\n",
    "    lat = (lat * 100) / 36\n",
    "    return lat\n",
    "\n",
    "        # Convert CH y/x to WGS long\n",
    "def CHtoWGSlng( y, x):\n",
    "    # Axiliary values (% Bern)\n",
    "    y_aux = (y - 600000) / 1000000\n",
    "    x_aux = (x - 200000) / 1000000\n",
    "    lng = (2.6779094 + (4.728982 * y_aux) + \\\n",
    "        + (0.791484 * y_aux * x_aux) + \\\n",
    "        + (0.1306 * y_aux * pow(x_aux, 2))) + \\\n",
    "        - (0.0436 * pow(y_aux, 3))\n",
    "    # Unit 10000\" to 1\" and convert seconds to degrees (dec)\n",
    "    lng = (lng * 100) / 36\n",
    "    return lng"
   ]
  },
  {
   "cell_type": "code",
   "execution_count": 7,
   "metadata": {},
   "outputs": [
    {
     "ename": "KeyError",
     "evalue": "'E_lv03'",
     "output_type": "error",
     "traceback": [
      "\u001b[0;31m---------------------------------------------------------------------------\u001b[0m",
      "\u001b[0;31mKeyError\u001b[0m                                  Traceback (most recent call last)",
      "File \u001b[0;32m~/anaconda3/lib/python3.11/site-packages/pandas/core/indexes/base.py:3653\u001b[0m, in \u001b[0;36mIndex.get_loc\u001b[0;34m(self, key)\u001b[0m\n\u001b[1;32m   3652\u001b[0m \u001b[38;5;28;01mtry\u001b[39;00m:\n\u001b[0;32m-> 3653\u001b[0m     \u001b[38;5;28;01mreturn\u001b[39;00m \u001b[38;5;28mself\u001b[39m\u001b[38;5;241m.\u001b[39m_engine\u001b[38;5;241m.\u001b[39mget_loc(casted_key)\n\u001b[1;32m   3654\u001b[0m \u001b[38;5;28;01mexcept\u001b[39;00m \u001b[38;5;167;01mKeyError\u001b[39;00m \u001b[38;5;28;01mas\u001b[39;00m err:\n",
      "File \u001b[0;32m~/anaconda3/lib/python3.11/site-packages/pandas/_libs/index.pyx:147\u001b[0m, in \u001b[0;36mpandas._libs.index.IndexEngine.get_loc\u001b[0;34m()\u001b[0m\n",
      "File \u001b[0;32m~/anaconda3/lib/python3.11/site-packages/pandas/_libs/index.pyx:176\u001b[0m, in \u001b[0;36mpandas._libs.index.IndexEngine.get_loc\u001b[0;34m()\u001b[0m\n",
      "File \u001b[0;32mpandas/_libs/hashtable_class_helper.pxi:7080\u001b[0m, in \u001b[0;36mpandas._libs.hashtable.PyObjectHashTable.get_item\u001b[0;34m()\u001b[0m\n",
      "File \u001b[0;32mpandas/_libs/hashtable_class_helper.pxi:7088\u001b[0m, in \u001b[0;36mpandas._libs.hashtable.PyObjectHashTable.get_item\u001b[0;34m()\u001b[0m\n",
      "\u001b[0;31mKeyError\u001b[0m: 'E_lv03'",
      "\nThe above exception was the direct cause of the following exception:\n",
      "\u001b[0;31mKeyError\u001b[0m                                  Traceback (most recent call last)",
      "Cell \u001b[0;32mIn[7], line 1\u001b[0m\n\u001b[0;32m----> 1\u001b[0m vaud_cities[\u001b[38;5;124m'\u001b[39m\u001b[38;5;124mlat\u001b[39m\u001b[38;5;124m'\u001b[39m] \u001b[38;5;241m=\u001b[39m vaud_cities\u001b[38;5;241m.\u001b[39mapply(\u001b[38;5;28;01mlambda\u001b[39;00m x: CHtoWGSlat(x[\u001b[38;5;124m'\u001b[39m\u001b[38;5;124mE_lv03\u001b[39m\u001b[38;5;124m'\u001b[39m], x[\u001b[38;5;124m'\u001b[39m\u001b[38;5;124mN_lv03\u001b[39m\u001b[38;5;124m'\u001b[39m]), axis\u001b[38;5;241m=\u001b[39m\u001b[38;5;241m1\u001b[39m)\n\u001b[1;32m      2\u001b[0m vaud_cities[\u001b[38;5;124m'\u001b[39m\u001b[38;5;124mlng\u001b[39m\u001b[38;5;124m'\u001b[39m] \u001b[38;5;241m=\u001b[39m vaud_cities\u001b[38;5;241m.\u001b[39mapply(\u001b[38;5;28;01mlambda\u001b[39;00m x: CHtoWGSlng(x[\u001b[38;5;124m'\u001b[39m\u001b[38;5;124mE_lv03\u001b[39m\u001b[38;5;124m'\u001b[39m], x[\u001b[38;5;124m'\u001b[39m\u001b[38;5;124mN_lv03\u001b[39m\u001b[38;5;124m'\u001b[39m]), axis\u001b[38;5;241m=\u001b[39m\u001b[38;5;241m1\u001b[39m)\n",
      "File \u001b[0;32m~/anaconda3/lib/python3.11/site-packages/pandas/core/frame.py:9423\u001b[0m, in \u001b[0;36mDataFrame.apply\u001b[0;34m(self, func, axis, raw, result_type, args, **kwargs)\u001b[0m\n\u001b[1;32m   9412\u001b[0m \u001b[38;5;28;01mfrom\u001b[39;00m \u001b[38;5;21;01mpandas\u001b[39;00m\u001b[38;5;21;01m.\u001b[39;00m\u001b[38;5;21;01mcore\u001b[39;00m\u001b[38;5;21;01m.\u001b[39;00m\u001b[38;5;21;01mapply\u001b[39;00m \u001b[38;5;28;01mimport\u001b[39;00m frame_apply\n\u001b[1;32m   9414\u001b[0m op \u001b[38;5;241m=\u001b[39m frame_apply(\n\u001b[1;32m   9415\u001b[0m     \u001b[38;5;28mself\u001b[39m,\n\u001b[1;32m   9416\u001b[0m     func\u001b[38;5;241m=\u001b[39mfunc,\n\u001b[0;32m   (...)\u001b[0m\n\u001b[1;32m   9421\u001b[0m     kwargs\u001b[38;5;241m=\u001b[39mkwargs,\n\u001b[1;32m   9422\u001b[0m )\n\u001b[0;32m-> 9423\u001b[0m \u001b[38;5;28;01mreturn\u001b[39;00m op\u001b[38;5;241m.\u001b[39mapply()\u001b[38;5;241m.\u001b[39m__finalize__(\u001b[38;5;28mself\u001b[39m, method\u001b[38;5;241m=\u001b[39m\u001b[38;5;124m\"\u001b[39m\u001b[38;5;124mapply\u001b[39m\u001b[38;5;124m\"\u001b[39m)\n",
      "File \u001b[0;32m~/anaconda3/lib/python3.11/site-packages/pandas/core/apply.py:678\u001b[0m, in \u001b[0;36mFrameApply.apply\u001b[0;34m(self)\u001b[0m\n\u001b[1;32m    675\u001b[0m \u001b[38;5;28;01melif\u001b[39;00m \u001b[38;5;28mself\u001b[39m\u001b[38;5;241m.\u001b[39mraw:\n\u001b[1;32m    676\u001b[0m     \u001b[38;5;28;01mreturn\u001b[39;00m \u001b[38;5;28mself\u001b[39m\u001b[38;5;241m.\u001b[39mapply_raw()\n\u001b[0;32m--> 678\u001b[0m \u001b[38;5;28;01mreturn\u001b[39;00m \u001b[38;5;28mself\u001b[39m\u001b[38;5;241m.\u001b[39mapply_standard()\n",
      "File \u001b[0;32m~/anaconda3/lib/python3.11/site-packages/pandas/core/apply.py:798\u001b[0m, in \u001b[0;36mFrameApply.apply_standard\u001b[0;34m(self)\u001b[0m\n\u001b[1;32m    797\u001b[0m \u001b[38;5;28;01mdef\u001b[39;00m \u001b[38;5;21mapply_standard\u001b[39m(\u001b[38;5;28mself\u001b[39m):\n\u001b[0;32m--> 798\u001b[0m     results, res_index \u001b[38;5;241m=\u001b[39m \u001b[38;5;28mself\u001b[39m\u001b[38;5;241m.\u001b[39mapply_series_generator()\n\u001b[1;32m    800\u001b[0m     \u001b[38;5;66;03m# wrap results\u001b[39;00m\n\u001b[1;32m    801\u001b[0m     \u001b[38;5;28;01mreturn\u001b[39;00m \u001b[38;5;28mself\u001b[39m\u001b[38;5;241m.\u001b[39mwrap_results(results, res_index)\n",
      "File \u001b[0;32m~/anaconda3/lib/python3.11/site-packages/pandas/core/apply.py:814\u001b[0m, in \u001b[0;36mFrameApply.apply_series_generator\u001b[0;34m(self)\u001b[0m\n\u001b[1;32m    811\u001b[0m \u001b[38;5;28;01mwith\u001b[39;00m option_context(\u001b[38;5;124m\"\u001b[39m\u001b[38;5;124mmode.chained_assignment\u001b[39m\u001b[38;5;124m\"\u001b[39m, \u001b[38;5;28;01mNone\u001b[39;00m):\n\u001b[1;32m    812\u001b[0m     \u001b[38;5;28;01mfor\u001b[39;00m i, v \u001b[38;5;129;01min\u001b[39;00m \u001b[38;5;28menumerate\u001b[39m(series_gen):\n\u001b[1;32m    813\u001b[0m         \u001b[38;5;66;03m# ignore SettingWithCopy here in case the user mutates\u001b[39;00m\n\u001b[0;32m--> 814\u001b[0m         results[i] \u001b[38;5;241m=\u001b[39m \u001b[38;5;28mself\u001b[39m\u001b[38;5;241m.\u001b[39mf(v)\n\u001b[1;32m    815\u001b[0m         \u001b[38;5;28;01mif\u001b[39;00m \u001b[38;5;28misinstance\u001b[39m(results[i], ABCSeries):\n\u001b[1;32m    816\u001b[0m             \u001b[38;5;66;03m# If we have a view on v, we need to make a copy because\u001b[39;00m\n\u001b[1;32m    817\u001b[0m             \u001b[38;5;66;03m#  series_generator will swap out the underlying data\u001b[39;00m\n\u001b[1;32m    818\u001b[0m             results[i] \u001b[38;5;241m=\u001b[39m results[i]\u001b[38;5;241m.\u001b[39mcopy(deep\u001b[38;5;241m=\u001b[39m\u001b[38;5;28;01mFalse\u001b[39;00m)\n",
      "Cell \u001b[0;32mIn[7], line 1\u001b[0m, in \u001b[0;36m<lambda>\u001b[0;34m(x)\u001b[0m\n\u001b[0;32m----> 1\u001b[0m vaud_cities[\u001b[38;5;124m'\u001b[39m\u001b[38;5;124mlat\u001b[39m\u001b[38;5;124m'\u001b[39m] \u001b[38;5;241m=\u001b[39m vaud_cities\u001b[38;5;241m.\u001b[39mapply(\u001b[38;5;28;01mlambda\u001b[39;00m x: CHtoWGSlat(x[\u001b[38;5;124m'\u001b[39m\u001b[38;5;124mE_lv03\u001b[39m\u001b[38;5;124m'\u001b[39m], x[\u001b[38;5;124m'\u001b[39m\u001b[38;5;124mN_lv03\u001b[39m\u001b[38;5;124m'\u001b[39m]), axis\u001b[38;5;241m=\u001b[39m\u001b[38;5;241m1\u001b[39m)\n\u001b[1;32m      2\u001b[0m vaud_cities[\u001b[38;5;124m'\u001b[39m\u001b[38;5;124mlng\u001b[39m\u001b[38;5;124m'\u001b[39m] \u001b[38;5;241m=\u001b[39m vaud_cities\u001b[38;5;241m.\u001b[39mapply(\u001b[38;5;28;01mlambda\u001b[39;00m x: CHtoWGSlng(x[\u001b[38;5;124m'\u001b[39m\u001b[38;5;124mE_lv03\u001b[39m\u001b[38;5;124m'\u001b[39m], x[\u001b[38;5;124m'\u001b[39m\u001b[38;5;124mN_lv03\u001b[39m\u001b[38;5;124m'\u001b[39m]), axis\u001b[38;5;241m=\u001b[39m\u001b[38;5;241m1\u001b[39m)\n",
      "File \u001b[0;32m~/anaconda3/lib/python3.11/site-packages/pandas/core/series.py:1007\u001b[0m, in \u001b[0;36mSeries.__getitem__\u001b[0;34m(self, key)\u001b[0m\n\u001b[1;32m   1004\u001b[0m     \u001b[38;5;28;01mreturn\u001b[39;00m \u001b[38;5;28mself\u001b[39m\u001b[38;5;241m.\u001b[39m_values[key]\n\u001b[1;32m   1006\u001b[0m \u001b[38;5;28;01melif\u001b[39;00m key_is_scalar:\n\u001b[0;32m-> 1007\u001b[0m     \u001b[38;5;28;01mreturn\u001b[39;00m \u001b[38;5;28mself\u001b[39m\u001b[38;5;241m.\u001b[39m_get_value(key)\n\u001b[1;32m   1009\u001b[0m \u001b[38;5;28;01mif\u001b[39;00m is_hashable(key):\n\u001b[1;32m   1010\u001b[0m     \u001b[38;5;66;03m# Otherwise index.get_value will raise InvalidIndexError\u001b[39;00m\n\u001b[1;32m   1011\u001b[0m     \u001b[38;5;28;01mtry\u001b[39;00m:\n\u001b[1;32m   1012\u001b[0m         \u001b[38;5;66;03m# For labels that don't resolve as scalars like tuples and frozensets\u001b[39;00m\n",
      "File \u001b[0;32m~/anaconda3/lib/python3.11/site-packages/pandas/core/series.py:1116\u001b[0m, in \u001b[0;36mSeries._get_value\u001b[0;34m(self, label, takeable)\u001b[0m\n\u001b[1;32m   1113\u001b[0m     \u001b[38;5;28;01mreturn\u001b[39;00m \u001b[38;5;28mself\u001b[39m\u001b[38;5;241m.\u001b[39m_values[label]\n\u001b[1;32m   1115\u001b[0m \u001b[38;5;66;03m# Similar to Index.get_value, but we do not fall back to positional\u001b[39;00m\n\u001b[0;32m-> 1116\u001b[0m loc \u001b[38;5;241m=\u001b[39m \u001b[38;5;28mself\u001b[39m\u001b[38;5;241m.\u001b[39mindex\u001b[38;5;241m.\u001b[39mget_loc(label)\n\u001b[1;32m   1118\u001b[0m \u001b[38;5;28;01mif\u001b[39;00m is_integer(loc):\n\u001b[1;32m   1119\u001b[0m     \u001b[38;5;28;01mreturn\u001b[39;00m \u001b[38;5;28mself\u001b[39m\u001b[38;5;241m.\u001b[39m_values[loc]\n",
      "File \u001b[0;32m~/anaconda3/lib/python3.11/site-packages/pandas/core/indexes/base.py:3655\u001b[0m, in \u001b[0;36mIndex.get_loc\u001b[0;34m(self, key)\u001b[0m\n\u001b[1;32m   3653\u001b[0m     \u001b[38;5;28;01mreturn\u001b[39;00m \u001b[38;5;28mself\u001b[39m\u001b[38;5;241m.\u001b[39m_engine\u001b[38;5;241m.\u001b[39mget_loc(casted_key)\n\u001b[1;32m   3654\u001b[0m \u001b[38;5;28;01mexcept\u001b[39;00m \u001b[38;5;167;01mKeyError\u001b[39;00m \u001b[38;5;28;01mas\u001b[39;00m err:\n\u001b[0;32m-> 3655\u001b[0m     \u001b[38;5;28;01mraise\u001b[39;00m \u001b[38;5;167;01mKeyError\u001b[39;00m(key) \u001b[38;5;28;01mfrom\u001b[39;00m \u001b[38;5;21;01merr\u001b[39;00m\n\u001b[1;32m   3656\u001b[0m \u001b[38;5;28;01mexcept\u001b[39;00m \u001b[38;5;167;01mTypeError\u001b[39;00m:\n\u001b[1;32m   3657\u001b[0m     \u001b[38;5;66;03m# If we have a listlike key, _check_indexing_error will raise\u001b[39;00m\n\u001b[1;32m   3658\u001b[0m     \u001b[38;5;66;03m#  InvalidIndexError. Otherwise we fall through and re-raise\u001b[39;00m\n\u001b[1;32m   3659\u001b[0m     \u001b[38;5;66;03m#  the TypeError.\u001b[39;00m\n\u001b[1;32m   3660\u001b[0m     \u001b[38;5;28mself\u001b[39m\u001b[38;5;241m.\u001b[39m_check_indexing_error(key)\n",
      "\u001b[0;31mKeyError\u001b[0m: 'E_lv03'"
     ]
    }
   ],
   "source": [
    "vaud_cities['lat'] = vaud_cities.apply(lambda x: CHtoWGSlat(x['E_lv03'], x['N_lv03']), axis=1)\n",
    "vaud_cities['lng'] = vaud_cities.apply(lambda x: CHtoWGSlng(x['E_lv03'], x['N_lv03']), axis=1)\n"
   ]
  },
  {
   "cell_type": "code",
   "execution_count": null,
   "metadata": {},
   "outputs": [],
   "source": [
    "vaud_cities['E_lv03'] = vaud_cities['E']-2000000\n",
    "vaud_cities['N_lv03'] = vaud_cities['N']-1000000"
   ]
  },
  {
   "cell_type": "code",
   "execution_count": null,
   "metadata": {},
   "outputs": [
    {
     "data": {
      "text/html": [
       "<div>\n",
       "<style scoped>\n",
       "    .dataframe tbody tr th:only-of-type {\n",
       "        vertical-align: middle;\n",
       "    }\n",
       "\n",
       "    .dataframe tbody tr th {\n",
       "        vertical-align: top;\n",
       "    }\n",
       "\n",
       "    .dataframe thead th {\n",
       "        text-align: right;\n",
       "    }\n",
       "</style>\n",
       "<table border=\"1\" class=\"dataframe\">\n",
       "  <thead>\n",
       "    <tr style=\"text-align: right;\">\n",
       "      <th></th>\n",
       "      <th>commune</th>\n",
       "      <th>NPA</th>\n",
       "      <th></th>\n",
       "      <th>Commune d'annonce</th>\n",
       "      <th>Commune d'annonce référence</th>\n",
       "      <th>canton</th>\n",
       "      <th>E</th>\n",
       "      <th>N</th>\n",
       "      <th>langue</th>\n",
       "      <th>date_validite</th>\n",
       "      <th>lat</th>\n",
       "      <th>lng</th>\n",
       "      <th>E_lv03</th>\n",
       "      <th>N_lv03</th>\n",
       "    </tr>\n",
       "  </thead>\n",
       "  <tbody>\n",
       "    <tr>\n",
       "      <th>0</th>\n",
       "      <td>Aigle</td>\n",
       "      <td>1860</td>\n",
       "      <td>0</td>\n",
       "      <td>Aigle</td>\n",
       "      <td>5401</td>\n",
       "      <td>VD</td>\n",
       "      <td>2563821.020</td>\n",
       "      <td>1129273.277</td>\n",
       "      <td>fr</td>\n",
       "      <td>2008-07-01</td>\n",
       "      <td>46.313885</td>\n",
       "      <td>6.968954</td>\n",
       "      <td>563821.020</td>\n",
       "      <td>129273.277</td>\n",
       "    </tr>\n",
       "    <tr>\n",
       "      <th>1</th>\n",
       "      <td>Le Sépey</td>\n",
       "      <td>1863</td>\n",
       "      <td>0</td>\n",
       "      <td>Aigle</td>\n",
       "      <td>5401</td>\n",
       "      <td>VD</td>\n",
       "      <td>2568544.893</td>\n",
       "      <td>1131955.818</td>\n",
       "      <td>fr</td>\n",
       "      <td>2008-07-01</td>\n",
       "      <td>46.338253</td>\n",
       "      <td>7.030098</td>\n",
       "      <td>568544.893</td>\n",
       "      <td>131955.818</td>\n",
       "    </tr>\n",
       "    <tr>\n",
       "      <th>2</th>\n",
       "      <td>Bex</td>\n",
       "      <td>1880</td>\n",
       "      <td>0</td>\n",
       "      <td>Bex</td>\n",
       "      <td>5402</td>\n",
       "      <td>VD</td>\n",
       "      <td>2567230.358</td>\n",
       "      <td>1121779.532</td>\n",
       "      <td>fr</td>\n",
       "      <td>2008-07-01</td>\n",
       "      <td>46.246650</td>\n",
       "      <td>7.013740</td>\n",
       "      <td>567230.358</td>\n",
       "      <td>121779.532</td>\n",
       "    </tr>\n",
       "    <tr>\n",
       "      <th>3</th>\n",
       "      <td>Frenières-sur-Bex</td>\n",
       "      <td>1880</td>\n",
       "      <td>2</td>\n",
       "      <td>Bex</td>\n",
       "      <td>5402</td>\n",
       "      <td>VD</td>\n",
       "      <td>2571040.657</td>\n",
       "      <td>1121183.948</td>\n",
       "      <td>fr</td>\n",
       "      <td>2008-07-01</td>\n",
       "      <td>46.241467</td>\n",
       "      <td>7.063181</td>\n",
       "      <td>571040.657</td>\n",
       "      <td>121183.948</td>\n",
       "    </tr>\n",
       "    <tr>\n",
       "      <th>4</th>\n",
       "      <td>Fenalet-sur-Bex</td>\n",
       "      <td>1880</td>\n",
       "      <td>3</td>\n",
       "      <td>Bex</td>\n",
       "      <td>5402</td>\n",
       "      <td>VD</td>\n",
       "      <td>2568662.358</td>\n",
       "      <td>1125041.373</td>\n",
       "      <td>fr</td>\n",
       "      <td>2008-07-01</td>\n",
       "      <td>46.276060</td>\n",
       "      <td>7.032088</td>\n",
       "      <td>568662.358</td>\n",
       "      <td>125041.373</td>\n",
       "    </tr>\n",
       "    <tr>\n",
       "      <th>...</th>\n",
       "      <td>...</td>\n",
       "      <td>...</td>\n",
       "      <td>...</td>\n",
       "      <td>...</td>\n",
       "      <td>...</td>\n",
       "      <td>...</td>\n",
       "      <td>...</td>\n",
       "      <td>...</td>\n",
       "      <td>...</td>\n",
       "      <td>...</td>\n",
       "      <td>...</td>\n",
       "      <td>...</td>\n",
       "      <td>...</td>\n",
       "      <td>...</td>\n",
       "    </tr>\n",
       "    <tr>\n",
       "      <th>540</th>\n",
       "      <td>Villars-Epeney</td>\n",
       "      <td>1404</td>\n",
       "      <td>2</td>\n",
       "      <td>Villars-Epeney</td>\n",
       "      <td>5935</td>\n",
       "      <td>VD</td>\n",
       "      <td>2543412.650</td>\n",
       "      <td>1181535.124</td>\n",
       "      <td>fr</td>\n",
       "      <td>2008-07-01</td>\n",
       "      <td>46.782581</td>\n",
       "      <td>6.697615</td>\n",
       "      <td>543412.650</td>\n",
       "      <td>181535.124</td>\n",
       "    </tr>\n",
       "    <tr>\n",
       "      <th>541</th>\n",
       "      <td>Vugelles-La Mothe</td>\n",
       "      <td>1431</td>\n",
       "      <td>0</td>\n",
       "      <td>Vugelles-La Mothe</td>\n",
       "      <td>5937</td>\n",
       "      <td>VD</td>\n",
       "      <td>2534182.487</td>\n",
       "      <td>1186399.984</td>\n",
       "      <td>fr</td>\n",
       "      <td>2008-07-01</td>\n",
       "      <td>46.825492</td>\n",
       "      <td>6.576052</td>\n",
       "      <td>534182.487</td>\n",
       "      <td>186399.984</td>\n",
       "    </tr>\n",
       "    <tr>\n",
       "      <th>542</th>\n",
       "      <td>Yverdon-les-Bains</td>\n",
       "      <td>1400</td>\n",
       "      <td>0</td>\n",
       "      <td>Yverdon-les-Bains</td>\n",
       "      <td>5938</td>\n",
       "      <td>VD</td>\n",
       "      <td>2539180.581</td>\n",
       "      <td>1180801.624</td>\n",
       "      <td>fr</td>\n",
       "      <td>2008-07-01</td>\n",
       "      <td>46.775610</td>\n",
       "      <td>6.642296</td>\n",
       "      <td>539180.581</td>\n",
       "      <td>180801.624</td>\n",
       "    </tr>\n",
       "    <tr>\n",
       "      <th>543</th>\n",
       "      <td>Gressy</td>\n",
       "      <td>1432</td>\n",
       "      <td>2</td>\n",
       "      <td>Yverdon-les-Bains</td>\n",
       "      <td>5938</td>\n",
       "      <td>VD</td>\n",
       "      <td>2538768.002</td>\n",
       "      <td>1178103.684</td>\n",
       "      <td>fr</td>\n",
       "      <td>2008-07-01</td>\n",
       "      <td>46.751304</td>\n",
       "      <td>6.637255</td>\n",
       "      <td>538768.002</td>\n",
       "      <td>178103.684</td>\n",
       "    </tr>\n",
       "    <tr>\n",
       "      <th>544</th>\n",
       "      <td>Yvonand</td>\n",
       "      <td>1462</td>\n",
       "      <td>0</td>\n",
       "      <td>Yvonand</td>\n",
       "      <td>5939</td>\n",
       "      <td>VD</td>\n",
       "      <td>2545972.750</td>\n",
       "      <td>1182253.710</td>\n",
       "      <td>fr</td>\n",
       "      <td>2008-07-01</td>\n",
       "      <td>46.789257</td>\n",
       "      <td>6.731053</td>\n",
       "      <td>545972.750</td>\n",
       "      <td>182253.710</td>\n",
       "    </tr>\n",
       "  </tbody>\n",
       "</table>\n",
       "<p>545 rows × 14 columns</p>\n",
       "</div>"
      ],
      "text/plain": [
       "               commune   NPA     Commune d'annonce  \\\n",
       "0                Aigle  1860  0              Aigle   \n",
       "1             Le Sépey  1863  0              Aigle   \n",
       "2                  Bex  1880  0                Bex   \n",
       "3    Frenières-sur-Bex  1880  2                Bex   \n",
       "4      Fenalet-sur-Bex  1880  3                Bex   \n",
       "..                 ...   ... ..                ...   \n",
       "540     Villars-Epeney  1404  2     Villars-Epeney   \n",
       "541  Vugelles-La Mothe  1431  0  Vugelles-La Mothe   \n",
       "542  Yverdon-les-Bains  1400  0  Yverdon-les-Bains   \n",
       "543             Gressy  1432  2  Yverdon-les-Bains   \n",
       "544            Yvonand  1462  0            Yvonand   \n",
       "\n",
       "     Commune d'annonce référence canton            E            N langue  \\\n",
       "0                           5401     VD  2563821.020  1129273.277     fr   \n",
       "1                           5401     VD  2568544.893  1131955.818     fr   \n",
       "2                           5402     VD  2567230.358  1121779.532     fr   \n",
       "3                           5402     VD  2571040.657  1121183.948     fr   \n",
       "4                           5402     VD  2568662.358  1125041.373     fr   \n",
       "..                           ...    ...          ...          ...    ...   \n",
       "540                         5935     VD  2543412.650  1181535.124     fr   \n",
       "541                         5937     VD  2534182.487  1186399.984     fr   \n",
       "542                         5938     VD  2539180.581  1180801.624     fr   \n",
       "543                         5938     VD  2538768.002  1178103.684     fr   \n",
       "544                         5939     VD  2545972.750  1182253.710     fr   \n",
       "\n",
       "    date_validite        lat       lng      E_lv03      N_lv03  \n",
       "0      2008-07-01  46.313885  6.968954  563821.020  129273.277  \n",
       "1      2008-07-01  46.338253  7.030098  568544.893  131955.818  \n",
       "2      2008-07-01  46.246650  7.013740  567230.358  121779.532  \n",
       "3      2008-07-01  46.241467  7.063181  571040.657  121183.948  \n",
       "4      2008-07-01  46.276060  7.032088  568662.358  125041.373  \n",
       "..            ...        ...       ...         ...         ...  \n",
       "540    2008-07-01  46.782581  6.697615  543412.650  181535.124  \n",
       "541    2008-07-01  46.825492  6.576052  534182.487  186399.984  \n",
       "542    2008-07-01  46.775610  6.642296  539180.581  180801.624  \n",
       "543    2008-07-01  46.751304  6.637255  538768.002  178103.684  \n",
       "544    2008-07-01  46.789257  6.731053  545972.750  182253.710  \n",
       "\n",
       "[545 rows x 14 columns]"
      ]
     },
     "execution_count": 24,
     "metadata": {},
     "output_type": "execute_result"
    }
   ],
   "source": [
    "vaud_cities"
   ]
  },
  {
   "cell_type": "code",
   "execution_count": null,
   "metadata": {},
   "outputs": [],
   "source": [
    "vaud_cities['distance_to_venoge_km'] = None"
   ]
  },
  {
   "cell_type": "code",
   "execution_count": null,
   "metadata": {},
   "outputs": [
    {
     "name": "stdout",
     "output_type": "stream",
     "text": [
      "6.968953748717655,46.31388497394788\n"
     ]
    }
   ],
   "source": [
    "city=f\"{vaud_cities[vaud_cities['commune'] == 'Aigle']['lng'].iloc[0]},{vaud_cities[vaud_cities['commune'] == 'Aigle']['lat'].iloc[0]}\"\n",
    "print(city)"
   ]
  },
  {
   "cell_type": "code",
   "execution_count": null,
   "metadata": {},
   "outputs": [
    {
     "ename": "ApiError",
     "evalue": "404 ({'error': {'code': 2010, 'message': 'Could not find routable point within a radius of 350.0 meters of specified coordinate 0: 46.3138840 6.9689530.; Could not find routable point within a radius of 350.0 meters of specified coordinate 1: 46.6031420 6.5367834.'}, 'info': {'engine': {'build_date': '2025-04-10T21:25:30Z', 'graph_version': '1', 'version': '9.1.2'}, 'timestamp': 1746460310616}})",
     "output_type": "error",
     "traceback": [
      "\u001b[0;31m---------------------------------------------------------------------------\u001b[0m",
      "\u001b[0;31mApiError\u001b[0m                                  Traceback (most recent call last)",
      "Cell \u001b[0;32mIn[22], line 3\u001b[0m\n\u001b[1;32m      1\u001b[0m \u001b[38;5;28;01mimport\u001b[39;00m \u001b[38;5;21;01mopenrouteservice\u001b[39;00m \u001b[38;5;28;01mas\u001b[39;00m \u001b[38;5;21;01mors\u001b[39;00m\n\u001b[1;32m      2\u001b[0m client \u001b[38;5;241m=\u001b[39m ors\u001b[38;5;241m.\u001b[39mClient(key\u001b[38;5;241m=\u001b[39mAPI_key)\n\u001b[0;32m----> 3\u001b[0m route \u001b[38;5;241m=\u001b[39m client\u001b[38;5;241m.\u001b[39mdirections(\n\u001b[1;32m      4\u001b[0m     profile\u001b[38;5;241m=\u001b[39m\u001b[38;5;124m'\u001b[39m\u001b[38;5;124mdriving-car\u001b[39m\u001b[38;5;124m'\u001b[39m,\n\u001b[1;32m      5\u001b[0m     \u001b[38;5;28mformat\u001b[39m\u001b[38;5;241m=\u001b[39m\u001b[38;5;124m'\u001b[39m\u001b[38;5;124mgeojson\u001b[39m\u001b[38;5;124m'\u001b[39m,\n\u001b[1;32m      6\u001b[0m     coordinates\u001b[38;5;241m=\u001b[39m[[\u001b[38;5;241m46.313884\u001b[39m, \u001b[38;5;241m6.968953\u001b[39m],[\u001b[38;5;241m46.60314203414339\u001b[39m, \u001b[38;5;241m6.5367833784414175\u001b[39m]]\n\u001b[1;32m      7\u001b[0m )\n\u001b[1;32m      8\u001b[0m \u001b[38;5;28mprint\u001b[39m(route)\n\u001b[1;32m      9\u001b[0m \u001b[38;5;28mprint\u001b[39m(route[\u001b[38;5;124m'\u001b[39m\u001b[38;5;124mfeatures\u001b[39m\u001b[38;5;124m'\u001b[39m][\u001b[38;5;241m0\u001b[39m][\u001b[38;5;124m'\u001b[39m\u001b[38;5;124mproperties\u001b[39m\u001b[38;5;124m'\u001b[39m][\u001b[38;5;124m'\u001b[39m\u001b[38;5;124msegments\u001b[39m\u001b[38;5;124m'\u001b[39m][\u001b[38;5;241m0\u001b[39m][\u001b[38;5;124m'\u001b[39m\u001b[38;5;124mdistance\u001b[39m\u001b[38;5;124m'\u001b[39m])\n",
      "File \u001b[0;32m~/anaconda3/lib/python3.11/site-packages/openrouteservice/client.py:299\u001b[0m, in \u001b[0;36m_make_api_method.<locals>.wrapper\u001b[0;34m(*args, **kwargs)\u001b[0m\n\u001b[1;32m    296\u001b[0m \u001b[38;5;129m@functools\u001b[39m\u001b[38;5;241m.\u001b[39mwraps(func)\n\u001b[1;32m    297\u001b[0m \u001b[38;5;28;01mdef\u001b[39;00m \u001b[38;5;21mwrapper\u001b[39m(\u001b[38;5;241m*\u001b[39margs, \u001b[38;5;241m*\u001b[39m\u001b[38;5;241m*\u001b[39mkwargs):\n\u001b[1;32m    298\u001b[0m     args[\u001b[38;5;241m0\u001b[39m]\u001b[38;5;241m.\u001b[39m_extra_params \u001b[38;5;241m=\u001b[39m kwargs\u001b[38;5;241m.\u001b[39mpop(\u001b[38;5;124m\"\u001b[39m\u001b[38;5;124mextra_params\u001b[39m\u001b[38;5;124m\"\u001b[39m, \u001b[38;5;28;01mNone\u001b[39;00m)\n\u001b[0;32m--> 299\u001b[0m     result \u001b[38;5;241m=\u001b[39m func(\u001b[38;5;241m*\u001b[39margs, \u001b[38;5;241m*\u001b[39m\u001b[38;5;241m*\u001b[39mkwargs)\n\u001b[1;32m    300\u001b[0m     \u001b[38;5;28;01mtry\u001b[39;00m:\n\u001b[1;32m    301\u001b[0m         \u001b[38;5;28;01mdel\u001b[39;00m args[\u001b[38;5;241m0\u001b[39m]\u001b[38;5;241m.\u001b[39m_extra_params\n",
      "File \u001b[0;32m~/anaconda3/lib/python3.11/site-packages/openrouteservice/directions.py:281\u001b[0m, in \u001b[0;36mdirections\u001b[0;34m(client, coordinates, profile, format_out, format, preference, units, language, geometry, geometry_simplify, instructions, instructions_format, alternative_routes, roundabout_exits, attributes, maneuvers, radiuses, bearings, skip_segments, continue_straight, elevation, extra_info, suppress_warnings, optimized, optimize_waypoints, options, validate, dry_run)\u001b[0m\n\u001b[1;32m    278\u001b[0m \u001b[38;5;28;01mif\u001b[39;00m options:\n\u001b[1;32m    279\u001b[0m     params[\u001b[38;5;124m'\u001b[39m\u001b[38;5;124moptions\u001b[39m\u001b[38;5;124m'\u001b[39m] \u001b[38;5;241m=\u001b[39m options\n\u001b[0;32m--> 281\u001b[0m \u001b[38;5;28;01mreturn\u001b[39;00m client\u001b[38;5;241m.\u001b[39mrequest(\u001b[38;5;124m\"\u001b[39m\u001b[38;5;124m/v2/directions/\u001b[39m\u001b[38;5;124m\"\u001b[39m \u001b[38;5;241m+\u001b[39m profile \u001b[38;5;241m+\u001b[39m \u001b[38;5;124m'\u001b[39m\u001b[38;5;124m/\u001b[39m\u001b[38;5;124m'\u001b[39m \u001b[38;5;241m+\u001b[39m \u001b[38;5;28mformat\u001b[39m, {}, post_json\u001b[38;5;241m=\u001b[39mparams, dry_run\u001b[38;5;241m=\u001b[39mdry_run)\n",
      "File \u001b[0;32m~/anaconda3/lib/python3.11/site-packages/openrouteservice/client.py:204\u001b[0m, in \u001b[0;36mClient.request\u001b[0;34m(self, url, get_params, first_request_time, retry_counter, requests_kwargs, post_json, dry_run)\u001b[0m\n\u001b[1;32m    200\u001b[0m     \u001b[38;5;28;01mreturn\u001b[39;00m \u001b[38;5;28mself\u001b[39m\u001b[38;5;241m.\u001b[39mrequest(url, get_params, first_request_time,\n\u001b[1;32m    201\u001b[0m                         retry_counter \u001b[38;5;241m+\u001b[39m \u001b[38;5;241m1\u001b[39m, requests_kwargs, post_json)\n\u001b[1;32m    203\u001b[0m \u001b[38;5;28;01mtry\u001b[39;00m:\n\u001b[0;32m--> 204\u001b[0m     result \u001b[38;5;241m=\u001b[39m \u001b[38;5;28mself\u001b[39m\u001b[38;5;241m.\u001b[39m_get_body(response)\n\u001b[1;32m    206\u001b[0m     \u001b[38;5;28;01mreturn\u001b[39;00m result\n\u001b[1;32m    207\u001b[0m \u001b[38;5;28;01mexcept\u001b[39;00m exceptions\u001b[38;5;241m.\u001b[39m_RetriableRequest \u001b[38;5;28;01mas\u001b[39;00m e:\n",
      "File \u001b[0;32m~/anaconda3/lib/python3.11/site-packages/openrouteservice/client.py:242\u001b[0m, in \u001b[0;36mClient._get_body\u001b[0;34m(response)\u001b[0m\n\u001b[1;32m    237\u001b[0m     \u001b[38;5;28;01mraise\u001b[39;00m exceptions\u001b[38;5;241m.\u001b[39m_OverQueryLimit(\n\u001b[1;32m    238\u001b[0m         status_code,\n\u001b[1;32m    239\u001b[0m         body\n\u001b[1;32m    240\u001b[0m     )\n\u001b[1;32m    241\u001b[0m \u001b[38;5;28;01mif\u001b[39;00m status_code \u001b[38;5;241m!=\u001b[39m \u001b[38;5;241m200\u001b[39m:\n\u001b[0;32m--> 242\u001b[0m     \u001b[38;5;28;01mraise\u001b[39;00m exceptions\u001b[38;5;241m.\u001b[39mApiError(\n\u001b[1;32m    243\u001b[0m         status_code,\n\u001b[1;32m    244\u001b[0m         body\n\u001b[1;32m    245\u001b[0m     )\n\u001b[1;32m    247\u001b[0m \u001b[38;5;28;01mreturn\u001b[39;00m body\n",
      "\u001b[0;31mApiError\u001b[0m: 404 ({'error': {'code': 2010, 'message': 'Could not find routable point within a radius of 350.0 meters of specified coordinate 0: 46.3138840 6.9689530.; Could not find routable point within a radius of 350.0 meters of specified coordinate 1: 46.6031420 6.5367834.'}, 'info': {'engine': {'build_date': '2025-04-10T21:25:30Z', 'graph_version': '1', 'version': '9.1.2'}, 'timestamp': 1746460310616}})"
     ]
    }
   ],
   "source": [
    "client = ors.Client(key=API_key)\n",
    "route = client.directions(\n",
    "    profile='driving-car',\n",
    "    format='geojson',\n",
    "    coordinates=[[6.968953, 46.313884],[6.5367833784414175, 46.60314203414339]]\n",
    ")\n",
    "print(route)\n",
    "print(route['features'][0]['properties']['segments'][0]['distance'])"
   ]
  },
  {
   "cell_type": "code",
   "execution_count": null,
   "metadata": {},
   "outputs": [],
   "source": [
    "#call=requests.get(f'https://api.openrouteservice.org/v2/directions/driving-car?api_key={API_key}&start={city}&end={coordonnees_venoge},headers=headers')\n",
    "#if call.status_code == 200:\n",
    "#    data = call.json()\n",
    "#    distance = data['routes'][0]['summary']['distance'] / 1000\n",
    "#    print(distance)"
   ]
  },
  {
   "cell_type": "code",
   "execution_count": null,
   "metadata": {},
   "outputs": [
    {
     "name": "stderr",
     "output_type": "stream",
     "text": [
      "  0%|          | 0/545 [00:00<?, ?it/s]"
     ]
    },
    {
     "name": "stderr",
     "output_type": "stream",
     "text": [
      "  0%|          | 1/545 [00:00<02:03,  4.41it/s]"
     ]
    },
    {
     "name": "stdout",
     "output_type": "stream",
     "text": [
      "Failed for Aigle — 404\n"
     ]
    },
    {
     "name": "stderr",
     "output_type": "stream",
     "text": [
      "  1%|          | 3/545 [00:00<02:08,  4.23it/s]"
     ]
    },
    {
     "name": "stdout",
     "output_type": "stream",
     "text": [
      "Failed for Le Sépey — 404\n",
      "Failed for Bex — 404\n"
     ]
    },
    {
     "name": "stderr",
     "output_type": "stream",
     "text": [
      "  1%|          | 5/545 [00:01<01:33,  5.77it/s]"
     ]
    },
    {
     "name": "stdout",
     "output_type": "stream",
     "text": [
      "Failed for Frenières-sur-Bex — 404\n",
      "Failed for Fenalet-sur-Bex — 404\n"
     ]
    },
    {
     "name": "stderr",
     "output_type": "stream",
     "text": [
      "  1%|▏         | 7/545 [00:01<02:33,  3.51it/s]"
     ]
    },
    {
     "name": "stdout",
     "output_type": "stream",
     "text": [
      "Failed for Les Plans-sur-Bex — 404\n",
      "Failed for Les Posses-sur-Bex — 404\n"
     ]
    },
    {
     "name": "stderr",
     "output_type": "stream",
     "text": [
      "  2%|▏         | 9/545 [00:02<01:56,  4.58it/s]"
     ]
    },
    {
     "name": "stdout",
     "output_type": "stream",
     "text": [
      "Failed for Gryon — 404\n",
      "Failed for Chessel — 404\n"
     ]
    },
    {
     "name": "stderr",
     "output_type": "stream",
     "text": [
      "  2%|▏         | 11/545 [00:02<01:33,  5.71it/s]"
     ]
    },
    {
     "name": "stdout",
     "output_type": "stream",
     "text": [
      "Failed for Corbeyrier — 404\n",
      "Failed for Frenières-sur-Bex — 404\n"
     ]
    },
    {
     "name": "stderr",
     "output_type": "stream",
     "text": [
      "  2%|▏         | 13/545 [00:02<01:23,  6.40it/s]"
     ]
    },
    {
     "name": "stdout",
     "output_type": "stream",
     "text": [
      "Failed for Les Posses-sur-Bex — 404\n",
      "Failed for Gryon — 404\n"
     ]
    },
    {
     "name": "stderr",
     "output_type": "stream",
     "text": [
      "  3%|▎         | 15/545 [00:03<01:17,  6.82it/s]"
     ]
    },
    {
     "name": "stdout",
     "output_type": "stream",
     "text": [
      "Failed for Lavey-Village — 404\n",
      "Failed for Lavey-les-Bains — 404\n"
     ]
    },
    {
     "name": "stderr",
     "output_type": "stream",
     "text": [
      "  3%|▎         | 17/545 [00:03<01:16,  6.87it/s]"
     ]
    },
    {
     "name": "stdout",
     "output_type": "stream",
     "text": [
      "Failed for Morcles — 404\n",
      "Failed for Leysin — 404\n"
     ]
    },
    {
     "name": "stderr",
     "output_type": "stream",
     "text": [
      "  3%|▎         | 19/545 [00:03<01:12,  7.23it/s]"
     ]
    },
    {
     "name": "stdout",
     "output_type": "stream",
     "text": [
      "Failed for Noville — 404\n",
      "Failed for Aigle — 404\n"
     ]
    },
    {
     "name": "stderr",
     "output_type": "stream",
     "text": [
      "  4%|▍         | 21/545 [00:03<01:10,  7.48it/s]"
     ]
    },
    {
     "name": "stdout",
     "output_type": "stream",
     "text": [
      "Failed for La Forclaz VD — 404\n",
      "Failed for Ollon VD — 404\n"
     ]
    },
    {
     "name": "stderr",
     "output_type": "stream",
     "text": [
      "  4%|▍         | 23/545 [00:04<01:08,  7.58it/s]"
     ]
    },
    {
     "name": "stdout",
     "output_type": "stream",
     "text": [
      "Failed for St-Triphon — 404\n",
      "Failed for Panex — 404\n"
     ]
    },
    {
     "name": "stderr",
     "output_type": "stream",
     "text": [
      "  5%|▍         | 25/545 [00:04<01:07,  7.67it/s]"
     ]
    },
    {
     "name": "stdout",
     "output_type": "stream",
     "text": [
      "Failed for Villars-sur-Ollon — 404\n",
      "Failed for Arveyes — 404\n"
     ]
    },
    {
     "name": "stderr",
     "output_type": "stream",
     "text": [
      "  5%|▍         | 27/545 [00:04<01:20,  6.40it/s]"
     ]
    },
    {
     "name": "stdout",
     "output_type": "stream",
     "text": [
      "Failed for Huémoz — 404\n",
      "Failed for Chesières — 404\n"
     ]
    },
    {
     "name": "stderr",
     "output_type": "stream",
     "text": [
      "  5%|▌         | 29/545 [00:04<01:12,  7.10it/s]"
     ]
    },
    {
     "name": "stdout",
     "output_type": "stream",
     "text": [
      "Failed for La Lécherette — 404\n",
      "Failed for Corbeyrier — 404\n"
     ]
    },
    {
     "name": "stderr",
     "output_type": "stream",
     "text": [
      "  6%|▌         | 31/545 [00:05<01:07,  7.56it/s]"
     ]
    },
    {
     "name": "stdout",
     "output_type": "stream",
     "text": [
      "Failed for Les Mosses — 404\n",
      "Failed for La Comballaz — 404\n"
     ]
    },
    {
     "name": "stderr",
     "output_type": "stream",
     "text": [
      "  6%|▌         | 33/545 [00:05<01:05,  7.80it/s]"
     ]
    },
    {
     "name": "stdout",
     "output_type": "stream",
     "text": [
      "Failed for Le Sépey — 404\n",
      "Failed for La Forclaz VD — 404\n"
     ]
    },
    {
     "name": "stderr",
     "output_type": "stream",
     "text": [
      "  6%|▋         | 35/545 [00:05<01:10,  7.25it/s]"
     ]
    },
    {
     "name": "stdout",
     "output_type": "stream",
     "text": [
      "Failed for Vers-l'Eglise — 404\n",
      "Failed for Les Diablerets — 404\n"
     ]
    },
    {
     "name": "stderr",
     "output_type": "stream",
     "text": [
      "  7%|▋         | 37/545 [00:06<01:07,  7.51it/s]"
     ]
    },
    {
     "name": "stdout",
     "output_type": "stream",
     "text": [
      "Failed for Rennaz — 404\n",
      "Failed for Roche VD — 404\n"
     ]
    },
    {
     "name": "stderr",
     "output_type": "stream",
     "text": [
      "  7%|▋         | 38/545 [00:06<01:19,  6.40it/s]"
     ]
    },
    {
     "name": "stdout",
     "output_type": "stream",
     "text": [
      "Failed for Villeneuve VD — 404\n"
     ]
    },
    {
     "name": "stderr",
     "output_type": "stream",
     "text": [
      "  7%|▋         | 40/545 [00:06<01:22,  6.13it/s]"
     ]
    },
    {
     "name": "stdout",
     "output_type": "stream",
     "text": [
      "Failed for Yvorne — 404\n",
      "Failed for Aubonne — 404\n"
     ]
    },
    {
     "name": "stderr",
     "output_type": "stream",
     "text": [
      "  8%|▊         | 42/545 [00:06<01:03,  7.96it/s]"
     ]
    },
    {
     "name": "stdout",
     "output_type": "stream",
     "text": [
      "Failed for Bougy-Villars — 429\n",
      "Failed for Montherod — 429\n",
      "Failed for Pizy — 429\n"
     ]
    },
    {
     "name": "stderr",
     "output_type": "stream",
     "text": [
      "  8%|▊         | 46/545 [00:07<00:48, 10.36it/s]"
     ]
    },
    {
     "name": "stdout",
     "output_type": "stream",
     "text": [
      "Failed for Ballens — 429\n",
      "Failed for Berolle — 429\n",
      "Failed for Bière — 429\n"
     ]
    },
    {
     "name": "stderr",
     "output_type": "stream",
     "text": [
      "  9%|▉         | 48/545 [00:07<00:46, 10.67it/s]"
     ]
    },
    {
     "name": "stdout",
     "output_type": "stream",
     "text": [
      "Failed for Berolle — 429\n",
      "Failed for Bougy-Villars — 429\n",
      "Failed for Perroy — 429\n"
     ]
    },
    {
     "name": "stderr",
     "output_type": "stream",
     "text": [
      " 10%|▉         | 52/545 [00:07<00:42, 11.54it/s]"
     ]
    },
    {
     "name": "stdout",
     "output_type": "stream",
     "text": [
      "Failed for Féchy — 429\n",
      "Failed for Gimel — 429\n",
      "Failed for Longirod — 429\n"
     ]
    },
    {
     "name": "stderr",
     "output_type": "stream",
     "text": [
      " 10%|▉         | 54/545 [00:07<00:43, 11.23it/s]"
     ]
    },
    {
     "name": "stdout",
     "output_type": "stream",
     "text": [
      "Failed for Marchissy — 429\n",
      "Failed for Mollens VD — 429\n",
      "Failed for St-George — 429\n"
     ]
    },
    {
     "name": "stderr",
     "output_type": "stream",
     "text": [
      " 10%|█         | 56/545 [00:07<00:41, 11.81it/s]"
     ]
    },
    {
     "name": "stdout",
     "output_type": "stream",
     "text": [
      "Failed for Bière — 429\n",
      "Failed for St-Livres — 429\n"
     ]
    },
    {
     "name": "stderr",
     "output_type": "stream",
     "text": [
      " 11%|█         | 60/545 [00:08<00:46, 10.52it/s]"
     ]
    },
    {
     "name": "stdout",
     "output_type": "stream",
     "text": [
      "Failed for St-Oyens — 429\n",
      "Failed for Saubraz — 429\n",
      "Failed for Domdidier — 429\n"
     ]
    },
    {
     "name": "stderr",
     "output_type": "stream",
     "text": [
      " 11%|█▏        | 62/545 [00:08<00:42, 11.35it/s]"
     ]
    },
    {
     "name": "stdout",
     "output_type": "stream",
     "text": [
      "Failed for Avenches — 429\n",
      "Failed for Oleyres — 429\n",
      "Failed for Donatyre — 429\n"
     ]
    },
    {
     "name": "stderr",
     "output_type": "stream",
     "text": [
      " 12%|█▏        | 66/545 [00:08<00:42, 11.34it/s]"
     ]
    },
    {
     "name": "stdout",
     "output_type": "stream",
     "text": [
      "Failed for Misery — 429\n",
      "Failed for Cudrefin — 429\n",
      "Failed for Faoug — 429\n"
     ]
    },
    {
     "name": "stderr",
     "output_type": "stream",
     "text": [
      " 12%|█▏        | 68/545 [00:08<00:40, 11.76it/s]"
     ]
    },
    {
     "name": "stdout",
     "output_type": "stream",
     "text": [
      "Failed for Villars-le-Grand — 429\n",
      "Failed for Salavaux — 429\n",
      "Failed for Bellerive VD — 429\n"
     ]
    },
    {
     "name": "stderr",
     "output_type": "stream",
     "text": [
      " 13%|█▎        | 70/545 [00:09<00:48,  9.89it/s]"
     ]
    },
    {
     "name": "stdout",
     "output_type": "stream",
     "text": [
      "Failed for Cotterd — 429\n",
      "Failed for Vallamand — 429\n"
     ]
    },
    {
     "name": "stderr",
     "output_type": "stream",
     "text": [
      " 13%|█▎        | 72/545 [00:09<00:57,  8.23it/s]"
     ]
    },
    {
     "name": "stdout",
     "output_type": "stream",
     "text": [
      "Failed for Montmagny — 429\n",
      "Failed for Constantine — 429\n"
     ]
    },
    {
     "name": "stderr",
     "output_type": "stream",
     "text": [
      " 14%|█▎        | 74/545 [00:09<00:56,  8.29it/s]"
     ]
    },
    {
     "name": "stdout",
     "output_type": "stream",
     "text": [
      "Failed for Chabrey — 429\n"
     ]
    },
    {
     "name": "stderr",
     "output_type": "stream",
     "text": [
      " 14%|█▍        | 77/545 [00:10<00:55,  8.40it/s]"
     ]
    },
    {
     "name": "stdout",
     "output_type": "stream",
     "text": [
      "Failed for Mur (Vully) VD — 429\n",
      "Failed for Bettens — 429\n",
      "Failed for Daillens — 429\n"
     ]
    },
    {
     "name": "stderr",
     "output_type": "stream",
     "text": [
      " 14%|█▍        | 79/545 [00:10<00:49,  9.35it/s]"
     ]
    },
    {
     "name": "stdout",
     "output_type": "stream",
     "text": [
      "Failed for Bournens — 429\n",
      "Failed for Boussens — 429\n",
      "Failed for Chavannes-le-Veyron — 429\n"
     ]
    },
    {
     "name": "stderr",
     "output_type": "stream",
     "text": [
      " 15%|█▌        | 83/545 [00:10<00:44, 10.34it/s]"
     ]
    },
    {
     "name": "stdout",
     "output_type": "stream",
     "text": [
      "Failed for La Chaux (Cossonay) — 429\n",
      "Failed for Chevilly — 429\n",
      "Failed for Chavannes-le-Veyron — 429\n"
     ]
    },
    {
     "name": "stderr",
     "output_type": "stream",
     "text": [
      " 16%|█▌        | 85/545 [00:10<00:46,  9.98it/s]"
     ]
    },
    {
     "name": "stdout",
     "output_type": "stream",
     "text": [
      "Failed for Chevilly — 429\n",
      "Failed for Cossonay-Ville — 429\n"
     ]
    },
    {
     "name": "stderr",
     "output_type": "stream",
     "text": [
      " 16%|█▌        | 87/545 [00:11<00:50,  9.12it/s]"
     ]
    },
    {
     "name": "stdout",
     "output_type": "stream",
     "text": [
      "Failed for Allens — 429\n",
      "Failed for Cuarnens — 429\n"
     ]
    },
    {
     "name": "stderr",
     "output_type": "stream",
     "text": [
      " 17%|█▋        | 90/545 [00:11<00:48,  9.46it/s]"
     ]
    },
    {
     "name": "stdout",
     "output_type": "stream",
     "text": [
      "Failed for Daillens — 429\n",
      "Failed for Dizy — 429\n",
      "Failed for Eclépens — 429\n"
     ]
    },
    {
     "name": "stderr",
     "output_type": "stream",
     "text": [
      " 17%|█▋        | 92/545 [00:11<00:44, 10.19it/s]"
     ]
    },
    {
     "name": "stdout",
     "output_type": "stream",
     "text": [
      "Failed for Ferreyres — 429\n",
      "Failed for Gollion — 429\n",
      "Failed for Grancy — 429\n"
     ]
    },
    {
     "name": "stderr",
     "output_type": "stream",
     "text": [
      " 18%|█▊        | 96/545 [00:12<00:42, 10.56it/s]"
     ]
    },
    {
     "name": "stdout",
     "output_type": "stream",
     "text": [
      "Failed for L'Isle — 429\n",
      "Failed for Villars-Bozon — 429\n",
      "Failed for La Coudre — 429\n"
     ]
    },
    {
     "name": "stderr",
     "output_type": "stream",
     "text": [
      " 18%|█▊        | 98/545 [00:12<00:48,  9.21it/s]"
     ]
    },
    {
     "name": "stdout",
     "output_type": "stream",
     "text": [
      "Failed for Lussery-Villars — 429\n",
      "Failed for Mauraz — 429\n"
     ]
    },
    {
     "name": "stderr",
     "output_type": "stream",
     "text": [
      " 19%|█▊        | 101/545 [00:12<00:43, 10.11it/s]"
     ]
    },
    {
     "name": "stdout",
     "output_type": "stream",
     "text": [
      "Failed for Mex VD — 429\n",
      "Failed for Moiry VD — 429\n",
      "Failed for Mont-la-Ville — 429\n"
     ]
    },
    {
     "name": "stderr",
     "output_type": "stream",
     "text": [
      " 19%|█▉        | 103/545 [00:12<00:41, 10.61it/s]"
     ]
    },
    {
     "name": "stdout",
     "output_type": "stream",
     "text": [
      "Failed for Vaulion — 429\n",
      "Failed for Montricher — 429\n",
      "Failed for Orny — 429\n"
     ]
    },
    {
     "name": "stderr",
     "output_type": "stream",
     "text": [
      " 20%|█▉        | 107/545 [00:13<00:38, 11.34it/s]"
     ]
    },
    {
     "name": "stdout",
     "output_type": "stream",
     "text": [
      "Failed for Bavois — 429\n",
      "Failed for Penthalaz — 429\n",
      "Failed for Penthaz — 429\n"
     ]
    },
    {
     "name": "stderr",
     "output_type": "stream",
     "text": [
      " 20%|██        | 109/545 [00:13<00:44,  9.87it/s]"
     ]
    },
    {
     "name": "stdout",
     "output_type": "stream",
     "text": [
      "Failed for Pompaples — 429\n",
      "Failed for La Sarraz — 429\n",
      "Failed for Senarclens — 429\n"
     ]
    },
    {
     "name": "stderr",
     "output_type": "stream",
     "text": [
      " 21%|██        | 113/545 [00:13<00:38, 11.15it/s]"
     ]
    },
    {
     "name": "stdout",
     "output_type": "stream",
     "text": [
      "Failed for Sullens — 429\n",
      "Failed for Mex VD — 429\n",
      "Failed for Vufflens-la-Ville — 429\n"
     ]
    },
    {
     "name": "stderr",
     "output_type": "stream",
     "text": [
      " 21%|██        | 115/545 [00:13<00:40, 10.50it/s]"
     ]
    },
    {
     "name": "stdout",
     "output_type": "stream",
     "text": [
      "Failed for Assens — 429\n",
      "Failed for Bioley-Orjulaz — 429\n",
      "Failed for Bercher — 429\n"
     ]
    },
    {
     "name": "stderr",
     "output_type": "stream",
     "text": [
      " 21%|██▏       | 117/545 [00:14<00:39, 10.95it/s]"
     ]
    },
    {
     "name": "stdout",
     "output_type": "stream",
     "text": [
      "Failed for Bottens — 429\n",
      "Failed for Bretigny-sur-Morrens — 429\n"
     ]
    },
    {
     "name": "stderr",
     "output_type": "stream",
     "text": [
      " 22%|██▏       | 121/545 [00:14<00:39, 10.69it/s]"
     ]
    },
    {
     "name": "stdout",
     "output_type": "stream",
     "text": [
      "Failed for Cugy VD — 429\n",
      "Failed for Echallens — 429\n",
      "Failed for Essertines-sur-Yverdon — 429\n"
     ]
    },
    {
     "name": "stderr",
     "output_type": "stream",
     "text": [
      " 23%|██▎       | 123/545 [00:14<00:37, 11.22it/s]"
     ]
    },
    {
     "name": "stdout",
     "output_type": "stream",
     "text": [
      "Failed for Epautheyres — 429\n",
      "Failed for Etagnières — 429\n",
      "Failed for Fey — 429\n"
     ]
    },
    {
     "name": "stderr",
     "output_type": "stream",
     "text": [
      " 23%|██▎       | 127/545 [00:14<00:34, 12.08it/s]"
     ]
    },
    {
     "name": "stdout",
     "output_type": "stream",
     "text": [
      "Failed for Froideville — 429\n",
      "Failed for Morrens VD — 429\n",
      "Failed for Oulens-sous-Echallens — 429\n"
     ]
    },
    {
     "name": "stderr",
     "output_type": "stream",
     "text": [
      " 24%|██▎       | 129/545 [00:15<00:34, 12.22it/s]"
     ]
    },
    {
     "name": "stdout",
     "output_type": "stream",
     "text": [
      "Failed for Pailly — 429\n",
      "Failed for Penthéréaz — 429\n",
      "Failed for Poliez-Pittet — 429\n"
     ]
    },
    {
     "name": "stderr",
     "output_type": "stream",
     "text": [
      " 24%|██▍       | 131/545 [00:15<00:39, 10.46it/s]"
     ]
    },
    {
     "name": "stdout",
     "output_type": "stream",
     "text": [
      "Failed for Rueyres — 429\n",
      "Failed for St-Barthélemy VD — 429\n"
     ]
    },
    {
     "name": "stderr",
     "output_type": "stream",
     "text": [
      " 25%|██▍       | 135/545 [00:15<00:37, 10.79it/s]"
     ]
    },
    {
     "name": "stdout",
     "output_type": "stream",
     "text": [
      "Failed for Villars-le-Terroir — 429\n",
      "Failed for Vuarrens — 429\n",
      "Failed for Dommartin — 429\n"
     ]
    },
    {
     "name": "stderr",
     "output_type": "stream",
     "text": [
      " 25%|██▌       | 137/545 [00:15<00:36, 11.21it/s]"
     ]
    },
    {
     "name": "stdout",
     "output_type": "stream",
     "text": [
      "Failed for Naz — 429\n",
      "Failed for Poliez-le-Grand — 429\n",
      "Failed for Sugnens — 429\n"
     ]
    },
    {
     "name": "stderr",
     "output_type": "stream",
     "text": [
      " 26%|██▌       | 141/545 [00:16<00:34, 11.57it/s]"
     ]
    },
    {
     "name": "stdout",
     "output_type": "stream",
     "text": [
      "Failed for Goumoens-la-Ville — 429\n",
      "Failed for Eclagnens — 429\n",
      "Failed for Goumoens-le-Jux — 429\n"
     ]
    },
    {
     "name": "stderr",
     "output_type": "stream",
     "text": [
      " 26%|██▌       | 143/545 [00:16<00:38, 10.35it/s]"
     ]
    },
    {
     "name": "stdout",
     "output_type": "stream",
     "text": [
      "Failed for Fontanezier — 429\n",
      "Failed for Bonvillars — 429\n"
     ]
    },
    {
     "name": "stderr",
     "output_type": "stream",
     "text": [
      " 27%|██▋       | 145/545 [00:16<00:36, 10.93it/s]"
     ]
    },
    {
     "name": "stdout",
     "output_type": "stream",
     "text": [
      "Failed for Les Rasses — 429\n",
      "Failed for Bullet — 429\n",
      "Failed for Champagne — 429\n"
     ]
    },
    {
     "name": "stderr",
     "output_type": "stream",
     "text": [
      " 27%|██▋       | 149/545 [00:16<00:34, 11.47it/s]"
     ]
    },
    {
     "name": "stdout",
     "output_type": "stream",
     "text": [
      "Failed for Concise — 429\n",
      "Failed for Vaumarcus — 429\n",
      "Failed for Corcelles-près-Concise — 429\n"
     ]
    },
    {
     "name": "stderr",
     "output_type": "stream",
     "text": [
      " 28%|██▊       | 151/545 [00:17<00:37, 10.55it/s]"
     ]
    },
    {
     "name": "stdout",
     "output_type": "stream",
     "text": [
      "Failed for Fiez — 429\n",
      "Failed for Bullet — 429\n",
      "Failed for Fontaines-sur-Grandson — 429\n"
     ]
    },
    {
     "name": "stderr",
     "output_type": "stream",
     "text": [
      " 28%|██▊       | 153/545 [00:17<00:34, 11.50it/s]"
     ]
    },
    {
     "name": "stdout",
     "output_type": "stream",
     "text": [
      "Failed for Mauborget — 429\n",
      "Failed for Giez — 429\n"
     ]
    },
    {
     "name": "stderr",
     "output_type": "stream",
     "text": [
      " 29%|██▉       | 157/545 [00:17<00:35, 10.92it/s]"
     ]
    },
    {
     "name": "stdout",
     "output_type": "stream",
     "text": [
      "Failed for Grandevent — 429\n",
      "Failed for Bullet — 429\n",
      "Failed for Mauborget — 429\n"
     ]
    },
    {
     "name": "stderr",
     "output_type": "stream",
     "text": [
      " 29%|██▉       | 159/545 [00:17<00:33, 11.69it/s]"
     ]
    },
    {
     "name": "stdout",
     "output_type": "stream",
     "text": [
      "Failed for Grandson — 429\n",
      "Failed for Mauborget — 429\n",
      "Failed for Mutrux — 429\n"
     ]
    },
    {
     "name": "stderr",
     "output_type": "stream",
     "text": [
      " 30%|██▉       | 163/545 [00:18<00:37, 10.17it/s]"
     ]
    },
    {
     "name": "stdout",
     "output_type": "stream",
     "text": [
      "Failed for Novalles — 429\n",
      "Failed for Onnens VD — 429\n",
      "Failed for Provence — 429\n"
     ]
    },
    {
     "name": "stderr",
     "output_type": "stream",
     "text": [
      " 30%|███       | 165/545 [00:18<00:44,  8.63it/s]"
     ]
    },
    {
     "name": "stdout",
     "output_type": "stream",
     "text": [
      "Failed for Couvet — 429\n",
      "Failed for Vuiteboeuf — 429\n"
     ]
    },
    {
     "name": "stderr",
     "output_type": "stream",
     "text": [
      " 31%|███       | 167/545 [00:18<00:40,  9.38it/s]"
     ]
    },
    {
     "name": "stdout",
     "output_type": "stream",
     "text": [
      "Failed for Ste-Croix — 429\n",
      "Failed for La Sagne (Ste-Croix) — 429\n"
     ]
    },
    {
     "name": "stderr",
     "output_type": "stream",
     "text": [
      " 31%|███       | 169/545 [00:19<00:47,  7.98it/s]"
     ]
    },
    {
     "name": "stdout",
     "output_type": "stream",
     "text": [
      "Failed for Le Château-de-Ste-Croix — 429\n",
      "Failed for Les Rasses — 429\n",
      "Failed for L'Auberson — 429\n"
     ]
    },
    {
     "name": "stderr",
     "output_type": "stream",
     "text": [
      " 31%|███▏      | 171/545 [00:19<00:42,  8.77it/s]"
     ]
    },
    {
     "name": "stdout",
     "output_type": "stream",
     "text": [
      "Failed for La Vraconnaz — 429\n",
      "Failed for Villars-Burquin — 429\n"
     ]
    },
    {
     "name": "stderr",
     "output_type": "stream",
     "text": [
      " 32%|███▏      | 174/545 [00:19<00:44,  8.43it/s]"
     ]
    },
    {
     "name": "stdout",
     "output_type": "stream",
     "text": [
      "Failed for Fontanezier — 429\n",
      "Failed for Romairon — 429\n"
     ]
    },
    {
     "name": "stderr",
     "output_type": "stream",
     "text": [
      " 32%|███▏      | 176/545 [00:19<00:38,  9.51it/s]"
     ]
    },
    {
     "name": "stdout",
     "output_type": "stream",
     "text": [
      "Failed for Vaugondry — 429\n",
      "Failed for Mauborget — 429\n",
      "Failed for Belmont-sur-Lausanne — 429\n"
     ]
    },
    {
     "name": "stderr",
     "output_type": "stream",
     "text": [
      " 33%|███▎      | 180/545 [00:20<00:35, 10.31it/s]"
     ]
    },
    {
     "name": "stdout",
     "output_type": "stream",
     "text": [
      "Failed for Cheseaux-sur-Lausanne — 429\n",
      "Failed for Crissier — 429\n",
      "Failed for Cheseaux-sur-Lausanne — 429\n"
     ]
    },
    {
     "name": "stderr",
     "output_type": "stream",
     "text": [
      " 33%|███▎      | 182/545 [00:20<00:34, 10.66it/s]"
     ]
    },
    {
     "name": "stdout",
     "output_type": "stream",
     "text": [
      "Failed for Epalinges — 429\n",
      "Failed for Jouxtens-Mézery — 429\n",
      "Failed for Lausanne 25 — 429\n"
     ]
    },
    {
     "name": "stderr",
     "output_type": "stream",
     "text": [
      " 34%|███▍      | 186/545 [00:20<00:35,  9.99it/s]"
     ]
    },
    {
     "name": "stdout",
     "output_type": "stream",
     "text": [
      "Failed for Lausanne 26 — 429\n",
      "Failed for Lausanne 27 — 429\n",
      "Failed for Lausanne — 429\n"
     ]
    },
    {
     "name": "stderr",
     "output_type": "stream",
     "text": [
      " 34%|███▍      | 188/545 [00:20<00:33, 10.73it/s]"
     ]
    },
    {
     "name": "stdout",
     "output_type": "stream",
     "text": [
      "Failed for Lausanne — 429\n",
      "Failed for Lausanne — 429\n",
      "Failed for Lausanne — 429\n"
     ]
    },
    {
     "name": "stderr",
     "output_type": "stream",
     "text": [
      " 35%|███▌      | 192/545 [00:21<00:30, 11.44it/s]"
     ]
    },
    {
     "name": "stdout",
     "output_type": "stream",
     "text": [
      "Failed for Lausanne — 429\n",
      "Failed for Lausanne — 429\n",
      "Failed for Lausanne — 429\n"
     ]
    },
    {
     "name": "stderr",
     "output_type": "stream",
     "text": [
      " 36%|███▌      | 194/545 [00:21<00:30, 11.34it/s]"
     ]
    },
    {
     "name": "stdout",
     "output_type": "stream",
     "text": [
      "Failed for Lausanne — 429\n",
      "Failed for Lausanne — 429\n"
     ]
    },
    {
     "name": "stderr",
     "output_type": "stream",
     "text": [
      " 36%|███▌      | 196/545 [00:21<00:35,  9.78it/s]"
     ]
    },
    {
     "name": "stdout",
     "output_type": "stream",
     "text": [
      "Failed for Crissier — 429\n",
      "Failed for Romanel-sur-Lausanne — 429\n"
     ]
    },
    {
     "name": "stderr",
     "output_type": "stream",
     "text": [
      " 36%|███▋      | 198/545 [00:21<00:33, 10.28it/s]"
     ]
    },
    {
     "name": "stdout",
     "output_type": "stream",
     "text": [
      "Failed for Cheseaux-sur-Lausanne — 429\n",
      "Failed for Cugy VD — 429\n",
      "Failed for Le Mont-sur-Lausanne — 429\n"
     ]
    },
    {
     "name": "stderr",
     "output_type": "stream",
     "text": [
      " 37%|███▋      | 202/545 [00:22<00:32, 10.40it/s]"
     ]
    },
    {
     "name": "stdout",
     "output_type": "stream",
     "text": [
      "Failed for Paudex — 429\n",
      "Failed for Lutry — 429\n",
      "Failed for Prilly — 429\n"
     ]
    },
    {
     "name": "stderr",
     "output_type": "stream",
     "text": [
      " 37%|███▋      | 204/545 [00:22<00:31, 10.93it/s]"
     ]
    },
    {
     "name": "stdout",
     "output_type": "stream",
     "text": [
      "Failed for Pully — 429\n",
      "Failed for Les Monts-de-Pully — 429\n",
      "Failed for Prilly — 429\n"
     ]
    },
    {
     "name": "stderr",
     "output_type": "stream",
     "text": [
      " 38%|███▊      | 208/545 [00:22<00:32, 10.26it/s]"
     ]
    },
    {
     "name": "stdout",
     "output_type": "stream",
     "text": [
      "Failed for Renens VD — 429\n",
      "Failed for Romanel-sur-Lausanne — 429\n",
      "Failed for Chexbres — 429\n"
     ]
    },
    {
     "name": "stderr",
     "output_type": "stream",
     "text": [
      " 39%|███▊      | 210/545 [00:23<00:30, 10.81it/s]"
     ]
    },
    {
     "name": "stdout",
     "output_type": "stream",
     "text": [
      "Failed for Forel (Lavaux) — 429\n",
      "Failed for Les Cullayes — 429\n",
      "Failed for Grandvaux — 429\n"
     ]
    },
    {
     "name": "stderr",
     "output_type": "stream",
     "text": [
      " 39%|███▉      | 214/545 [00:23<00:30, 10.97it/s]"
     ]
    },
    {
     "name": "stdout",
     "output_type": "stream",
     "text": [
      "Failed for La Croix (Lutry) — 429\n",
      "Failed for Belmont-sur-Lausanne — 429\n",
      "Failed for La Conversion — 429\n"
     ]
    },
    {
     "name": "stderr",
     "output_type": "stream",
     "text": [
      " 40%|███▉      | 216/545 [00:23<00:29, 11.22it/s]"
     ]
    },
    {
     "name": "stdout",
     "output_type": "stream",
     "text": [
      "Failed for Lutry — 429\n",
      "Failed for Puidoux — 429\n"
     ]
    },
    {
     "name": "stderr",
     "output_type": "stream",
     "text": [
      " 40%|████      | 218/545 [00:23<00:33,  9.75it/s]"
     ]
    },
    {
     "name": "stdout",
     "output_type": "stream",
     "text": [
      "Failed for Rivaz — 429\n",
      "Failed for Cully — 429\n",
      "Failed for Epesses — 429\n"
     ]
    },
    {
     "name": "stderr",
     "output_type": "stream",
     "text": [
      " 41%|████      | 222/545 [00:24<00:28, 11.31it/s]"
     ]
    },
    {
     "name": "stdout",
     "output_type": "stream",
     "text": [
      "Failed for Les Thioleyres — 429\n",
      "Failed for Chexbres — 429\n",
      "Failed for Rivaz — 429\n"
     ]
    },
    {
     "name": "stderr",
     "output_type": "stream",
     "text": [
      " 41%|████      | 224/545 [00:24<00:30, 10.40it/s]"
     ]
    },
    {
     "name": "stdout",
     "output_type": "stream",
     "text": [
      "Failed for St-Saphorin (Lavaux) — 429\n",
      "Failed for Savigny — 429\n"
     ]
    },
    {
     "name": "stderr",
     "output_type": "stream",
     "text": [
      " 41%|████▏     | 226/545 [00:24<00:29, 10.81it/s]"
     ]
    },
    {
     "name": "stdout",
     "output_type": "stream",
     "text": [
      "Failed for Mollie-Margot — 429\n",
      "Failed for La Croix (Lutry) — 429\n",
      "Failed for Aran — 429\n"
     ]
    },
    {
     "name": "stderr",
     "output_type": "stream",
     "text": [
      " 42%|████▏     | 230/545 [00:24<00:30, 10.38it/s]"
     ]
    },
    {
     "name": "stdout",
     "output_type": "stream",
     "text": [
      "Failed for Puidoux — 429\n",
      "Failed for Grandvaux — 429\n",
      "Failed for Aran — 429\n"
     ]
    },
    {
     "name": "stderr",
     "output_type": "stream",
     "text": [
      " 43%|████▎     | 232/545 [00:25<00:28, 10.99it/s]"
     ]
    },
    {
     "name": "stdout",
     "output_type": "stream",
     "text": [
      "Failed for Chenaux — 429\n",
      "Failed for Lutry — 429\n",
      "Failed for Cully — 429\n"
     ]
    },
    {
     "name": "stderr",
     "output_type": "stream",
     "text": [
      " 43%|████▎     | 236/545 [00:25<00:30, 10.17it/s]"
     ]
    },
    {
     "name": "stdout",
     "output_type": "stream",
     "text": [
      "Failed for Villette (Lavaux) — 429\n",
      "Failed for Riex — 429\n",
      "Failed for Epesses — 429\n"
     ]
    },
    {
     "name": "stderr",
     "output_type": "stream",
     "text": [
      " 44%|████▎     | 238/545 [00:25<00:28, 10.91it/s]"
     ]
    },
    {
     "name": "stdout",
     "output_type": "stream",
     "text": [
      "Failed for Aclens — 429\n",
      "Failed for Bremblens — 429\n"
     ]
    },
    {
     "name": "stderr",
     "output_type": "stream",
     "text": [
      " 44%|████▍     | 240/545 [00:25<00:30,  9.92it/s]"
     ]
    },
    {
     "name": "stdout",
     "output_type": "stream",
     "text": [
      "Failed for Buchillon — 429\n",
      "Failed for Bussigny — 429\n"
     ]
    },
    {
     "name": "stderr",
     "output_type": "stream",
     "text": [
      " 44%|████▍     | 242/545 [00:26<00:29, 10.18it/s]"
     ]
    },
    {
     "name": "stdout",
     "output_type": "stream",
     "text": [
      "Failed for Lausanne — 429\n",
      "Failed for Chavannes-près-Renens — 429\n",
      "Failed for Chigny — 429\n"
     ]
    },
    {
     "name": "stderr",
     "output_type": "stream",
     "text": [
      " 45%|████▌     | 246/545 [00:26<00:28, 10.48it/s]"
     ]
    },
    {
     "name": "stdout",
     "output_type": "stream",
     "text": [
      "Failed for Clarmont — 429\n",
      "Failed for Denens — 429\n",
      "Failed for Denges — 429\n"
     ]
    },
    {
     "name": "stderr",
     "output_type": "stream",
     "text": [
      " 46%|████▌     | 248/545 [00:26<00:27, 10.68it/s]"
     ]
    },
    {
     "name": "stdout",
     "output_type": "stream",
     "text": [
      "Failed for Echandens — 429\n",
      "Failed for Echichens — 429\n"
     ]
    },
    {
     "name": "stderr",
     "output_type": "stream",
     "text": [
      " 46%|████▌     | 250/545 [00:26<00:31,  9.25it/s]"
     ]
    },
    {
     "name": "stdout",
     "output_type": "stream",
     "text": [
      "Failed for St-Saphorin-sur-Morges — 429\n",
      "Failed for Colombier VD — 429\n",
      "Failed for Monnaz — 429\n"
     ]
    },
    {
     "name": "stderr",
     "output_type": "stream",
     "text": [
      " 47%|████▋     | 254/545 [00:27<00:27, 10.46it/s]"
     ]
    },
    {
     "name": "stdout",
     "output_type": "stream",
     "text": [
      "Failed for Lausanne — 429\n",
      "Failed for Ecublens VD — 429\n",
      "Failed for Etoy — 429\n"
     ]
    },
    {
     "name": "stderr",
     "output_type": "stream",
     "text": [
      " 47%|████▋     | 256/545 [00:27<00:26, 10.85it/s]"
     ]
    },
    {
     "name": "stdout",
     "output_type": "stream",
     "text": [
      "Failed for Aubonne — 429\n",
      "Failed for Lavigny — 429\n",
      "Failed for Lonay — 429\n"
     ]
    },
    {
     "name": "stderr",
     "output_type": "stream",
     "text": [
      " 48%|████▊     | 260/545 [00:27<00:30,  9.49it/s]"
     ]
    },
    {
     "name": "stdout",
     "output_type": "stream",
     "text": [
      "Failed for Lully VD — 429\n",
      "Failed for St-Prex — 429\n",
      "Failed for Lussy-sur-Morges — 429\n"
     ]
    },
    {
     "name": "stderr",
     "output_type": "stream",
     "text": [
      " 48%|████▊     | 262/545 [00:28<00:27, 10.28it/s]"
     ]
    },
    {
     "name": "stdout",
     "output_type": "stream",
     "text": [
      "Failed for Morges — 429\n",
      "Failed for Préverenges — 429\n",
      "Failed for Romanel-sur-Morges — 429\n"
     ]
    },
    {
     "name": "stderr",
     "output_type": "stream",
     "text": [
      " 48%|████▊     | 264/545 [00:28<00:25, 10.84it/s]"
     ]
    },
    {
     "name": "stdout",
     "output_type": "stream",
     "text": [
      "Failed for St-Prex — 429\n",
      "Failed for Lausanne — 429\n"
     ]
    },
    {
     "name": "stderr",
     "output_type": "stream",
     "text": [
      " 49%|████▉     | 268/545 [00:28<00:26, 10.41it/s]"
     ]
    },
    {
     "name": "stdout",
     "output_type": "stream",
     "text": [
      "Failed for St-Sulpice VD — 429\n",
      "Failed for Tolochenaz — 429\n",
      "Failed for Vaux-sur-Morges — 429\n"
     ]
    },
    {
     "name": "stderr",
     "output_type": "stream",
     "text": [
      " 50%|████▉     | 270/545 [00:28<00:25, 10.95it/s]"
     ]
    },
    {
     "name": "stdout",
     "output_type": "stream",
     "text": [
      "Failed for Villars-Ste-Croix — 429\n",
      "Failed for Villars-sous-Yens — 429\n",
      "Failed for Vufflens-le-Château — 429\n"
     ]
    },
    {
     "name": "stderr",
     "output_type": "stream",
     "text": [
      " 50%|█████     | 274/545 [00:29<00:24, 11.24it/s]"
     ]
    },
    {
     "name": "stdout",
     "output_type": "stream",
     "text": [
      "Failed for Vullierens — 429\n",
      "Failed for Yens — 429\n",
      "Failed for Cottens VD — 429\n"
     ]
    },
    {
     "name": "stderr",
     "output_type": "stream",
     "text": [
      " 51%|█████     | 276/545 [00:29<00:23, 11.58it/s]"
     ]
    },
    {
     "name": "stdout",
     "output_type": "stream",
     "text": [
      "Failed for Reverolle — 429\n",
      "Failed for Bussy-Chardonney — 429\n",
      "Failed for Sévery — 429\n"
     ]
    },
    {
     "name": "stderr",
     "output_type": "stream",
     "text": [
      " 51%|█████▏    | 280/545 [00:29<00:22, 11.84it/s]"
     ]
    },
    {
     "name": "stdout",
     "output_type": "stream",
     "text": [
      "Failed for Pampigny — 429\n",
      "Failed for Apples — 429\n",
      "Failed for Bercher — 429\n"
     ]
    },
    {
     "name": "stderr",
     "output_type": "stream",
     "text": [
      " 52%|█████▏    | 282/545 [00:29<00:21, 12.18it/s]"
     ]
    },
    {
     "name": "stdout",
     "output_type": "stream",
     "text": [
      "Failed for Boulens — 429\n",
      "Failed for Bussy-sur-Moudon — 429\n"
     ]
    },
    {
     "name": "stderr",
     "output_type": "stream",
     "text": [
      " 52%|█████▏    | 284/545 [00:30<00:22, 11.39it/s]"
     ]
    },
    {
     "name": "stdout",
     "output_type": "stream",
     "text": [
      "Failed for Moudon — 429\n",
      "Failed for Chavannes-sur-Moudon — 429\n",
      "Failed for Curtilles — 429\n"
     ]
    },
    {
     "name": "stderr",
     "output_type": "stream",
     "text": [
      " 53%|█████▎    | 288/545 [00:30<00:21, 11.90it/s]"
     ]
    },
    {
     "name": "stdout",
     "output_type": "stream",
     "text": [
      "Failed for Dompierre VD — 429\n",
      "Failed for Peney-le-Jorat — 429\n",
      "Failed for Hermenches — 429\n"
     ]
    },
    {
     "name": "stderr",
     "output_type": "stream",
     "text": [
      " 53%|█████▎    | 290/545 [00:30<00:20, 12.25it/s]"
     ]
    },
    {
     "name": "stdout",
     "output_type": "stream",
     "text": [
      "Failed for Lovatens — 429\n",
      "Failed for Lucens — 429\n",
      "Failed for Oulens-sur-Lucens — 429\n"
     ]
    },
    {
     "name": "stderr",
     "output_type": "stream",
     "text": [
      " 54%|█████▍    | 294/545 [00:30<00:19, 12.55it/s]"
     ]
    },
    {
     "name": "stdout",
     "output_type": "stream",
     "text": [
      "Failed for Forel-sur-Lucens — 429\n",
      "Failed for Cremin — 429\n",
      "Failed for Brenles — 429\n"
     ]
    },
    {
     "name": "stderr",
     "output_type": "stream",
     "text": [
      " 54%|█████▍    | 296/545 [00:30<00:19, 12.79it/s]"
     ]
    },
    {
     "name": "stdout",
     "output_type": "stream",
     "text": [
      "Failed for Chesalles-sur-Moudon — 429\n",
      "Failed for Sarzens — 429\n",
      "Failed for Moudon — 429\n"
     ]
    },
    {
     "name": "stderr",
     "output_type": "stream",
     "text": [
      " 55%|█████▍    | 298/545 [00:31<00:19, 12.84it/s]"
     ]
    },
    {
     "name": "stdout",
     "output_type": "stream",
     "text": [
      "Failed for Ogens — 429\n",
      "Failed for Prévonloup — 429\n"
     ]
    },
    {
     "name": "stderr",
     "output_type": "stream",
     "text": [
      " 55%|█████▌    | 302/545 [00:31<00:21, 11.42it/s]"
     ]
    },
    {
     "name": "stdout",
     "output_type": "stream",
     "text": [
      "Failed for Rossenges — 429\n",
      "Failed for Syens — 429\n",
      "Failed for Villars-le-Comte — 429\n"
     ]
    },
    {
     "name": "stderr",
     "output_type": "stream",
     "text": [
      " 56%|█████▌    | 304/545 [00:31<00:20, 11.98it/s]"
     ]
    },
    {
     "name": "stdout",
     "output_type": "stream",
     "text": [
      "Failed for Vucherens — 429\n",
      "Failed for Bercher — 429\n",
      "Failed for Chapelle-sur-Moudon — 429\n"
     ]
    },
    {
     "name": "stderr",
     "output_type": "stream",
     "text": [
      " 57%|█████▋    | 308/545 [00:31<00:19, 11.96it/s]"
     ]
    },
    {
     "name": "stdout",
     "output_type": "stream",
     "text": [
      "Failed for Martherenges — 429\n",
      "Failed for Peyres-Possens — 429\n",
      "Failed for Chanéaz — 429\n"
     ]
    },
    {
     "name": "stderr",
     "output_type": "stream",
     "text": [
      " 57%|█████▋    | 310/545 [00:32<00:18, 12.62it/s]"
     ]
    },
    {
     "name": "stdout",
     "output_type": "stream",
     "text": [
      "Failed for Thierrens — 429\n",
      "Failed for Correvon — 429\n",
      "Failed for Denezy — 429\n"
     ]
    },
    {
     "name": "stderr",
     "output_type": "stream",
     "text": [
      " 58%|█████▊    | 314/545 [00:32<00:18, 12.53it/s]"
     ]
    },
    {
     "name": "stdout",
     "output_type": "stream",
     "text": [
      "Failed for St-Cierges — 429\n",
      "Failed for Neyruz-sur-Moudon — 429\n",
      "Failed for Arnex-sur-Nyon — 429\n"
     ]
    },
    {
     "name": "stderr",
     "output_type": "stream",
     "text": [
      " 58%|█████▊    | 316/545 [00:32<00:18, 12.44it/s]"
     ]
    },
    {
     "name": "stdout",
     "output_type": "stream",
     "text": [
      "Failed for St-Cergue — 429\n",
      "Failed for Arzier-Le Muids — 429\n"
     ]
    },
    {
     "name": "stderr",
     "output_type": "stream",
     "text": [
      " 58%|█████▊    | 318/545 [00:32<00:20, 11.03it/s]"
     ]
    },
    {
     "name": "stdout",
     "output_type": "stream",
     "text": [
      "Failed for Bassins — 429\n",
      "Failed for Begnins — 429\n",
      "Failed for Bogis-Bossey — 429\n"
     ]
    },
    {
     "name": "stderr",
     "output_type": "stream",
     "text": [
      " 59%|█████▉    | 322/545 [00:33<00:19, 11.37it/s]"
     ]
    },
    {
     "name": "stdout",
     "output_type": "stream",
     "text": [
      "Failed for Borex — 429\n",
      "Failed for Chavannes-de-Bogis — 429\n",
      "Failed for Chavannes-des-Bois — 429\n"
     ]
    },
    {
     "name": "stderr",
     "output_type": "stream",
     "text": [
      " 59%|█████▉    | 324/545 [00:33<00:18, 12.08it/s]"
     ]
    },
    {
     "name": "stdout",
     "output_type": "stream",
     "text": [
      "Failed for Chéserex — 429\n",
      "Failed for Gingins — 429\n",
      "Failed for Coinsins — 429\n"
     ]
    },
    {
     "name": "stderr",
     "output_type": "stream",
     "text": [
      " 60%|██████    | 328/545 [00:33<00:18, 11.86it/s]"
     ]
    },
    {
     "name": "stdout",
     "output_type": "stream",
     "text": [
      "Failed for Commugny — 429\n",
      "Failed for Coppet — 429\n",
      "Failed for Founex — 429\n"
     ]
    },
    {
     "name": "stderr",
     "output_type": "stream",
     "text": [
      " 61%|██████    | 330/545 [00:33<00:17, 12.05it/s]"
     ]
    },
    {
     "name": "stdout",
     "output_type": "stream",
     "text": [
      "Failed for Crans VD — 429\n",
      "Failed for Crassier — 429\n",
      "Failed for Duillier — 429\n"
     ]
    },
    {
     "name": "stderr",
     "output_type": "stream",
     "text": [
      " 61%|██████    | 332/545 [00:34<00:17, 12.33it/s]"
     ]
    },
    {
     "name": "stdout",
     "output_type": "stream",
     "text": [
      "Failed for Eysins — 429\n",
      "Failed for Founex — 429\n"
     ]
    },
    {
     "name": "stderr",
     "output_type": "stream",
     "text": [
      " 62%|██████▏   | 336/545 [00:34<00:17, 12.09it/s]"
     ]
    },
    {
     "name": "stdout",
     "output_type": "stream",
     "text": [
      "Failed for Genolier — 429\n",
      "Failed for Gingins — 429\n",
      "Failed for Givrins — 429\n"
     ]
    },
    {
     "name": "stderr",
     "output_type": "stream",
     "text": [
      " 62%|██████▏   | 338/545 [00:34<00:16, 12.50it/s]"
     ]
    },
    {
     "name": "stdout",
     "output_type": "stream",
     "text": [
      "Failed for Genolier — 429\n",
      "Failed for Gland — 429\n",
      "Failed for Grens — 429\n"
     ]
    },
    {
     "name": "stderr",
     "output_type": "stream",
     "text": [
      " 63%|██████▎   | 342/545 [00:34<00:16, 12.50it/s]"
     ]
    },
    {
     "name": "stdout",
     "output_type": "stream",
     "text": [
      "Failed for Versoix — 429\n",
      "Failed for Mies — 429\n",
      "Failed for Nyon — 429\n"
     ]
    },
    {
     "name": "stderr",
     "output_type": "stream",
     "text": [
      " 63%|██████▎   | 344/545 [00:34<00:16, 12.36it/s]"
     ]
    },
    {
     "name": "stdout",
     "output_type": "stream",
     "text": [
      "Failed for Prangins — 429\n",
      "Failed for Nyon — 429\n",
      "Failed for Chéserex — 429\n"
     ]
    },
    {
     "name": "stderr",
     "output_type": "stream",
     "text": [
      " 64%|██████▍   | 348/545 [00:35<00:15, 12.58it/s]"
     ]
    },
    {
     "name": "stdout",
     "output_type": "stream",
     "text": [
      "Failed for La Rippe — 429\n",
      "Failed for St-Cergue — 429\n",
      "Failed for La Cure — 429\n"
     ]
    },
    {
     "name": "stderr",
     "output_type": "stream",
     "text": [
      " 64%|██████▍   | 350/545 [00:35<00:18, 10.65it/s]"
     ]
    },
    {
     "name": "stdout",
     "output_type": "stream",
     "text": [
      "Failed for Gingins — 429\n",
      "Failed for Signy — 429\n"
     ]
    },
    {
     "name": "stderr",
     "output_type": "stream",
     "text": [
      " 65%|██████▍   | 352/545 [00:35<00:19,  9.78it/s]"
     ]
    },
    {
     "name": "stdout",
     "output_type": "stream",
     "text": [
      "Failed for Tannay — 429\n",
      "Failed for Trélex — 429\n"
     ]
    },
    {
     "name": "stderr",
     "output_type": "stream",
     "text": [
      " 65%|██████▍   | 354/545 [00:35<00:18, 10.41it/s]"
     ]
    },
    {
     "name": "stdout",
     "output_type": "stream",
     "text": [
      "Failed for Le Vaud — 429\n",
      "Failed for Vich — 429\n",
      "Failed for L'Abergement — 429\n"
     ]
    },
    {
     "name": "stderr",
     "output_type": "stream",
     "text": [
      " 66%|██████▌   | 358/545 [00:36<00:16, 11.56it/s]"
     ]
    },
    {
     "name": "stdout",
     "output_type": "stream",
     "text": [
      "Failed for Lignerolle — 429\n",
      "Failed for Agiez — 429\n",
      "Failed for Arnex-sur-Orbe — 429\n"
     ]
    },
    {
     "name": "stderr",
     "output_type": "stream",
     "text": [
      " 66%|██████▌   | 360/545 [00:36<00:15, 12.12it/s]"
     ]
    },
    {
     "name": "stdout",
     "output_type": "stream",
     "text": [
      "Failed for Ballaigues — 429\n",
      "Failed for Baulmes — 429\n",
      "Failed for L'Auberson — 429\n"
     ]
    },
    {
     "name": "stderr",
     "output_type": "stream",
     "text": [
      " 67%|██████▋   | 364/545 [00:36<00:15, 12.03it/s]"
     ]
    },
    {
     "name": "stdout",
     "output_type": "stream",
     "text": [
      "Failed for Bavois — 429\n",
      "Failed for Bofflens — 429\n",
      "Failed for Bretonnières — 429\n"
     ]
    },
    {
     "name": "stderr",
     "output_type": "stream",
     "text": [
      " 67%|██████▋   | 366/545 [00:36<00:14, 12.57it/s]"
     ]
    },
    {
     "name": "stdout",
     "output_type": "stream",
     "text": [
      "Failed for Chavornay — 429\n",
      "Failed for Corcelles-sur-Chavornay — 429\n",
      "Failed for Essert-Pittet — 429\n"
     ]
    },
    {
     "name": "stderr",
     "output_type": "stream",
     "text": [
      " 68%|██████▊   | 368/545 [00:37<00:17,  9.92it/s]\n"
     ]
    },
    {
     "name": "stdout",
     "output_type": "stream",
     "text": [
      "Failed for Les Clées — 429\n"
     ]
    },
    {
     "ename": "KeyboardInterrupt",
     "evalue": "",
     "output_type": "error",
     "traceback": [
      "\u001b[0;31m---------------------------------------------------------------------------\u001b[0m",
      "\u001b[0;31mKeyboardInterrupt\u001b[0m                         Traceback (most recent call last)",
      "Cell \u001b[0;32mIn[33], line 18\u001b[0m\n\u001b[1;32m     12\u001b[0m params \u001b[38;5;241m=\u001b[39m {\n\u001b[1;32m     13\u001b[0m     \u001b[38;5;124m'\u001b[39m\u001b[38;5;124mstart\u001b[39m\u001b[38;5;124m'\u001b[39m: city_lng_lat,\n\u001b[1;32m     14\u001b[0m     \u001b[38;5;124m'\u001b[39m\u001b[38;5;124mend\u001b[39m\u001b[38;5;124m'\u001b[39m: \u001b[38;5;124m'\u001b[39m\u001b[38;5;124m46.60396069250175, 6.538034286509177\u001b[39m\u001b[38;5;124m'\u001b[39m,  \u001b[38;5;66;03m# Venoge coordinates\u001b[39;00m\n\u001b[1;32m     15\u001b[0m }\n\u001b[1;32m     17\u001b[0m \u001b[38;5;28;01mtry\u001b[39;00m:\n\u001b[0;32m---> 18\u001b[0m     response \u001b[38;5;241m=\u001b[39m \u001b[43mrequests\u001b[49m\u001b[38;5;241;43m.\u001b[39;49m\u001b[43mget\u001b[49m\u001b[43m(\u001b[49m\u001b[38;5;124;43mf\u001b[39;49m\u001b[38;5;124;43m'\u001b[39;49m\u001b[38;5;124;43mhttps://api.openrouteservice.org/v2/directions/driving-car?api_key=\u001b[39;49m\u001b[38;5;132;43;01m{\u001b[39;49;00m\u001b[43mAPI_key\u001b[49m\u001b[38;5;132;43;01m}\u001b[39;49;00m\u001b[38;5;124;43m&start=\u001b[39;49m\u001b[38;5;132;43;01m{\u001b[39;49;00m\u001b[43mcity_lng_lat\u001b[49m\u001b[38;5;132;43;01m}\u001b[39;49;00m\u001b[38;5;124;43m&end=46.60396069250175, 6.538034286509177\u001b[39;49m\u001b[38;5;124;43m'\u001b[39;49m\u001b[43m)\u001b[49m\n\u001b[1;32m     19\u001b[0m     \u001b[38;5;28;01mif\u001b[39;00m response\u001b[38;5;241m.\u001b[39mstatus_code \u001b[38;5;241m==\u001b[39m \u001b[38;5;241m200\u001b[39m:\n\u001b[1;32m     20\u001b[0m         data \u001b[38;5;241m=\u001b[39m response\u001b[38;5;241m.\u001b[39mjson()\n",
      "File \u001b[0;32m~/MGT-502/.conda/lib/python3.11/site-packages/requests/api.py:73\u001b[0m, in \u001b[0;36mget\u001b[0;34m(url, params, **kwargs)\u001b[0m\n\u001b[1;32m     62\u001b[0m \u001b[38;5;28;01mdef\u001b[39;00m\u001b[38;5;250m \u001b[39m\u001b[38;5;21mget\u001b[39m(url, params\u001b[38;5;241m=\u001b[39m\u001b[38;5;28;01mNone\u001b[39;00m, \u001b[38;5;241m*\u001b[39m\u001b[38;5;241m*\u001b[39mkwargs):\n\u001b[1;32m     63\u001b[0m \u001b[38;5;250m    \u001b[39m\u001b[38;5;124mr\u001b[39m\u001b[38;5;124;03m\"\"\"Sends a GET request.\u001b[39;00m\n\u001b[1;32m     64\u001b[0m \n\u001b[1;32m     65\u001b[0m \u001b[38;5;124;03m    :param url: URL for the new :class:`Request` object.\u001b[39;00m\n\u001b[0;32m   (...)\u001b[0m\n\u001b[1;32m     70\u001b[0m \u001b[38;5;124;03m    :rtype: requests.Response\u001b[39;00m\n\u001b[1;32m     71\u001b[0m \u001b[38;5;124;03m    \"\"\"\u001b[39;00m\n\u001b[0;32m---> 73\u001b[0m     \u001b[38;5;28;01mreturn\u001b[39;00m \u001b[43mrequest\u001b[49m\u001b[43m(\u001b[49m\u001b[38;5;124;43m\"\u001b[39;49m\u001b[38;5;124;43mget\u001b[39;49m\u001b[38;5;124;43m\"\u001b[39;49m\u001b[43m,\u001b[49m\u001b[43m \u001b[49m\u001b[43murl\u001b[49m\u001b[43m,\u001b[49m\u001b[43m \u001b[49m\u001b[43mparams\u001b[49m\u001b[38;5;241;43m=\u001b[39;49m\u001b[43mparams\u001b[49m\u001b[43m,\u001b[49m\u001b[43m \u001b[49m\u001b[38;5;241;43m*\u001b[39;49m\u001b[38;5;241;43m*\u001b[39;49m\u001b[43mkwargs\u001b[49m\u001b[43m)\u001b[49m\n",
      "File \u001b[0;32m~/MGT-502/.conda/lib/python3.11/site-packages/requests/api.py:59\u001b[0m, in \u001b[0;36mrequest\u001b[0;34m(method, url, **kwargs)\u001b[0m\n\u001b[1;32m     55\u001b[0m \u001b[38;5;66;03m# By using the 'with' statement we are sure the session is closed, thus we\u001b[39;00m\n\u001b[1;32m     56\u001b[0m \u001b[38;5;66;03m# avoid leaving sockets open which can trigger a ResourceWarning in some\u001b[39;00m\n\u001b[1;32m     57\u001b[0m \u001b[38;5;66;03m# cases, and look like a memory leak in others.\u001b[39;00m\n\u001b[1;32m     58\u001b[0m \u001b[38;5;28;01mwith\u001b[39;00m sessions\u001b[38;5;241m.\u001b[39mSession() \u001b[38;5;28;01mas\u001b[39;00m session:\n\u001b[0;32m---> 59\u001b[0m     \u001b[38;5;28;01mreturn\u001b[39;00m \u001b[43msession\u001b[49m\u001b[38;5;241;43m.\u001b[39;49m\u001b[43mrequest\u001b[49m\u001b[43m(\u001b[49m\u001b[43mmethod\u001b[49m\u001b[38;5;241;43m=\u001b[39;49m\u001b[43mmethod\u001b[49m\u001b[43m,\u001b[49m\u001b[43m \u001b[49m\u001b[43murl\u001b[49m\u001b[38;5;241;43m=\u001b[39;49m\u001b[43murl\u001b[49m\u001b[43m,\u001b[49m\u001b[43m \u001b[49m\u001b[38;5;241;43m*\u001b[39;49m\u001b[38;5;241;43m*\u001b[39;49m\u001b[43mkwargs\u001b[49m\u001b[43m)\u001b[49m\n",
      "File \u001b[0;32m~/MGT-502/.conda/lib/python3.11/site-packages/requests/sessions.py:575\u001b[0m, in \u001b[0;36mSession.request\u001b[0;34m(self, method, url, params, data, headers, cookies, files, auth, timeout, allow_redirects, proxies, hooks, stream, verify, cert, json)\u001b[0m\n\u001b[1;32m    562\u001b[0m \u001b[38;5;66;03m# Create the Request.\u001b[39;00m\n\u001b[1;32m    563\u001b[0m req \u001b[38;5;241m=\u001b[39m Request(\n\u001b[1;32m    564\u001b[0m     method\u001b[38;5;241m=\u001b[39mmethod\u001b[38;5;241m.\u001b[39mupper(),\n\u001b[1;32m    565\u001b[0m     url\u001b[38;5;241m=\u001b[39murl,\n\u001b[0;32m   (...)\u001b[0m\n\u001b[1;32m    573\u001b[0m     hooks\u001b[38;5;241m=\u001b[39mhooks,\n\u001b[1;32m    574\u001b[0m )\n\u001b[0;32m--> 575\u001b[0m prep \u001b[38;5;241m=\u001b[39m \u001b[38;5;28;43mself\u001b[39;49m\u001b[38;5;241;43m.\u001b[39;49m\u001b[43mprepare_request\u001b[49m\u001b[43m(\u001b[49m\u001b[43mreq\u001b[49m\u001b[43m)\u001b[49m\n\u001b[1;32m    577\u001b[0m proxies \u001b[38;5;241m=\u001b[39m proxies \u001b[38;5;129;01mor\u001b[39;00m {}\n\u001b[1;32m    579\u001b[0m settings \u001b[38;5;241m=\u001b[39m \u001b[38;5;28mself\u001b[39m\u001b[38;5;241m.\u001b[39mmerge_environment_settings(\n\u001b[1;32m    580\u001b[0m     prep\u001b[38;5;241m.\u001b[39murl, proxies, stream, verify, cert\n\u001b[1;32m    581\u001b[0m )\n",
      "File \u001b[0;32m~/MGT-502/.conda/lib/python3.11/site-packages/requests/sessions.py:481\u001b[0m, in \u001b[0;36mSession.prepare_request\u001b[0;34m(self, request)\u001b[0m\n\u001b[1;32m    479\u001b[0m auth \u001b[38;5;241m=\u001b[39m request\u001b[38;5;241m.\u001b[39mauth\n\u001b[1;32m    480\u001b[0m \u001b[38;5;28;01mif\u001b[39;00m \u001b[38;5;28mself\u001b[39m\u001b[38;5;241m.\u001b[39mtrust_env \u001b[38;5;129;01mand\u001b[39;00m \u001b[38;5;129;01mnot\u001b[39;00m auth \u001b[38;5;129;01mand\u001b[39;00m \u001b[38;5;129;01mnot\u001b[39;00m \u001b[38;5;28mself\u001b[39m\u001b[38;5;241m.\u001b[39mauth:\n\u001b[0;32m--> 481\u001b[0m     auth \u001b[38;5;241m=\u001b[39m \u001b[43mget_netrc_auth\u001b[49m\u001b[43m(\u001b[49m\u001b[43mrequest\u001b[49m\u001b[38;5;241;43m.\u001b[39;49m\u001b[43murl\u001b[49m\u001b[43m)\u001b[49m\n\u001b[1;32m    483\u001b[0m p \u001b[38;5;241m=\u001b[39m PreparedRequest()\n\u001b[1;32m    484\u001b[0m p\u001b[38;5;241m.\u001b[39mprepare(\n\u001b[1;32m    485\u001b[0m     method\u001b[38;5;241m=\u001b[39mrequest\u001b[38;5;241m.\u001b[39mmethod\u001b[38;5;241m.\u001b[39mupper(),\n\u001b[1;32m    486\u001b[0m     url\u001b[38;5;241m=\u001b[39mrequest\u001b[38;5;241m.\u001b[39murl,\n\u001b[0;32m   (...)\u001b[0m\n\u001b[1;32m    496\u001b[0m     hooks\u001b[38;5;241m=\u001b[39mmerge_hooks(request\u001b[38;5;241m.\u001b[39mhooks, \u001b[38;5;28mself\u001b[39m\u001b[38;5;241m.\u001b[39mhooks),\n\u001b[1;32m    497\u001b[0m )\n",
      "File \u001b[0;32m~/MGT-502/.conda/lib/python3.11/site-packages/requests/utils.py:227\u001b[0m, in \u001b[0;36mget_netrc_auth\u001b[0;34m(url, raise_errors)\u001b[0m\n\u001b[1;32m    221\u001b[0m \u001b[38;5;28;01mexcept\u001b[39;00m \u001b[38;5;167;01mKeyError\u001b[39;00m:\n\u001b[1;32m    222\u001b[0m     \u001b[38;5;66;03m# os.path.expanduser can fail when $HOME is undefined and\u001b[39;00m\n\u001b[1;32m    223\u001b[0m     \u001b[38;5;66;03m# getpwuid fails. See https://bugs.python.org/issue20164 &\u001b[39;00m\n\u001b[1;32m    224\u001b[0m     \u001b[38;5;66;03m# https://github.com/psf/requests/issues/1846\u001b[39;00m\n\u001b[1;32m    225\u001b[0m     \u001b[38;5;28;01mreturn\u001b[39;00m\n\u001b[0;32m--> 227\u001b[0m \u001b[38;5;28;01mif\u001b[39;00m os\u001b[38;5;241m.\u001b[39mpath\u001b[38;5;241m.\u001b[39mexists(loc):\n\u001b[1;32m    228\u001b[0m     netrc_path \u001b[38;5;241m=\u001b[39m loc\n\u001b[1;32m    229\u001b[0m     \u001b[38;5;28;01mbreak\u001b[39;00m\n",
      "\u001b[0;31mKeyboardInterrupt\u001b[0m: "
     ]
    }
   ],
   "source": [
    "from tqdm import tqdm\n",
    "headers = {\n",
    "    'Accept': 'application/json',\n",
    "    'Authorization': API_key  # This is required for ORS v2\n",
    "}\n",
    "\n",
    "# Loop through each city in the DataFrame\n",
    "for index, row in tqdm(vaud_cities.iterrows(), total=vaud_cities.shape[0]):\n",
    "    city_lng_lat = f\"{row['lng']},{row['lat']}\"  # must be lng,lat\n",
    "\n",
    "    url = f\"https://api.openrouteservice.org/v2/directions/driving-car\"\n",
    "    params = {\n",
    "        'start': city_lng_lat,\n",
    "        'end': '46.60396069250175,6.538034286509177',  # Venoge coordinates\n",
    "    }\n",
    "\n",
    "    try:\n",
    "        response = requests.get(f'https://api.openrouteservice.org/v2/directions/driving-car?api_key={API_key}&start={city_lng_lat}&end=46.60396069250175,6.538034286509177')\n",
    "        if response.status_code == 200:\n",
    "            data = response.json()\n",
    "            distance_m = data['features'][0]['properties']['segments'][0]['distance']\n",
    "            vaud_cities.at[index, 'distance_to_venoge_km'] = round(distance_m / 1000, 2)\n",
    "        else:\n",
    "            print(f\"Failed for {row['commune']} — {response.status_code}\")\n",
    "            vaud_cities.at[index, 'distance_to_venoge_km'] = None\n",
    "    except Exception as e:\n",
    "        print(f\"Error at row {index}: {e}\")\n",
    "        df.at[index, 'distance_to_venoge_km'] = None"
   ]
  }
 ],
 "metadata": {
  "kernelspec": {
   "display_name": "base",
   "language": "python",
   "name": "python3"
  },
  "language_info": {
   "codemirror_mode": {
    "name": "ipython",
    "version": 3
   },
   "file_extension": ".py",
   "mimetype": "text/x-python",
   "name": "python",
   "nbconvert_exporter": "python",
   "pygments_lexer": "ipython3",
   "version": "3.11.5"
  }
 },
 "nbformat": 4,
 "nbformat_minor": 2
}
