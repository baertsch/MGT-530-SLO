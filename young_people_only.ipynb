{
 "cells": [
  {
   "cell_type": "markdown",
   "metadata": {},
   "source": []
  },
  {
   "cell_type": "code",
   "execution_count": 1,
   "metadata": {},
   "outputs": [
    {
     "name": "stdout",
     "output_type": "stream",
     "text": [
      "Requirement already satisfied: ortools in /Users/nadegelan/MGT-502/.conda/lib/python3.11/site-packages (9.12.4544)\n",
      "Requirement already satisfied: absl-py>=2.0.0 in /Users/nadegelan/MGT-502/.conda/lib/python3.11/site-packages (from ortools) (2.1.0)\n",
      "Requirement already satisfied: numpy>=1.13.3 in /Users/nadegelan/MGT-502/.conda/lib/python3.11/site-packages (from ortools) (1.26.4)\n",
      "Requirement already satisfied: pandas>=2.0.0 in /Users/nadegelan/MGT-502/.conda/lib/python3.11/site-packages (from ortools) (2.2.3)\n",
      "Requirement already satisfied: protobuf<5.30,>=5.29.3 in /Users/nadegelan/MGT-502/.conda/lib/python3.11/site-packages (from ortools) (5.29.4)\n",
      "Requirement already satisfied: immutabledict>=3.0.0 in /Users/nadegelan/MGT-502/.conda/lib/python3.11/site-packages (from ortools) (4.2.1)\n",
      "Requirement already satisfied: python-dateutil>=2.8.2 in /Users/nadegelan/MGT-502/.conda/lib/python3.11/site-packages (from pandas>=2.0.0->ortools) (2.9.0.post0)\n",
      "Requirement already satisfied: pytz>=2020.1 in /Users/nadegelan/MGT-502/.conda/lib/python3.11/site-packages (from pandas>=2.0.0->ortools) (2025.1)\n",
      "Requirement already satisfied: tzdata>=2022.7 in /Users/nadegelan/MGT-502/.conda/lib/python3.11/site-packages (from pandas>=2.0.0->ortools) (2025.1)\n",
      "Requirement already satisfied: six>=1.5 in /Users/nadegelan/MGT-502/.conda/lib/python3.11/site-packages (from python-dateutil>=2.8.2->pandas>=2.0.0->ortools) (1.17.0)\n",
      "Note: you may need to restart the kernel to use updated packages.\n"
     ]
    }
   ],
   "source": [
    "pip install ortools"
   ]
  },
  {
   "cell_type": "code",
   "execution_count": 2,
   "metadata": {},
   "outputs": [
    {
     "name": "stdout",
     "output_type": "stream",
     "text": [
      "Requirement already satisfied: folium in /Users/nadegelan/MGT-502/.conda/lib/python3.11/site-packages (0.19.6)\n",
      "Requirement already satisfied: branca>=0.6.0 in /Users/nadegelan/MGT-502/.conda/lib/python3.11/site-packages (from folium) (0.8.1)\n",
      "Requirement already satisfied: jinja2>=2.9 in /Users/nadegelan/MGT-502/.conda/lib/python3.11/site-packages (from folium) (3.1.6)\n",
      "Requirement already satisfied: numpy in /Users/nadegelan/MGT-502/.conda/lib/python3.11/site-packages (from folium) (1.26.4)\n",
      "Requirement already satisfied: requests in /Users/nadegelan/MGT-502/.conda/lib/python3.11/site-packages (from folium) (2.32.3)\n",
      "Requirement already satisfied: xyzservices in /Users/nadegelan/MGT-502/.conda/lib/python3.11/site-packages (from folium) (2025.4.0)\n",
      "Requirement already satisfied: MarkupSafe>=2.0 in /Users/nadegelan/MGT-502/.conda/lib/python3.11/site-packages (from jinja2>=2.9->folium) (3.0.2)\n",
      "Requirement already satisfied: charset-normalizer<4,>=2 in /Users/nadegelan/MGT-502/.conda/lib/python3.11/site-packages (from requests->folium) (3.4.1)\n",
      "Requirement already satisfied: idna<4,>=2.5 in /Users/nadegelan/MGT-502/.conda/lib/python3.11/site-packages (from requests->folium) (3.10)\n",
      "Requirement already satisfied: urllib3<3,>=1.21.1 in /Users/nadegelan/MGT-502/.conda/lib/python3.11/site-packages (from requests->folium) (2.3.0)\n",
      "Requirement already satisfied: certifi>=2017.4.17 in /Users/nadegelan/MGT-502/.conda/lib/python3.11/site-packages (from requests->folium) (2025.1.31)\n",
      "Note: you may need to restart the kernel to use updated packages.\n"
     ]
    }
   ],
   "source": [
    "pip install folium"
   ]
  },
  {
   "cell_type": "code",
   "execution_count": 3,
   "metadata": {},
   "outputs": [],
   "source": [
    "import pandas as pd\n",
    "import numpy as np\n",
    "import matplotlib.pyplot as plt\n",
    "import seaborn as sns\n",
    "import folium\n",
    "from ortools.constraint_solver import routing_enums_pb2\n",
    "from ortools.constraint_solver import pywrapcp\n",
    "import matplotlib.colors as mcolors"
   ]
  },
  {
   "cell_type": "code",
   "execution_count": 5,
   "metadata": {},
   "outputs": [],
   "source": [
    "repo_url = 'https://raw.githubusercontent.com/baertsch/MGT-530-SLO/main/'\n",
    "vehicle_matrix = pd.read_excel(repo_url + 'data/vhc_matrix_city_excluded.xlsx')\n",
    "vehicle_matrix = vehicle_matrix.iloc[0:, :1]\n",
    "vehicle_matrix\n",
    "v = vehicle_matrix.values.tolist()\n",
    "v = [item[0] for item in v]\n",
    "full_data = pd.read_csv(repo_url + 'data/full_data.csv')"
   ]
  }
 ],
 "metadata": {
  "kernelspec": {
   "display_name": "Python 3",
   "language": "python",
   "name": "python3"
  },
  "language_info": {
   "codemirror_mode": {
    "name": "ipython",
    "version": 3
   },
   "file_extension": ".py",
   "mimetype": "text/x-python",
   "name": "python",
   "nbconvert_exporter": "python",
   "pygments_lexer": "ipython3",
   "version": "3.11.11"
  }
 },
 "nbformat": 4,
 "nbformat_minor": 2
}
