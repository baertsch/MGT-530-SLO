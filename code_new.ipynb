{
 "cells": [
  {
   "cell_type": "markdown",
   "metadata": {},
   "source": [
    "# Real model"
   ]
  },
  {
   "cell_type": "code",
   "execution_count": 1,
   "metadata": {},
   "outputs": [
    {
     "name": "stdout",
     "output_type": "stream",
     "text": [
      "Requirement already satisfied: ortools in /Users/zeliadecaillet/anaconda3/lib/python3.11/site-packages (9.12.4544)\n",
      "Requirement already satisfied: absl-py>=2.0.0 in /Users/zeliadecaillet/anaconda3/lib/python3.11/site-packages (from ortools) (2.1.0)\n",
      "Requirement already satisfied: numpy>=1.13.3 in /Users/zeliadecaillet/anaconda3/lib/python3.11/site-packages (from ortools) (1.26.4)\n",
      "Requirement already satisfied: pandas>=2.0.0 in /Users/zeliadecaillet/anaconda3/lib/python3.11/site-packages (from ortools) (2.0.3)\n",
      "Requirement already satisfied: protobuf<5.30,>=5.29.3 in /Users/zeliadecaillet/anaconda3/lib/python3.11/site-packages (from ortools) (5.29.4)\n",
      "Requirement already satisfied: immutabledict>=3.0.0 in /Users/zeliadecaillet/anaconda3/lib/python3.11/site-packages (from ortools) (4.2.1)\n",
      "Requirement already satisfied: python-dateutil>=2.8.2 in /Users/zeliadecaillet/anaconda3/lib/python3.11/site-packages (from pandas>=2.0.0->ortools) (2.8.2)\n",
      "Requirement already satisfied: pytz>=2020.1 in /Users/zeliadecaillet/anaconda3/lib/python3.11/site-packages (from pandas>=2.0.0->ortools) (2023.3.post1)\n",
      "Requirement already satisfied: tzdata>=2022.1 in /Users/zeliadecaillet/anaconda3/lib/python3.11/site-packages (from pandas>=2.0.0->ortools) (2023.3)\n",
      "Requirement already satisfied: six>=1.5 in /Users/zeliadecaillet/anaconda3/lib/python3.11/site-packages (from python-dateutil>=2.8.2->pandas>=2.0.0->ortools) (1.16.0)\n",
      "\n",
      "\u001b[1m[\u001b[0m\u001b[34;49mnotice\u001b[0m\u001b[1;39;49m]\u001b[0m\u001b[39;49m A new release of pip is available: \u001b[0m\u001b[31;49m25.0.1\u001b[0m\u001b[39;49m -> \u001b[0m\u001b[32;49m25.1.1\u001b[0m\n",
      "\u001b[1m[\u001b[0m\u001b[34;49mnotice\u001b[0m\u001b[1;39;49m]\u001b[0m\u001b[39;49m To update, run: \u001b[0m\u001b[32;49mpip install --upgrade pip\u001b[0m\n",
      "Note: you may need to restart the kernel to use updated packages.\n"
     ]
    }
   ],
   "source": [
    "pip install ortools"
   ]
  },
  {
   "cell_type": "code",
   "execution_count": 2,
   "metadata": {},
   "outputs": [],
   "source": [
    "import pandas as pd\n",
    "import numpy as np\n",
    "import matplotlib.pyplot as plt\n",
    "import seaborn as sns\n",
    "from ortools.constraint_solver import routing_enums_pb2\n",
    "from ortools.constraint_solver import pywrapcp"
   ]
  },
  {
   "cell_type": "code",
   "execution_count": 3,
   "metadata": {},
   "outputs": [],
   "source": [
    "repo_url = 'https://raw.githubusercontent.com/baertsch/MGT-530-SLO/main/'"
   ]
  },
  {
   "cell_type": "code",
   "execution_count": 4,
   "metadata": {},
   "outputs": [
    {
     "data": {
      "text/html": [
       "<div>\n",
       "<style scoped>\n",
       "    .dataframe tbody tr th:only-of-type {\n",
       "        vertical-align: middle;\n",
       "    }\n",
       "\n",
       "    .dataframe tbody tr th {\n",
       "        vertical-align: top;\n",
       "    }\n",
       "\n",
       "    .dataframe thead th {\n",
       "        text-align: right;\n",
       "    }\n",
       "</style>\n",
       "<table border=\"1\" class=\"dataframe\">\n",
       "  <thead>\n",
       "    <tr style=\"text-align: right;\">\n",
       "      <th></th>\n",
       "      <th>Places</th>\n",
       "    </tr>\n",
       "  </thead>\n",
       "  <tbody>\n",
       "    <tr>\n",
       "      <th>0</th>\n",
       "      <td>16</td>\n",
       "    </tr>\n",
       "    <tr>\n",
       "      <th>1</th>\n",
       "      <td>91</td>\n",
       "    </tr>\n",
       "    <tr>\n",
       "      <th>2</th>\n",
       "      <td>50</td>\n",
       "    </tr>\n",
       "    <tr>\n",
       "      <th>3</th>\n",
       "      <td>20</td>\n",
       "    </tr>\n",
       "    <tr>\n",
       "      <th>4</th>\n",
       "      <td>127</td>\n",
       "    </tr>\n",
       "    <tr>\n",
       "      <th>5</th>\n",
       "      <td>100</td>\n",
       "    </tr>\n",
       "  </tbody>\n",
       "</table>\n",
       "</div>"
      ],
      "text/plain": [
       "   Places\n",
       "0      16\n",
       "1      91\n",
       "2      50\n",
       "3      20\n",
       "4     127\n",
       "5     100"
      ]
     },
     "execution_count": 4,
     "metadata": {},
     "output_type": "execute_result"
    }
   ],
   "source": [
    "vehicle_matrix = pd.read_excel(repo_url + 'vhc_matrix_city_excluded.xlsx')\n",
    "vehicle_matrix = vehicle_matrix.iloc[0:, :1]\n",
    "vehicle_matrix"
   ]
  },
  {
   "cell_type": "code",
   "execution_count": 5,
   "metadata": {},
   "outputs": [],
   "source": [
    "v = vehicle_matrix.values.tolist()\n",
    "v = [item[0] for item in v]"
   ]
  },
  {
   "cell_type": "code",
   "execution_count": 6,
   "metadata": {},
   "outputs": [],
   "source": [
    "full_data = pd.read_csv(repo_url + 'full_data.csv')"
   ]
  },
  {
   "cell_type": "code",
   "execution_count": 7,
   "metadata": {},
   "outputs": [],
   "source": [
    "d_venoge = full_data[['NPA', 'distance_to_venoge_km']]"
   ]
  },
  {
   "cell_type": "markdown",
   "metadata": {},
   "source": [
    "## Wednesday"
   ]
  },
  {
   "cell_type": "code",
   "execution_count": 8,
   "metadata": {},
   "outputs": [],
   "source": [
    "demand_wed = pd.read_csv(repo_url + 'Tickets_du_Mercredi.csv',header=None)"
   ]
  },
  {
   "cell_type": "markdown",
   "metadata": {},
   "source": [
    "### Distance matrix"
   ]
  },
  {
   "cell_type": "code",
   "execution_count": 9,
   "metadata": {},
   "outputs": [],
   "source": [
    "distance_matrix_wed = pd.read_csv(repo_url + 'data/dm_mercredi.csv',header=None)\n",
    "distance_matrix_wed = distance_matrix_wed.iloc[1:,1:]"
   ]
  },
  {
   "cell_type": "code",
   "execution_count": 10,
   "metadata": {},
   "outputs": [],
   "source": [
    "df = demand_wed.iloc[1:, 2:3]\n",
    "df = df.astype('int64')\n",
    "df = pd.merge(d_venoge, df, left_on='NPA', right_on=2)\n",
    "df = df.iloc[:, 1:2]\n",
    "depot_distances = df.iloc[:, 0].tolist()\n",
    "\n",
    "# Insert depot as first column\n",
    "distance_matrix_wed = distance_matrix_wed.copy()\n",
    "distance_matrix_wed.insert(0, 'Depot', depot_distances)\n",
    "\n",
    "# Insert depot as first row (must match new number of columns)\n",
    "depot_row = [0.0] + depot_distances\n",
    "distance_matrix_wed.loc[-1] = depot_row\n",
    "distance_matrix_wed.index = distance_matrix_wed.index + 1\n",
    "distance_matrix_wed = distance_matrix_wed.sort_index()\n",
    "\n",
    "# Reset column names and index to integers\n",
    "distance_matrix_wed.columns = range(distance_matrix_wed.shape[1])\n",
    "distance_matrix_wed.index = range(distance_matrix_wed.shape[0])"
   ]
  },
  {
   "cell_type": "code",
   "execution_count": 11,
   "metadata": {},
   "outputs": [],
   "source": [
    "dm_wed = distance_matrix_wed.values.tolist()\n",
    "for i in range(len(dm_wed)):\n",
    "    dm_wed[i][i] = 0\n",
    "dm_wed = [[9999 if (isinstance(x, float) and np.isinf(x)) else x for x in row] for row in dm_wed]\n",
    "dm_wed = [[int(float(x)) for x in row] for row in dm_wed]\n"
   ]
  },
  {
   "cell_type": "markdown",
   "metadata": {},
   "source": [
    "### Demand matrix"
   ]
  },
  {
   "cell_type": "code",
   "execution_count": 12,
   "metadata": {},
   "outputs": [],
   "source": [
    "demand_wed = demand_wed.iloc[1:, 4:]"
   ]
  },
  {
   "cell_type": "code",
   "execution_count": 13,
   "metadata": {},
   "outputs": [],
   "source": [
    "d_wed = demand_wed.values.tolist()\n",
    "d_wed = [int(float(item[0])) for item in d_wed]\n",
    "d_wed = [0] + d_wed"
   ]
  },
  {
   "cell_type": "markdown",
   "metadata": {},
   "source": [
    "### Vehicle Matrix"
   ]
  },
  {
   "cell_type": "code",
   "execution_count": 14,
   "metadata": {},
   "outputs": [],
   "source": [
    "v_wed_full = v * len(dm_wed)"
   ]
  },
  {
   "cell_type": "markdown",
   "metadata": {},
   "source": [
    "### CVRP"
   ]
  },
  {
   "cell_type": "code",
   "execution_count": 15,
   "metadata": {},
   "outputs": [],
   "source": [
    "npa_list = pd.read_csv(repo_url + 'Tickets_du_Mercredi.csv', header=None).iloc[1:, 2].reset_index(drop=True).tolist()\n",
    "node_to_npa = [0] + npa_list  # index 0 is depot"
   ]
  },
  {
   "cell_type": "code",
   "execution_count": 16,
   "metadata": {},
   "outputs": [
    {
     "name": "stdout",
     "output_type": "stream",
     "text": [
      "    vehicle_id capacity                                 route  distance_km  \\\n",
      "0            1       91                          [0, 1032, 0]          1.8   \n",
      "1         1660      127  [0, 1299, 1296, 1295, 1291, 1023, 0]         11.0   \n",
      "2         1661      100                          [0, 1304, 0]          0.8   \n",
      "3         1666      127              [0, 1275, 1297, 1004, 0]         12.4   \n",
      "4         1667      100                          [0, 1304, 0]          0.8   \n",
      "..         ...      ...                                   ...          ...   \n",
      "151       1981       91                    [0, 1034, 1376, 0]          2.1   \n",
      "152       1982       50                          [0, 1305, 0]          0.4   \n",
      "153       1984      127              [0, 1062, 1063, 1041, 0]          4.4   \n",
      "154       1985      100                          [0, 1304, 0]          0.8   \n",
      "155      Total                                                       603.0   \n",
      "\n",
      "      load  \n",
      "0       77  \n",
      "1      127  \n",
      "2      100  \n",
      "3      125  \n",
      "4      100  \n",
      "..     ...  \n",
      "151     91  \n",
      "152     37  \n",
      "153    126  \n",
      "154    100  \n",
      "155  14814  \n",
      "\n",
      "[156 rows x 5 columns]\n"
     ]
    }
   ],
   "source": [
    "def create_data_model(subset_distance_matrix, subset_demands, capacities):\n",
    "    \"\"\"Stores the data for the problem.\"\"\"\n",
    "    data = {}\n",
    "    # Data multiplied by a factor of 10 to avoid non-integer numbers\n",
    "    data['distance_matrix'] = subset_distance_matrix\n",
    "    data['demands'] = subset_demands\n",
    "    data['vehicle_capacities'] = capacities\n",
    "    data['num_vehicles'] = len(capacities)\n",
    "    data['depot'] = 0\n",
    "    return data\n",
    "\n",
    "\n",
    "def print_solution(data, manager, routing, solution):\n",
    "    \"\"\"Collects solution in a DataFrame for easy CSV export, with NPA in route.\"\"\"\n",
    "    results = []\n",
    "    total_distance = 0\n",
    "    total_load = 0\n",
    "    unused_vehicles = []\n",
    "\n",
    "    for vehicle_id in range(data['num_vehicles']):\n",
    "        index = routing.Start(vehicle_id)\n",
    "        route_distance = 0\n",
    "        route_load = 0\n",
    "        route = []\n",
    "        capacity = data['vehicle_capacities'][vehicle_id]\n",
    "\n",
    "        while not routing.IsEnd(index):\n",
    "            node_index = manager.IndexToNode(index)\n",
    "            demand = data['demands'][node_index]\n",
    "            route_load += demand\n",
    "            route.append(node_to_npa[node_index])\n",
    "            previous_index = index\n",
    "            index = solution.Value(routing.NextVar(index))\n",
    "            route_distance += routing.GetArcCostForVehicle(previous_index, index, vehicle_id)\n",
    "\n",
    "        end_node = manager.IndexToNode(index)\n",
    "        route.append(node_to_npa[end_node])\n",
    "\n",
    "        if route_load == 0:\n",
    "            unused_vehicles.append(vehicle_id)\n",
    "            continue  # Skip empty routes\n",
    "\n",
    "        results.append({\n",
    "            \"vehicle_id\": vehicle_id,\n",
    "            \"capacity\": capacity,\n",
    "            \"route\": route,\n",
    "            \"distance_km\": route_distance / 10,\n",
    "            \"load\": route_load,\n",
    "        })\n",
    "\n",
    "        total_distance += route_distance\n",
    "        total_load += route_load\n",
    "\n",
    "    # Add summary row\n",
    "    results.append({\n",
    "        \"vehicle_id\": \"Total\",\n",
    "        \"capacity\": \"\",\n",
    "        \"route\": \"\",\n",
    "        \"distance_km\": total_distance / 10,\n",
    "        \"load\": total_load,\n",
    "    })\n",
    "\n",
    "    df_results = pd.DataFrame(results)\n",
    "    print(df_results)\n",
    "    return df_results\n",
    "\n",
    "def main():\n",
    "    \"\"\"Solve the CVRP problem.\"\"\"\n",
    "\n",
    "    # Instantiate the data problem.\n",
    "    data = create_data_model(subset_distance_matrix= dm_wed, subset_demands=d_wed, capacities=v_wed_full)\n",
    "    # Create the routing index manager.\n",
    "    manager = pywrapcp.RoutingIndexManager(len(data['distance_matrix']),\n",
    "                                           data['num_vehicles'], data['depot'])\n",
    "\n",
    "    # Create Routing Model.\n",
    "    routing = pywrapcp.RoutingModel(manager)\n",
    "\n",
    "\n",
    "    # Create and register a transit callback.\n",
    "    def distance_callback(from_index, to_index):\n",
    "        \"\"\"Returns the distance between the two nodes.\"\"\"\n",
    "        # Convert from routing variable Index to distance matrix NodeIndex.\n",
    "        from_node = manager.IndexToNode(from_index)\n",
    "        to_node = manager.IndexToNode(to_index)\n",
    "        return data['distance_matrix'][from_node][to_node]\n",
    "\n",
    "    transit_callback_index = routing.RegisterTransitCallback(distance_callback)\n",
    "\n",
    "    # Define cost of each arc.\n",
    "    routing.SetArcCostEvaluatorOfAllVehicles(transit_callback_index)\n",
    "\n",
    "\n",
    "    # Add Capacity constraint.\n",
    "    def demand_callback(from_index):\n",
    "        \"\"\"Returns the demand of the node.\"\"\"\n",
    "        # Convert from routing variable Index to demands NodeIndex.\n",
    "        from_node = manager.IndexToNode(from_index)\n",
    "        return data['demands'][from_node]\n",
    "\n",
    "    demand_callback_index = routing.RegisterUnaryTransitCallback(\n",
    "        demand_callback)\n",
    "    routing.AddDimensionWithVehicleCapacity(\n",
    "        demand_callback_index,\n",
    "        0,  # null capacity slack\n",
    "        data['vehicle_capacities'],  # vehicle maximum capacities\n",
    "        True,  # start cumul to zero\n",
    "        'Capacity')\n",
    "\n",
    "\n",
    "\n",
    "    # Complete here\n",
    "    seach_parameters = pywrapcp.DefaultRoutingSearchParameters()\n",
    "    seach_parameters.first_solution_strategy = (\n",
    "        routing_enums_pb2.FirstSolutionStrategy.PATH_CHEAPEST_ARC)\n",
    "    \n",
    "    solution = routing.SolveWithParameters(seach_parameters)\n",
    "\n",
    "    if solution:\n",
    "        print_solution(data, manager, routing, solution)\n",
    "\n",
    "\n",
    "main()"
   ]
  },
  {
   "cell_type": "markdown",
   "metadata": {},
   "source": [
    "## Thursday"
   ]
  },
  {
   "cell_type": "code",
   "execution_count": 17,
   "metadata": {},
   "outputs": [],
   "source": [
    "demand_thur = pd.read_csv(repo_url + 'Tickets_du_Jeudi.csv',header=None)"
   ]
  },
  {
   "cell_type": "markdown",
   "metadata": {},
   "source": [
    "### Distance Matrix"
   ]
  },
  {
   "cell_type": "code",
   "execution_count": 18,
   "metadata": {},
   "outputs": [],
   "source": [
    "distance_matrix_thur = pd.read_csv(repo_url + 'data/dm_jeudi.csv',header=None)\n",
    "distance_matrix_thur = distance_matrix_thur.iloc[1:,1:]"
   ]
  },
  {
   "cell_type": "code",
   "execution_count": 19,
   "metadata": {},
   "outputs": [],
   "source": [
    "df = demand_thur.iloc[1:, 2:3]\n",
    "df = df.astype('int64')\n",
    "df = pd.merge(d_venoge, df, left_on='NPA', right_on=2)\n",
    "df = df.iloc[:, 1:2]\n",
    "depot_distances = df.iloc[:, 0].tolist()\n",
    "\n",
    "# Insert depot as first column\n",
    "distance_matrix_thur = distance_matrix_thur.copy()\n",
    "distance_matrix_thur.insert(0, 'Depot', depot_distances)\n",
    "\n",
    "# Insert depot as first row (must match new number of columns)\n",
    "depot_row = [0.0] + depot_distances\n",
    "distance_matrix_thur.loc[-1] = depot_row\n",
    "distance_matrix_thur.index = distance_matrix_thur.index + 1\n",
    "distance_matrix_thur = distance_matrix_thur.sort_index()\n",
    "\n",
    "# Reset column names and index to integers\n",
    "distance_matrix_thur.columns = range(distance_matrix_thur.shape[1])\n",
    "distance_matrix_thur.index = range(distance_matrix_thur.shape[0])"
   ]
  },
  {
   "cell_type": "code",
   "execution_count": 20,
   "metadata": {},
   "outputs": [],
   "source": [
    "dm_thur = distance_matrix_thur.values.tolist()\n",
    "for i in range(len(dm_thur)):\n",
    "    dm_thur[i][i] = 0\n",
    "dm_thur = [[9999 if (isinstance(x, float) and np.isinf(x)) else x for x in row] for row in dm_thur]\n",
    "dm_thur = [[int(float(x)) for x in row] for row in dm_thur]"
   ]
  },
  {
   "cell_type": "markdown",
   "metadata": {},
   "source": [
    "### Demand Matrix"
   ]
  },
  {
   "cell_type": "code",
   "execution_count": 21,
   "metadata": {},
   "outputs": [],
   "source": [
    "demand_thur = demand_thur.iloc[1:, 4:]"
   ]
  },
  {
   "cell_type": "code",
   "execution_count": 22,
   "metadata": {},
   "outputs": [],
   "source": [
    "d_thur = demand_thur.values.tolist()\n",
    "d_thur = [int(float(item[0])) for item in d_thur]\n",
    "d_thur = [0] + d_thur"
   ]
  },
  {
   "cell_type": "markdown",
   "metadata": {},
   "source": [
    "### Vehicule Matrix"
   ]
  },
  {
   "cell_type": "code",
   "execution_count": 23,
   "metadata": {},
   "outputs": [],
   "source": [
    "v_thur_full = v * len(dm_thur)"
   ]
  },
  {
   "cell_type": "markdown",
   "metadata": {},
   "source": [
    "### CVRP"
   ]
  },
  {
   "cell_type": "code",
   "execution_count": 24,
   "metadata": {},
   "outputs": [],
   "source": [
    "npa_list = pd.read_csv(repo_url + 'Tickets_du_Jeudi.csv', header=None).iloc[1:, 2].reset_index(drop=True).tolist()\n",
    "node_to_npa = [0] + npa_list  # index 0 is depot"
   ]
  },
  {
   "cell_type": "code",
   "execution_count": 25,
   "metadata": {},
   "outputs": [
    {
     "name": "stdout",
     "output_type": "stream",
     "text": [
      "    vehicle_id capacity                                             route  \\\n",
      "0            1       91                                [0, 1303, 1035, 0]   \n",
      "1            4      127                    [0, 1061, 1515, 1514, 1052, 0]   \n",
      "2           10      127                                      [0, 1304, 0]   \n",
      "3         1468      127  [0, 1846, 1882, 1885, 1820, 1822, 1817, 1018, 0]   \n",
      "4         1469      100                                      [0, 1304, 0]   \n",
      "..         ...      ...                                               ...   \n",
      "110       1663       91                                [0, 1306, 1377, 0]   \n",
      "111       1664       50              [0, 1307, 1352, 1354, 1439, 1313, 0]   \n",
      "112       1666      127                          [0, 1443, 1063, 1033, 0]   \n",
      "113       1667      100                                      [0, 1304, 0]   \n",
      "114      Total                                                              \n",
      "\n",
      "     distance_km   load  \n",
      "0            0.5     88  \n",
      "1            7.1    125  \n",
      "2            0.8    100  \n",
      "3           16.3    127  \n",
      "4            0.8    100  \n",
      "..           ...    ...  \n",
      "110          1.4     86  \n",
      "111          5.6     46  \n",
      "112          7.6    127  \n",
      "113          0.8    100  \n",
      "114        554.5  10467  \n",
      "\n",
      "[115 rows x 5 columns]\n"
     ]
    }
   ],
   "source": [
    "def main():\n",
    "    \"\"\"Solve the CVRP problem.\"\"\"\n",
    "\n",
    "    # Instantiate the data problem.\n",
    "    data = create_data_model(subset_distance_matrix= dm_thur, subset_demands=d_thur, capacities=v_thur_full)\n",
    "    # Create the routing index manager.\n",
    "    manager = pywrapcp.RoutingIndexManager(len(data['distance_matrix']),\n",
    "                                           data['num_vehicles'], data['depot'])\n",
    "\n",
    "    # Create Routing Model.\n",
    "    routing = pywrapcp.RoutingModel(manager)\n",
    "\n",
    "\n",
    "    # Create and register a transit callback.\n",
    "    def distance_callback(from_index, to_index):\n",
    "        \"\"\"Returns the distance between the two nodes.\"\"\"\n",
    "        # Convert from routing variable Index to distance matrix NodeIndex.\n",
    "        from_node = manager.IndexToNode(from_index)\n",
    "        to_node = manager.IndexToNode(to_index)\n",
    "        return data['distance_matrix'][from_node][to_node]\n",
    "\n",
    "    transit_callback_index = routing.RegisterTransitCallback(distance_callback)\n",
    "\n",
    "    # Define cost of each arc.\n",
    "    routing.SetArcCostEvaluatorOfAllVehicles(transit_callback_index)\n",
    "\n",
    "\n",
    "    # Add Capacity constraint.\n",
    "    def demand_callback(from_index):\n",
    "        \"\"\"Returns the demand of the node.\"\"\"\n",
    "        # Convert from routing variable Index to demands NodeIndex.\n",
    "        from_node = manager.IndexToNode(from_index)\n",
    "        return data['demands'][from_node]\n",
    "\n",
    "    demand_callback_index = routing.RegisterUnaryTransitCallback(\n",
    "        demand_callback)\n",
    "    routing.AddDimensionWithVehicleCapacity(\n",
    "        demand_callback_index,\n",
    "        0,  # null capacity slack\n",
    "        data['vehicle_capacities'],  # vehicle maximum capacities\n",
    "        True,  # start cumul to zero\n",
    "        'Capacity')\n",
    "\n",
    "\n",
    "\n",
    "    # Complete here\n",
    "    seach_parameters = pywrapcp.DefaultRoutingSearchParameters()\n",
    "    seach_parameters.first_solution_strategy = (\n",
    "        routing_enums_pb2.FirstSolutionStrategy.PATH_CHEAPEST_ARC)\n",
    "    \n",
    "    solution = routing.SolveWithParameters(seach_parameters)\n",
    "\n",
    "    if solution:\n",
    "        print_solution(data, manager, routing, solution)\n",
    "\n",
    "\n",
    "main()"
   ]
  },
  {
   "cell_type": "markdown",
   "metadata": {},
   "source": [
    "## Friday"
   ]
  },
  {
   "cell_type": "code",
   "execution_count": 26,
   "metadata": {},
   "outputs": [],
   "source": [
    "demand_fri = pd.read_csv(repo_url + 'Tickets_du_Vendredi.csv',header=None)"
   ]
  },
  {
   "cell_type": "markdown",
   "metadata": {},
   "source": [
    "### Distance Matrix"
   ]
  },
  {
   "cell_type": "code",
   "execution_count": 27,
   "metadata": {},
   "outputs": [],
   "source": [
    "distance_matrix_fri = pd.read_csv(repo_url + 'data/dm_vendredi.csv',header=None)\n",
    "distance_matrix_fri = distance_matrix_fri.iloc[1:,1:]"
   ]
  },
  {
   "cell_type": "code",
   "execution_count": 28,
   "metadata": {},
   "outputs": [],
   "source": [
    "df = demand_fri.iloc[1:, 2:3]\n",
    "df = df.astype('int64')\n",
    "df = pd.merge(d_venoge, df, left_on='NPA', right_on=2)\n",
    "df = df.iloc[:, 1:2]\n",
    "depot_distances = df.iloc[:, 0].tolist()\n",
    "\n",
    "# Insert depot as first column\n",
    "distance_matrix_fri = distance_matrix_fri.copy()\n",
    "distance_matrix_fri.insert(0, 'Depot', depot_distances)\n",
    "\n",
    "# Insert depot as first row (must match new number of columns)\n",
    "depot_row = [0.0] + depot_distances\n",
    "distance_matrix_fri.loc[-1] = depot_row\n",
    "distance_matrix_fri.index = distance_matrix_fri.index + 1\n",
    "distance_matrix_fri = distance_matrix_fri.sort_index()\n",
    "\n",
    "# Reset column names and index to integers\n",
    "distance_matrix_fri.columns = range(distance_matrix_fri.shape[1])\n",
    "distance_matrix_fri.index = range(distance_matrix_fri.shape[0])"
   ]
  },
  {
   "cell_type": "code",
   "execution_count": 29,
   "metadata": {},
   "outputs": [],
   "source": [
    "dm_fri = distance_matrix_fri.values.tolist()\n",
    "for i in range(len(dm_fri)):\n",
    "    dm_fri[i][i] = 0\n",
    "dm_fri = [[9999 if (isinstance(x, float) and np.isinf(x)) else x for x in row] for row in dm_fri]\n",
    "dm_fri = [[int(float(x)) for x in row] for row in dm_fri]"
   ]
  },
  {
   "cell_type": "markdown",
   "metadata": {},
   "source": [
    "## Demand Matrix"
   ]
  },
  {
   "cell_type": "code",
   "execution_count": 30,
   "metadata": {},
   "outputs": [],
   "source": [
    "demand_fri = demand_fri.iloc[1:, 4:]"
   ]
  },
  {
   "cell_type": "code",
   "execution_count": 31,
   "metadata": {},
   "outputs": [],
   "source": [
    "d_fri = demand_fri.values.tolist()\n",
    "d_fri = [int(float(item[0])) for item in d_fri]\n",
    "d_fri = [0] + d_fri"
   ]
  },
  {
   "cell_type": "markdown",
   "metadata": {},
   "source": [
    "### Vehicule Matrix"
   ]
  },
  {
   "cell_type": "code",
   "execution_count": 32,
   "metadata": {},
   "outputs": [],
   "source": [
    "v_fri_full = v * len(dm_fri)"
   ]
  },
  {
   "cell_type": "markdown",
   "metadata": {},
   "source": [
    "### CVRP"
   ]
  },
  {
   "cell_type": "code",
   "execution_count": 33,
   "metadata": {},
   "outputs": [],
   "source": [
    "npa_list = pd.read_csv(repo_url + 'Tickets_du_Vendredi.csv', header=None).iloc[1:, 2].reset_index(drop=True).tolist()\n",
    "node_to_npa = [0] + npa_list  # index 0 is depot"
   ]
  },
  {
   "cell_type": "code",
   "execution_count": 34,
   "metadata": {},
   "outputs": [
    {
     "name": "stdout",
     "output_type": "stream",
     "text": [
      "   vehicle_id capacity                                              route  \\\n",
      "0           0       16                                       [0, 1072, 0]   \n",
      "1           1       91  [0, 1412, 1404, 1462, 1463, 1545, 1589, 1586, ...   \n",
      "2        1295      100                                       [0, 1304, 0]   \n",
      "3        1300      127                           [0, 1588, 1083, 1033, 0]   \n",
      "4        1301      100                                       [0, 1304, 0]   \n",
      "..        ...      ...                                                ...   \n",
      "80       1435       91  [0, 1184, 1274, 1262, 1296, 1295, 1290, 1263, ...   \n",
      "81       1436       50                                       [0, 1306, 0]   \n",
      "82       1438      127                                 [0, 1303, 1031, 0]   \n",
      "83       1439      100                                       [0, 1304, 0]   \n",
      "84      Total                                                               \n",
      "\n",
      "    distance_km  load  \n",
      "0           5.0    13  \n",
      "1          14.8    91  \n",
      "2           0.8   100  \n",
      "3          14.9   127  \n",
      "4           0.8   100  \n",
      "..          ...   ...  \n",
      "80         13.2    91  \n",
      "81          0.6    46  \n",
      "82          0.7   117  \n",
      "83          0.8   100  \n",
      "84        360.1  7600  \n",
      "\n",
      "[85 rows x 5 columns]\n"
     ]
    }
   ],
   "source": [
    "def main():\n",
    "    \"\"\"Solve the CVRP problem.\"\"\"\n",
    "\n",
    "    # Instantiate the data problem.\n",
    "    data = create_data_model(subset_distance_matrix= dm_fri, subset_demands=d_fri, capacities=v_fri_full)\n",
    "    # Create the routing index manager.\n",
    "    manager = pywrapcp.RoutingIndexManager(len(data['distance_matrix']),\n",
    "                                           data['num_vehicles'], data['depot'])\n",
    "\n",
    "    # Create Routing Model.\n",
    "    routing = pywrapcp.RoutingModel(manager)\n",
    "\n",
    "\n",
    "    # Create and register a transit callback.\n",
    "    def distance_callback(from_index, to_index):\n",
    "        \"\"\"Returns the distance between the two nodes.\"\"\"\n",
    "        # Convert from routing variable Index to distance matrix NodeIndex.\n",
    "        from_node = manager.IndexToNode(from_index)\n",
    "        to_node = manager.IndexToNode(to_index)\n",
    "        return data['distance_matrix'][from_node][to_node]\n",
    "\n",
    "    transit_callback_index = routing.RegisterTransitCallback(distance_callback)\n",
    "\n",
    "    # Define cost of each arc.\n",
    "    routing.SetArcCostEvaluatorOfAllVehicles(transit_callback_index)\n",
    "\n",
    "\n",
    "    # Add Capacity constraint.\n",
    "    def demand_callback(from_index):\n",
    "        \"\"\"Returns the demand of the node.\"\"\"\n",
    "        # Convert from routing variable Index to demands NodeIndex.\n",
    "        from_node = manager.IndexToNode(from_index)\n",
    "        return data['demands'][from_node]\n",
    "\n",
    "    demand_callback_index = routing.RegisterUnaryTransitCallback(\n",
    "        demand_callback)\n",
    "    routing.AddDimensionWithVehicleCapacity(\n",
    "        demand_callback_index,\n",
    "        0,  # null capacity slack\n",
    "        data['vehicle_capacities'],  # vehicle maximum capacities\n",
    "        True,  # start cumul to zero\n",
    "        'Capacity')\n",
    "\n",
    "\n",
    "\n",
    "    # Complete here\n",
    "    seach_parameters = pywrapcp.DefaultRoutingSearchParameters()\n",
    "    seach_parameters.first_solution_strategy = (\n",
    "        routing_enums_pb2.FirstSolutionStrategy.PATH_CHEAPEST_ARC)\n",
    "    \n",
    "    solution = routing.SolveWithParameters(seach_parameters)\n",
    "\n",
    "    if solution:\n",
    "        print_solution(data, manager, routing, solution)\n",
    "\n",
    "\n",
    "main()"
   ]
  },
  {
   "cell_type": "markdown",
   "metadata": {},
   "source": [
    "## Saturday"
   ]
  },
  {
   "cell_type": "code",
   "execution_count": 35,
   "metadata": {},
   "outputs": [],
   "source": [
    "demand_sat = pd.read_csv(repo_url + 'Tickets_du_Samedi.csv',header=None)"
   ]
  },
  {
   "cell_type": "markdown",
   "metadata": {},
   "source": [
    "### Distance Matrix"
   ]
  },
  {
   "cell_type": "code",
   "execution_count": 36,
   "metadata": {},
   "outputs": [],
   "source": [
    "distance_matrix_sat = pd.read_csv(repo_url + 'data/dm_samedi.csv',header=None)\n",
    "distance_matrix_sat = distance_matrix_sat.iloc[1:,1:]"
   ]
  },
  {
   "cell_type": "code",
   "execution_count": 37,
   "metadata": {},
   "outputs": [],
   "source": [
    "df = demand_sat.iloc[1:, 2:3]\n",
    "df = df.astype('int64')\n",
    "df = pd.merge(d_venoge, df, left_on='NPA', right_on=2)\n",
    "df = df.iloc[:, 1:2]\n",
    "depot_distances = df.iloc[:, 0].tolist()\n",
    "\n",
    "# Insert depot as first column\n",
    "distance_matrix_sat = distance_matrix_sat.copy()\n",
    "distance_matrix_sat.insert(0, 'Depot', depot_distances)\n",
    "\n",
    "# Insert depot as first row (must match new number of columns)\n",
    "depot_row = [0.0] + depot_distances\n",
    "distance_matrix_sat.loc[-1] = depot_row\n",
    "distance_matrix_sat.index = distance_matrix_sat.index + 1\n",
    "distance_matrix_sat = distance_matrix_sat.sort_index()\n",
    "\n",
    "# Reset column names and index to integers\n",
    "distance_matrix_sat.columns = range(distance_matrix_sat.shape[1])\n",
    "distance_matrix_sat.index = range(distance_matrix_sat.shape[0])"
   ]
  },
  {
   "cell_type": "code",
   "execution_count": 38,
   "metadata": {},
   "outputs": [],
   "source": [
    "dm_sat = distance_matrix_sat.values.tolist()\n",
    "for i in range(len(dm_sat)):\n",
    "    dm_sat[i][i] = 0\n",
    "dm_sat = [[9999 if (isinstance(x, float) and np.isinf(x)) else x for x in row] for row in dm_sat]\n",
    "dm_sat = [[int(float(x)) for x in row] for row in dm_sat]"
   ]
  },
  {
   "cell_type": "markdown",
   "metadata": {},
   "source": [
    "### Demand Matrix"
   ]
  },
  {
   "cell_type": "code",
   "execution_count": 39,
   "metadata": {},
   "outputs": [],
   "source": [
    "demand_sat = demand_sat.iloc[1:, 4:]"
   ]
  },
  {
   "cell_type": "code",
   "execution_count": 40,
   "metadata": {},
   "outputs": [],
   "source": [
    "d_sat = demand_sat.values.tolist()\n",
    "d_sat = [int(float(item[0])) for item in d_sat]\n",
    "d_sat = [0] + d_sat"
   ]
  },
  {
   "cell_type": "markdown",
   "metadata": {},
   "source": [
    "### Vehicule Matrix"
   ]
  },
  {
   "cell_type": "code",
   "execution_count": 41,
   "metadata": {},
   "outputs": [],
   "source": [
    "v_sat_full = v * len(dm_sat)"
   ]
  },
  {
   "cell_type": "markdown",
   "metadata": {},
   "source": [
    "### CVRP"
   ]
  },
  {
   "cell_type": "code",
   "execution_count": 42,
   "metadata": {},
   "outputs": [],
   "source": [
    "npa_list = pd.read_csv(repo_url + 'Tickets_du_Samedi.csv', header=None).iloc[1:, 2].reset_index(drop=True).tolist()\n",
    "node_to_npa = [0] + npa_list  # index 0 is depot"
   ]
  },
  {
   "cell_type": "code",
   "execution_count": 55,
   "metadata": {},
   "outputs": [
    {
     "name": "stdout",
     "output_type": "stream",
     "text": [
      "   vehicle_id capacity                           route  distance_km  load\n",
      "0           1       91  [0, 1307, 1066, 1055, 1121, 0]          5.8    89\n",
      "1           4      127  [0, 1304, 1053, 1052, 1029, 0]          6.1   124\n",
      "2           5      100                    [0, 1304, 0]          0.8   100\n",
      "3        1319      100                    [0, 1304, 0]          0.8   100\n",
      "4        1324      127  [0, 1173, 1071, 1354, 1304, 0]          7.9   124\n",
      "..        ...      ...                             ...          ...   ...\n",
      "93       1489       91                    [0, 1305, 0]          0.4    91\n",
      "94       1490       50                    [0, 1304, 0]          2.2    40\n",
      "95       1492      127  [0, 1435, 1052, 1377, 1304, 0]          6.3   127\n",
      "96       1493      100                    [0, 1303, 0]          0.0    92\n",
      "97      Total                                                 451.1  9075\n",
      "\n",
      "[98 rows x 5 columns]\n"
     ]
    }
   ],
   "source": [
    "def main():\n",
    "    \"\"\"Solve the CVRP problem.\"\"\"\n",
    "\n",
    "    # Instantiate the data problem.\n",
    "    data = create_data_model(subset_distance_matrix= dm_sat, subset_demands=d_sat, capacities=v_sat_full)\n",
    "    # Create the routing index manager.\n",
    "    manager = pywrapcp.RoutingIndexManager(len(data['distance_matrix']),\n",
    "                                           data['num_vehicles'], data['depot'])\n",
    "\n",
    "    # Create Routing Model.\n",
    "    routing = pywrapcp.RoutingModel(manager)\n",
    "\n",
    "\n",
    "    # Create and register a transit callback.\n",
    "    def distance_callback(from_index, to_index):\n",
    "        \"\"\"Returns the distance between the two nodes.\"\"\"\n",
    "        # Convert from routing variable Index to distance matrix NodeIndex.\n",
    "        from_node = manager.IndexToNode(from_index)\n",
    "        to_node = manager.IndexToNode(to_index)\n",
    "        return data['distance_matrix'][from_node][to_node]\n",
    "\n",
    "    transit_callback_index = routing.RegisterTransitCallback(distance_callback)\n",
    "\n",
    "    # Define cost of each arc.\n",
    "    routing.SetArcCostEvaluatorOfAllVehicles(transit_callback_index)\n",
    "\n",
    "\n",
    "    # Add Capacity constraint.\n",
    "    def demand_callback(from_index):\n",
    "        \"\"\"Returns the demand of the node.\"\"\"\n",
    "        # Convert from routing variable Index to demands NodeIndex.\n",
    "        from_node = manager.IndexToNode(from_index)\n",
    "        return data['demands'][from_node]\n",
    "\n",
    "    demand_callback_index = routing.RegisterUnaryTransitCallback(\n",
    "        demand_callback)\n",
    "    routing.AddDimensionWithVehicleCapacity(\n",
    "        demand_callback_index,\n",
    "        0,  # null capacity slack\n",
    "        data['vehicle_capacities'],  # vehicle maximum capacities\n",
    "        True,  # start cumul to zero\n",
    "        'Capacity')\n",
    "\n",
    "\n",
    "\n",
    "    # Complete here\n",
    "    seach_parameters = pywrapcp.DefaultRoutingSearchParameters()\n",
    "    seach_parameters.first_solution_strategy = (\n",
    "        routing_enums_pb2.FirstSolutionStrategy.PATH_CHEAPEST_ARC)\n",
    "    \n",
    "    solution = routing.SolveWithParameters(seach_parameters)\n",
    "\n",
    "    if solution:\n",
    "        print_solution(data, manager, routing, solution)\n",
    "\n",
    "\n",
    "main()"
   ]
  }
 ],
 "metadata": {
  "kernelspec": {
   "display_name": "base",
   "language": "python",
   "name": "python3"
  },
  "language_info": {
   "codemirror_mode": {
    "name": "ipython",
    "version": 3
   },
   "file_extension": ".py",
   "mimetype": "text/x-python",
   "name": "python",
   "nbconvert_exporter": "python",
   "pygments_lexer": "ipython3",
   "version": "3.11.5"
  }
 },
 "nbformat": 4,
 "nbformat_minor": 2
}
